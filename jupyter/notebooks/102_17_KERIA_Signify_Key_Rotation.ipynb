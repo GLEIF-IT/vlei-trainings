{
 "cells": [
  {
   "cell_type": "markdown",
   "id": "c7c43fda-ee5a-4f93-8fbb-9f842a0c0825",
   "metadata": {
    "editable": false,
    "slideshow": {
     "slide_type": ""
    },
    "tags": []
   },
   "source": [
    "# Signify TS: Key Rotation\n",
    "\n",
    "<div class=\"alert alert-primary\">\n",
    "<b>🎯 OBJECTIVE</b><hr>\n",
    "This notebook demonstrates how to perform a single-signature key rotation for an Autonomic Identifier (AID) using the Signify TS library. \n",
    "</ul>\n",
    "</div>"
   ]
  },
  {
   "cell_type": "markdown",
   "id": "81a13a74-a175-4a08-bf07-aebc7a8bdeee",
   "metadata": {
    "editable": false,
    "slideshow": {
     "slide_type": ""
    },
    "tags": []
   },
   "source": [
    "## Introduction to Key Rotation with Signify TS\n",
    "\n",
    "Key rotation is a fundamental security practice in KERI. It involves changing the cryptographic keys associated with an AID while preserving the identifier itself. This allows an identity to remain stable and persistent over time, even as its underlying keys are updated for security reasons (e.g., to mitigate key compromise or to upgrade cryptographic algorithms).\n",
    "\n",
    "In the KERIA/Signify architecture, the client (your application using Signify TS) initiates and signs the rotation event. The KERIA agent then handles the dissemination of this event to witnesses and makes it available to others. This notebook illustrates the end-to-end process, showing how a rotation is performed by one client and observed by another."
   ]
  },
  {
   "cell_type": "markdown",
   "id": "8a4286a8-cceb-4e99-8df8-91b902b1481d",
   "metadata": {
    "editable": false,
    "slideshow": {
     "slide_type": ""
    },
    "tags": []
   },
   "source": [
    "## Controller and AID Setup\n",
    "\n",
    "First, we set up the environment for our demonstration. This involves:\n",
    "- Two `SignifyClient` instances:\n",
    "    - `clientA` will act as the controller of the AID whose keys we will rotate.\n",
    "    - `clientB` will act as a remote agent who knows about the AID and will track its key state changes.\n",
    "- AID Creation: `clientA` creates a new AID (`aidA`) that is transferable (i.e., its keys can be rotated).\n",
    "- OOBI Resolution: `clientB` resolves an Out-of-Band Introduction (OOBI) for `aidA` to establish contact and retrieve its initial Key Event Log (KEL)."
   ]
  },
  {
   "cell_type": "markdown",
   "id": "30c45bb8-780c-4e7e-8c57-23cbf7070a45",
   "metadata": {
    "editable": false,
    "slideshow": {
     "slide_type": ""
    },
    "tags": []
   },
   "source": [
    "<div class=\"alert alert-info\">\n",
    "<b>ℹ️ NOTE</b><hr>\n",
    "This section utilizes utility functions (from <code>./scripts_ts/utils.ts</code>) to quickly establish the necessary preconditions for the key rotation demonstration. The detailed steps for client initialization, AID creation, and OOBI resolution are covered in previous notebooks.\n",
    "</div>"
   ]
  },
  {
   "cell_type": "code",
   "execution_count": null,
   "id": "6f570605-4851-43e7-90b1-2cbef36080e0",
   "metadata": {
    "editable": false,
    "slideshow": {
     "slide_type": ""
    },
    "tags": []
   },
   "outputs": [],
   "source": [
    "import { randomPasscode, RotateIdentifierArgs, SignifyClient} from 'npm:signify-ts';\n",
    "import { \n",
    "         initializeAndConnectClient,\n",
    "         createNewAID,\n",
    "         addEndRoleForAID,\n",
    "         generateOOBI,\n",
    "         resolveOOBI,\n",
    "         DEFAULT_IDENTIFIER_ARGS,\n",
    "         DEFAULT_TIMEOUT_MS,\n",
    "         ROLE_AGENT,\n",
    "       } from './scripts_ts/utils.ts';\n",
    "\n",
    "// clientA Client Setup\n",
    "const clientABran = randomPasscode()\n",
    "const clientAAidAlias = 'aidA'\n",
    "const { client: clientA } = await initializeAndConnectClient(clientABran)\n",
    "const { aid: aidA } = await createNewAID(clientA, clientAAidAlias, DEFAULT_IDENTIFIER_ARGS);\n",
    "await addEndRoleForAID(clientA, clientAAidAlias, ROLE_AGENT);\n",
    "const clientAOOBI = await generateOOBI(clientA, clientAAidAlias, ROLE_AGENT);\n",
    "\n",
    "// clientB Client Setup and OOBI Resolution\n",
    "const clientBBran = randomPasscode()\n",
    "const { client: clientB } = await initializeAndConnectClient(clientBBran)\n",
    "await resolveOOBI(clientB, clientAOOBI, clientAAidAlias);\n",
    "\n",
    "console.log(\"Client and AID setup complete.\");\n",
    "console.log(`Client A created AID: ${aidA.i}`);\n",
    "console.log(`Client B resolved OOBI for AID: ${aidA.i}`);\n"
   ]
  },
  {
   "cell_type": "markdown",
   "id": "32f9a2bf-b308-44da-ab89-84feb5328636",
   "metadata": {
    "editable": false,
    "slideshow": {
     "slide_type": ""
    },
    "tags": []
   },
   "source": [
    "## Initial State Verification\n",
    "\n",
    "Before performing the rotation, let's verify that both `clientA` (the controller) and `clientB` (the observer) have a consistent view of the AID's key state. We can do this by fetching the key state from each client and comparing their sequence numbers (`s`).\n",
    "\n",
    "The `client.keyStates().get()` method retrieves the key state for a given AID prefix from the client's local KEL copy."
   ]
  },
  {
   "cell_type": "code",
   "execution_count": null,
   "id": "78d8cdcf-4d52-47e7-b18f-c2379ddaf5f7",
   "metadata": {
    "editable": false,
    "slideshow": {
     "slide_type": ""
    },
    "tags": []
   },
   "outputs": [],
   "source": [
    "// Get the key state from the local client (clientA)\n",
    "let keystateA_before = (await clientA.keyStates().get(aidA.i))[0];\n",
    "\n",
    "// Get the key state from the remote observer client (clientB)\n",
    "let keystateB_before = (await clientB.keyStates().get(aidA.i))[0];\n",
    "\n",
    "// Compare the sequence numbers to ensure they are synchronized\n",
    "console.log(\"Initial sequence number for clientA:\", keystateA_before.s);\n",
    "console.log(\"Initial sequence number for clientB:\", keystateB_before.s);\n",
    "console.log(\"Are keystates initially in sync?\", keystateA_before.s === keystateB_before.s);"
   ]
  },
  {
   "cell_type": "markdown",
   "id": "4305d16e-07e4-4675-a0ab-1ca8b8e664ce",
   "metadata": {
    "editable": false,
    "slideshow": {
     "slide_type": ""
    },
    "tags": []
   },
   "source": [
    "## The Key Rotation Process\n",
    "Now, we'll proceed with the core steps of rotating the keys for `aidA`.\n"
   ]
  },
  {
   "cell_type": "markdown",
   "id": "04522fe6-40be-4ca2-82f6-675aaf00bbb3",
   "metadata": {
    "editable": false,
    "slideshow": {
     "slide_type": ""
    },
    "tags": []
   },
   "source": [
    "### Step 1: Perform the Rotation\n",
    "The controller, `clientA`, initiates the key rotation using the `client.identifiers().rotate()` method. This method creates and signs a rotation (`rot`) event.\n",
    "\n",
    "- `clientAAidAlias`: The alias of the identifier to rotate.\n",
    "- `args`: A `RotateIdentifierArgs` object. For a simple rotation, this can be an empty object {}. It can also be used to specify changes to witnesses or other configuration during the rotation. **[see here for more details](https://weboftrust.github.io/signify-ts/interfaces/RotateIdentifierArgs.html)**\n",
    "\n",
    "The default for rotating a single signature identifier with Signify TS is to create only one new key. More keys can be created by specifying additional configuration properties in a `RotateIdentifierArgs` object.\n",
    "\n",
    "Like other establishment events in Signify TS, this is an asynchronous operation. The method returns a promise that resolves to an operation object, which we then wait on to confirm completion."
   ]
  },
  {
   "cell_type": "code",
   "execution_count": null,
   "id": "c3744f5c-1314-4e61-83b3-a7f0c4f55ab7",
   "metadata": {
    "editable": false,
    "slideshow": {
     "slide_type": ""
    },
    "tags": []
   },
   "outputs": [],
   "source": [
    "// Define arguments for the rotation. For a standard rotation, this can be empty.\n",
    "const args: RotateIdentifierArgs = {};\n",
    "\n",
    "// Initiate the rotation operation\n",
    "const rotateResult = await clientA\n",
    "    .identifiers()\n",
    "    .rotate(clientAAidAlias, args);\n",
    "\n",
    "// Get the long-running operation details\n",
    "const rotateOperation = await rotateResult.op();\n",
    "\n",
    "// Wait for the rotation operation to complete on the KERIA agent\n",
    "const rotateOperationResponse = await clientA\n",
    "    .operations()\n",
    "    .wait(rotateOperation, AbortSignal.timeout(DEFAULT_TIMEOUT_MS));\n",
    "\n",
    "console.log(\"Key rotation operation completed successfully.\");\n"
   ]
  },
  {
   "cell_type": "markdown",
   "id": "fc7a0b81-b7a5-4b5d-b4ad-f1b6f3ac8e26",
   "metadata": {
    "editable": false,
    "slideshow": {
     "slide_type": ""
    },
    "tags": []
   },
   "source": [
    "### Step 2 Local verification\n",
    "\n",
    "After the rotation operation completes, `clientA`'s local state for `aidA` should be immediately updated. We can verify this by fetching the key state again and observing the changes:\n",
    "\n",
    "- The sequence number (`s`) should have incremented by 1.\n",
    "- The list of current public keys (`k`) should be different.\n",
    "- The digest of the next pre-rotated keys (`n`) should also be different, as a new set of future keys has been committed to."
   ]
  },
  {
   "cell_type": "code",
   "execution_count": null,
   "id": "1c82e0e5-5689-47ee-8396-8e06f4ca1406",
   "metadata": {
    "editable": false,
    "slideshow": {
     "slide_type": ""
    },
    "tags": []
   },
   "outputs": [],
   "source": [
    "// Get the updated key state from the local client (clientA)\n",
    "let keystateA_after = (await clientA.keyStates().get(aidA.i))[0];\n",
    "\n",
    "console.log(\"--- Key State After Rotation (Local Verification) ---\");\n",
    "console.log(\"Previous sequence number:\", keystateA_before.s);\n",
    "console.log(\"New sequence number:     \", keystateA_after.s);\n",
    "console.log(\"\\nPrevious keys:\", keystateA_before.k);\n",
    "console.log(\"New keys:     \", keystateA_after.k);\n",
    "console.log(\"\\nPrevious next-key digest:\", keystateA_before.n);\n",
    "console.log(\"New next-key digest:     \", keystateA_after.n);"
   ]
  },
  {
   "cell_type": "markdown",
   "id": "469f1f11-2060-48fb-9b0c-97c3140d3fcf",
   "metadata": {
    "editable": false,
    "slideshow": {
     "slide_type": ""
    },
    "tags": []
   },
   "source": [
    "### Step 3: Remote Synchronization and Verification\n",
    "At this point, the remote observer, `clientB`, is not yet aware of the rotation. Its local copy of the KEL for `aidA` is now outdated."
   ]
  },
  {
   "cell_type": "code",
   "execution_count": null,
   "id": "82495ba0-7da0-4af3-b3a8-31974d44c706",
   "metadata": {
    "editable": false,
    "slideshow": {
     "slide_type": ""
    },
    "tags": []
   },
   "outputs": [],
   "source": [
    "// Get the key state from the remote observer again\n",
    "let keystateB_stale = (await clientB.keyStates().get(aidA.i))[0];\n",
    "\n",
    "console.log(\"--- Remote Observer State (Before Synchronization) ---\");\n",
    "console.log(\"Local controller's sequence number:\", keystateA_after.s);\n",
    "console.log(\"Remote observer's sequence number: \", keystateB_stale.s);\n",
    "console.log(\"Are keystates in sync now?\", keystateA_after.s === keystateB_stale.s);"
   ]
  },
  {
   "cell_type": "markdown",
   "id": "16282355-3f7f-44fe-a4f7-da681279d13e",
   "metadata": {
    "editable": false,
    "slideshow": {
     "slide_type": ""
    },
    "tags": []
   },
   "source": [
    "To synchronize, `clientB` must query for the latest state of the AID's KEL. The `client.keyStates().query()` method is used for this purpose. It tells the client's KERIA agent to check the witnesses of the specified AID for any new events."
   ]
  },
  {
   "cell_type": "code",
   "execution_count": null,
   "id": "2bc7865d-0607-4de6-8963-8b0f51a88217",
   "metadata": {
    "editable": false,
    "slideshow": {
     "slide_type": ""
    },
    "tags": []
   },
   "outputs": [],
   "source": [
    "// clientB queries for the latest key state of aidA from its witnesses\n",
    "let queryOperation = await clientB\n",
    "    .keyStates()\n",
    "    .query(aidA.i, keystateA_after.s); // We can optionally specify the sequence number we expect to find\n",
    "\n",
    "// Wait for the query operation to complete\n",
    "const queryOperationResponse = await clientB\n",
    "    .operations()\n",
    "    .wait(queryOperation, AbortSignal.timeout(DEFAULT_TIMEOUT_MS));\n",
    "\n",
    "console.log(\"\\nRemote observer has queried for updates.\");\n",
    "\n",
    "// Now, get the key state from the remote observer again\n",
    "let keystateB_synced = (await clientB.keyStates().get(aidA.i))[0];\n",
    "\n",
    "console.log(\"\\n--- Remote Observer State (After Synchronization) ---\");\n",
    "console.log(\"Local controller's sequence number:\", keystateA_after.s);\n",
    "console.log(\"Remote observer's sequence number: \", keystateB_synced.s);\n",
    "console.log(\"Are keystates in sync now?\", keystateA_after.s === keystateB_synced.s);"
   ]
  },
  {
   "cell_type": "markdown",
   "id": "a4d7fb34-6201-4b9f-be38-5a477379ae52",
   "metadata": {
    "editable": false,
    "slideshow": {
     "slide_type": ""
    },
    "tags": []
   },
   "source": [
    "After the query, `clientB` has processed the `rot` event and its local key state for `aidA` is now consistent with `clientA`'s state. This demonstrates how KERI's distributed infrastructure maintains consistency across multiple parties."
   ]
  },
  {
   "cell_type": "markdown",
   "id": "6ca28b79-9ede-4cd0-9437-731fdf2ce4ad",
   "metadata": {
    "editable": false,
    "jp-MarkdownHeadingCollapsed": true,
    "slideshow": {
     "slide_type": ""
    },
    "tags": []
   },
   "source": [
    "<div class=\"alert alert-primary\">\n",
    "<b>📝 SUMMARY</b><hr>\n",
    "This notebook demonstrated the key rotation process for a single-signature AID using Signify TS:\n",
    "<ul>\n",
    "<li><b>Initiation:</b> The controller of an AID (<code>clientA</code>) uses <code>client.identifiers().rotate()</code> to create and sign a rotation (<code>rot</code>) event. This event is sent to the KERIA agent and getting receipts on this rotation event is an asynchronous operation that is managed by the KERIA agent.</li>\n",
    "<li><b>Local Verification:</b> After the rotation operation completes, the controller's local key state is immediately updated. This is confirmed by observing an incremented sequence number (<code>s</code>), a new set of current keys (<code>k</code>), and a new pre-rotation commitment for the next keys (<code>n</code>).</li>\n",
    "<li><b>Remote Synchronization:</b> A remote agent (<code>clientB</code>) does not automatically see the rotation. They must explicitly query for the latest key state using <code>client.keyStates().query()</code>. This action prompts their KERIA agent to check the AID's witnesses for new events.</li>\n",
    "<li><b>Consistency:</b> After a successful query, the remote agent's local KEL is updated, and their view of the AID's key state becomes consistent with the controller's view.</li>\n",
    "</ul>\n",
    "This process validates KERI's core principles of forward security (old keys are retired) and distributed consistency, ensuring all parties can maintain a synchronized and verifiable view of an identity's evolution.\n",
    "</div>"
   ]
  },
  {
   "cell_type": "markdown",
   "id": "646df943-0843-40c3-86d5-2a083348bafa",
   "metadata": {
    "editable": false,
    "slideshow": {
     "slide_type": ""
    },
    "tags": []
   },
   "source": [
    "[<- Prev (KERIA Signify Connecting Clients)](102_15_KERIA_Signify_Connecting_Clients.ipynb) | [Next (KERIA Signify Credential Issuance) ->](102_20_KERIA_Signify_Credential_Issuance.ipynb)"
   ]
  }
 ],
 "metadata": {
  "kernelspec": {
   "display_name": "Deno",
   "language": "typescript",
   "name": "deno"
  },
  "language_info": {
   "codemirror_mode": "typescript",
   "file_extension": ".ts",
   "mimetype": "text/x.typescript",
   "name": "typescript",
   "nbconvert_exporter": "script",
   "pygments_lexer": "typescript",
   "version": "5.8.3"
  }
 },
 "nbformat": 4,
 "nbformat_minor": 5
}
