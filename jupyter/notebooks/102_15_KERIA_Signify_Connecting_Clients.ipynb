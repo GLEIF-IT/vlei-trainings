{
 "cells": [
  {
   "cell_type": "markdown",
   "id": "70e492b0-973c-42e1-9a9c-a0987c1f66bd",
   "metadata": {
    "editable": false,
    "slideshow": {
     "slide_type": ""
    },
    "tags": []
   },
   "source": [
    "# SignifyTS: Securely Connecting Controllers"
   ]
  },
  {
   "cell_type": "markdown",
   "id": "6a52fa4a-b753-4a03-8612-b8f0204b53e6",
   "metadata": {
    "editable": false,
    "slideshow": {
     "slide_type": ""
    },
    "tags": []
   },
   "source": [
    "<div class=\"alert alert-primary\">\n",
    "  <b>🎯 OBJECTIVE</b><hr>\n",
    "  Explain how to establish a secure, mutually authenticated connection between two KERIA/SignifyTS controllers using Out-of-Band Introductions (OOBIs) and the challenge/response protocol to enhance trust.\n",
    "</div>"
   ]
  },
  {
   "cell_type": "markdown",
   "id": "b71f04d7-6498-4859-846a-ce8bd3f6213f",
   "metadata": {
    "editable": false,
    "slideshow": {
     "slide_type": ""
    },
    "tags": []
   },
   "source": [
    "## Controller and AID Setup\n",
    "\n",
    "This notebook focuses on connecting two independent controllers using the KERIA/Signify architecture. This involves two `SignifyClient` instances, each managing its own AID, establishing contact (node discovery), and then mutually authenticating each to the other using the challenge signing and verification process. Conceptually, these steps mirror the `kli` process for connecting and verifying controllers yet are executed through the `signify-ts` library interacting with KERIA agents.\n",
    "\n",
    "You will begin by setting up two distinct `SignifyClient` instances, which we'll call `clientA` (representing a controller Alfred) and `clientB` (representing a controller Betty). Each client will:\n",
    "1.  Generate a unique `bran` (passcode).\n",
    "2.  Instantiate `SignifyClient`.\n",
    "3.  Boot and connect to its KERIA agent, establishing its Client AID and the delegated Agent AID.\n",
    "4.  Create a primary AID (let's call them `aidA` for Alfred and `aidB` for Betty) with a set of predefined witnesses.\n",
    "\n",
    "The specifics of client creation, booting, connecting, and basic AID inception using `signify-ts` were covered in the \"KERIA-Signify Basic Operations\" notebook. You will apply those principles below:\n"
   ]
  },
  {
   "cell_type": "code",
   "execution_count": null,
   "id": "703a4a0c-2e17-4d3b-b759-4654975bf241",
   "metadata": {
    "editable": false,
    "slideshow": {
     "slide_type": ""
    },
    "tags": []
   },
   "outputs": [],
   "source": [
    "import { randomPasscode, ready, SignifyClient, Tier } from 'npm:signify-ts';\n",
    "\n",
    "const url = 'http://keria:3901';\n",
    "const bootUrl = 'http://keria:3903';\n",
    "\n",
    "// Inception request parameters\n",
    "const inceptionArgs = {\n",
    "    toad: 3,\n",
    "    wits: [  \n",
    "        'BBilc4-L3tFUnfM_wJr4S4OJanAv_VmF_dJNN6vkf2Ha',\n",
    "        'BLskRTInXnMxWaGqcpSyMgo0nYbalW99cGZESrz3zapM',\n",
    "        'BIKKuvBwpmDVA4Ds-EpL5bt9OqPzWPja2LigFYZN2YfX'\n",
    "    ]\n",
    "};\n",
    "\n",
    "await ready();\n",
    "console.log(\"Signify library is ready.\")\n",
    "\n",
    "// ----- Client A (Alfred) -----\n",
    "\n",
    "const aidAAlias = 'aidA'\n",
    "const branA = randomPasscode();\n",
    "const clientA = new SignifyClient(url, branA, Tier.low, bootUrl);\n",
    "\n",
    "await clientA.boot();\n",
    "await clientA.connect();\n",
    "console.log(\"Agent delegated and ready\")\n",
    "\n",
    "const aInceptionResult = await clientA.identifiers().create(aidAAlias, inceptionArgs);\n",
    "\n",
    "const aInceptionOperation = await aInceptionResult.op();\n",
    "\n",
    "const { response: aidA }  = await clientA\n",
    "    .operations()\n",
    "    .wait(aInceptionOperation, AbortSignal.timeout(30000));\n",
    "\n",
    "await clientA.operations().delete(aInceptionOperation.name);\n",
    "\n",
    "// ----- Client B (Betty) -----\n",
    "\n",
    "const aidBAlias = 'aidB'\n",
    "const branB = randomPasscode();\n",
    "const clientB = new SignifyClient(url, branB, Tier.low, bootUrl);\n",
    "\n",
    "await clientB.boot();\n",
    "await clientB.connect();\n",
    "\n",
    "const bInceptionResult = await clientB.identifiers().create(aidBAlias, inceptionArgs);\n",
    "\n",
    "const bInceptionOperation = await bInceptionResult.op();\n",
    "\n",
    "const { response: aidB }  = await clientB\n",
    "    .operations()\n",
    "    .wait(bInceptionOperation, AbortSignal.timeout(30000));\n",
    "\n",
    "await clientB.operations().delete(bInceptionOperation.name);\n",
    "\n",
    "console.log(`Client A AID Pre: ${aidA.i}\\nClient B AID Pre: ${aidB.i}`)"
   ]
  },
  {
   "cell_type": "markdown",
   "id": "bee73e04-8449-4bcc-9bc0-101262cb796f",
   "metadata": {
    "editable": false,
    "slideshow": {
     "slide_type": ""
    },
    "tags": []
   },
   "source": [
    "<div class=\"alert alert-info\">\n",
    "    <b>ℹ️ Note</b><hr> For this demonstration, both clients will connect to the same KERIA instance (defined by <code>url</code> and <code>bootUrl</code>). In a real-world scenario, Alfred and Betty would likely each have their own Signify clients running on their respective devices and interacting with their own (or chosen) KERIA agent instances. The KERIA agent URLs might be different for each. However, the KERI protocol and Signify patterns for connection and authentication remain the same.\n",
    "</div>"
   ]
  },
  {
   "cell_type": "markdown",
   "id": "54d486d8-3031-4790-a7b4-08ea600b74e2",
   "metadata": {
    "editable": false,
    "slideshow": {
     "slide_type": ""
    },
    "tags": []
   },
   "source": [
    "## "
   ]
  },
  {
   "cell_type": "markdown",
   "id": "a15c101d-7ee7-4a87-b967-1d829ca94a33",
   "metadata": {
    "editable": false,
    "slideshow": {
     "slide_type": ""
    },
    "tags": []
   },
   "source": [
    "## Assigning Agent End Roles\n",
    "\n",
    "As discussed in \"KERIA-Signify Basics\", when a `SignifyClient` connects, it establishes a **Client AID** (which you directly control via the `bran`) and a delegated **Agent AID** (managed by the KERIA agent). For these Agent AIDs to act effectively on behalf of the AIDs we just created (`aidA` and `aidB`), we need to explicitly authorize the Agent AID to act in the `agent` role by assigning an `agent` end role to.\n",
    "\n",
    "The `agent` role, in this context, signifies that the KERIA Agent AID associated with `clientA` is authorized to manage/interact on behalf of `aidA`, and similarly for `clientB` and `aidB`. This is a crucial step for enabling the KERIA agent to perform tasks like sending messages through the agent mailbox and responding to OOBI requests for these specific identifiers.\n",
    "\n",
    "Use the `client.identifiers().addEndRole()` method to add the role. This method requires:\n",
    "- The alias of the identifier granting the authorization (e.g., `aidAAlias`).\n",
    "- The role to be assigned (e.g., `'agent'`).\n",
    "- The prefix of the AID being authorized for that role. In this case, it's the prefix of the client's own KERIA Agent AID, accessible via `client.agent!.pre`."
   ]
  },
  {
   "cell_type": "code",
   "execution_count": null,
   "id": "859e4084-0145-4867-b72b-5889e424ad25",
   "metadata": {
    "editable": false,
    "slideshow": {
     "slide_type": ""
    },
    "tags": []
   },
   "outputs": [],
   "source": [
    "// ----- Client A: Assign 'agent' role for aidA to its KERIA Agent AID -----\n",
    "const agentRole = 'agent';\n",
    "\n",
    "// Authorize clientA's Agent AID to act as an agent for aidA\n",
    "const aAddRoleResult = await clientA\n",
    "    .identifiers()\n",
    "    .addEndRole(aidAAlias, \n",
    "                agentRole, \n",
    "                clientA!.agent!.pre // clientA.agent.pre is the Agent AID prefix\n",
    "               ); \n",
    "\n",
    "const aAddRoleOperation = await aAddRoleResult.op();\n",
    "\n",
    "const { response: aAddRoleResponse } = await clientA\n",
    "    .operations()\n",
    "    .wait(aAddRoleOperation, AbortSignal.timeout(30000));\n",
    "\n",
    "await clientA.operations().delete(aAddRoleOperation.name);\n",
    "\n",
    "console.log(`Client A: Assigned '${agentRole}' role to KERIA Agent ${clientA.agent!.pre} for AID ${aidA.i}`);\n",
    "\n",
    "// ----- Client B: Assign 'agent' role for aidB to its KERIA Agent AID -----\n",
    "\n",
    "// Authorize clientB's Agent AID to act as an agent for aidB\n",
    "const bAddRoleResult = await clientB\n",
    "    .identifiers()\n",
    "    .addEndRole(aidBAlias, \n",
    "                agentRole, \n",
    "                clientB!.agent!.pre // clientB.agent.pre is the Agent AID prefix\n",
    "               ); \n",
    "\n",
    "const bAddRoleOperation = await bAddRoleResult.op();\n",
    "\n",
    "const { response: bAddRoleResponse } = await clientB\n",
    "    .operations()\n",
    "    .wait(bAddRoleOperation, AbortSignal.timeout(30000));\n",
    "\n",
    "await clientB.operations().delete(bAddRoleOperation.name);\n",
    "\n",
    "console.log(`Client B: Assigned '${agentRole}' role to KERIA Agent ${clientB.agent!.pre} for AID ${aidB.i}`);\n"
   ]
  },
  {
   "cell_type": "markdown",
   "id": "c375a83b-07b4-49e2-ad8e-347dbca121a3",
   "metadata": {
    "editable": false,
    "slideshow": {
     "slide_type": ""
    },
    "tags": []
   },
   "source": [
    "## Discovery via OOBIs\n",
    "\n",
    "With the AIDs created and their respective KERIA agents authorized, Alfred (`clientA`, `aidA`) and Betty (`clientB`, `aidB`) need a way to discover each other. This is where Out-of-Band Introductions (OOBIs) are used."
   ]
  },
  {
   "cell_type": "markdown",
   "id": "e668e26d-cfaa-428a-b0e0-e1f84a8c41fc",
   "metadata": {
    "editable": false,
    "slideshow": {
     "slide_type": ""
    },
    "tags": []
   },
   "source": [
    "### Generating OOBI URLs\n",
    "\n",
    "Each client needs to generate an OOBI for its AID (`aidA` and `aidB`). This OOBI is associated with the `agent` role, meaning the OOBI URL (**IURL** for short) will point to an endpoint on their KERIA agent that is authorized to serve information about the AID.\n",
    "\n",
    "Proceed by generating the IURLs:\n",
    "- `clientA` generates an OOBI for `aidA` with the role `agent`.\n",
    "- `clientB` generates an OOBI for `aidB` with the role `agent`.\n"
   ]
  },
  {
   "cell_type": "code",
   "execution_count": null,
   "id": "f2cd945a-c0df-44d8-a7f4-ad048c8baea6",
   "metadata": {
    "editable": false,
    "slideshow": {
     "slide_type": ""
    },
    "tags": []
   },
   "outputs": [],
   "source": [
    "// ----- Generate OOBIs -----\n",
    "\n",
    "// Client A generates OOBI for aidA (role 'agent')\n",
    "const oobiA_Result = await clientA.oobis().get(aidAAlias, agentRole);\n",
    "const oobiA_url = oobiA_Result.oobis[0]; // Assuming at least one OOBI is returned\n",
    "console.log(`Client A (Alfred) generated OOBI for aidA: ${oobiA_url}`);\n",
    "\n",
    "// Client B generates OOBI for aidB (role 'agent')\n",
    "const oobiB_Result = await clientB.oobis().get(aidBAlias, agentRole);\n",
    "const oobiB_url = oobiB_Result.oobis[0]; // Assuming at least one OOBI is returned\n",
    "console.log(`Client B (Betty) generated OOBI for aidB: ${oobiB_url}`);\n"
   ]
  },
  {
   "cell_type": "markdown",
   "id": "3a9affce-0bd4-4130-9123-37c3ba705984",
   "metadata": {
    "editable": false,
    "slideshow": {
     "slide_type": ""
    },
    "tags": []
   },
   "source": [
    "### Resolving OOBI URLs\n",
    "\n",
    "In a real scenario, Alfred would share `oobiA` with Betty, and Betty would share `oobiB` with Alfred through some non-KERI channel (e.g., email, QR code, messaging app). For this notebook, we'll just store them in variables.\n",
    "\n",
    "Now perform the OOBI resolution. This means `clientA`'s KERIA agent uses the URL in `oobiB` to fetch `aidB`'s KEL from `clientB`'s KERIA agent. `clientA` then cryptographically verifies this KEL. `clientB` resolves `oobiA` similarly.\n",
    "\n"
   ]
  },
  {
   "cell_type": "code",
   "execution_count": null,
   "id": "96f891ff-e307-477e-b20f-5a60e74caf1b",
   "metadata": {
    "editable": false,
    "slideshow": {
     "slide_type": ""
    },
    "tags": []
   },
   "outputs": [],
   "source": [
    "// Client A resolves Client B's OOBI\n",
    "const contactBAlias = 'Betty_Contact_for_Alfred'; // Alias for clientA to refer to aidB\n",
    "console.log(`\\nClient A (Alfred) attempting to resolve Betty's OOBI...`);\n",
    "const AResolveOperation = await clientA.oobis().resolve(oobiB_url, contactBAlias);\n",
    "const AResolveResponse = await clientA\n",
    "    .operations()\n",
    "    .wait(AResolveOperation, AbortSignal.timeout(30000));\n",
    "await clientA.operations().delete(AResolveOperation.name);\n",
    "console.log(`Client A resolved Betty's OOBI. Response:`, AResolveResponse.response ? \"OK\" : \"Failed or no response data\");\n",
    "\n",
    "// Client B resolves Client A's OOBI\n",
    "const contactAAlias = 'Alfred_Contact_for_Betty'; // Alias for clientB to refer to aidA\n",
    "console.log(`\\nClient B (Betty) attempting to resolve Alfred's OOBI...`);\n",
    "const BResolveOperation = await clientB.oobis().resolve(oobiA_url, contactAAlias);\n",
    "const BResolveResponse = await clientB\n",
    "    .operations()\n",
    "    .wait(BResolveOperation, AbortSignal.timeout(30000));\n",
    "await clientB.operations().delete(BResolveOperation.name);\n",
    "console.log(`Client B resolved Alfred's OOBI. Response:`, BResolveResponse.response ? \"OK\" : \"Failed or no response data\");\n"
   ]
  },
  {
   "cell_type": "markdown",
   "id": "2906f08d-c0bc-41b4-8662-9504282ff617",
   "metadata": {
    "editable": false,
    "slideshow": {
     "slide_type": ""
    },
    "tags": []
   },
   "source": [
    "### Verifying Resolved Contacts\n",
    "\n",
    "Upon successful resolution, each client will have added the other's AID to their local contact list. Use `clientA.contacts().list()` to display the contacts:"
   ]
  },
  {
   "cell_type": "code",
   "execution_count": null,
   "id": "dbfd5c9d-3600-4197-b834-5bca12893738",
   "metadata": {
    "editable": false,
    "slideshow": {
     "slide_type": ""
    },
    "tags": []
   },
   "outputs": [],
   "source": [
    "console.log(`\\nVerifying contacts...`);\n",
    "const AContacts = await clientA.contacts().list(undefined, 'alias', contactBAlias);\n",
    "console.log(AContacts);\n",
    "\n",
    "const BContacts = await clientB.contacts().list(undefined, 'alias', contactAAlias);\n",
    "console.log(BContacts);\n"
   ]
  },
  {
   "cell_type": "markdown",
   "id": "9a4234c4-ed4f-4237-80ae-c0e512a76542",
   "metadata": {
    "editable": false,
    "slideshow": {
     "slide_type": ""
    },
    "tags": []
   },
   "source": [
    "## Mutual Authentication with Challenge-Response\n",
    "\n",
    "Successfully resolving an OOBI means you've retrieved and cryptographically verified the KEL of the target AID. This establishes the authenticity and integrity of the AID's key history.\n",
    "\n",
    "However, it does not, by itself, prove conclusively that the entity you are currently communicating with over the network (the one that provided the OOBI or is responding via the OOBI's endpoint) is the legitimate controller of that AID's private keys. A liveness test is needed to prove that the controllers of each AID are actually in control of each respective AID.\n",
    "\n",
    "This is why the **Challenge-Response** protocol is critical for establishing authenticated control. It serves as that liveness test.\n",
    "\n",
    "The process, as described in the \"Connecting Controllers\" notebook for `kli`, is as follows for each pair (e.g., Alfred challenging Betty):\n",
    "\n",
    "1.  **Generate Challenge**: Alfred (`clientA`) generates a set of unique challenge words.\n",
    "2.  **Send Challenge (Simulated OOB)**: Alfred communicates these words to Betty through an out-of-band channel (e.g., verbally, secure message). This step is crucial to prevent a Man-in-the-Middle (MITM) on the main KERI connection from intercepting or altering the challenge. For this notebook, we'll print the words.\n",
    "3.  **Respond to Challenge**: Betty (`clientB`), using `aidB`, signs the exact challenge words received from Alfred. The `respond()` method sends this signed response to Alfred's KERIA agent.\n",
    "4.  **Verify Response**: Alfred (`clientA`) receives the signed response. His KERIA agent verifies that the signature corresponds to `aidB`'s current authoritative keys (from the KEL he resolved earlier) and that the signed message matches the original challenge words. This is an asynchronous operation.\n",
    "5.  **Mark as Responded/Authenticated**: If verification is successful, Alfred (`clientA`) marks the challenge for `aidB` as successfully responded to and authenticated. This updates the contact information for Betty in Alfred's client.\n",
    "\n",
    "This process is then repeated with Betty challenging Alfred."
   ]
  },
  {
   "cell_type": "markdown",
   "id": "5fe23e4c-b80d-4231-ab6f-0974b78c394d",
   "metadata": {
    "editable": false,
    "slideshow": {
     "slide_type": ""
    },
    "tags": []
   },
   "source": [
    "### Generating Challenge Phrases\n",
    "\n",
    "Generate a set of random words for each client. `signify-ts` uses `client.challenges().generate()` for this. The strength of the challenge can be specified by the bit length (e.g., 128 or 256 bits, which translates to a certain number of words)."
   ]
  },
  {
   "cell_type": "code",
   "execution_count": null,
   "id": "08ab7fba-130c-4a4b-acb4-7c67b6335e51",
   "metadata": {
    "editable": false,
    "slideshow": {
     "slide_type": ""
    },
    "tags": []
   },
   "outputs": [],
   "source": [
    "// ----- Generate Challenge Words -----\n",
    "\n",
    "// Client A (Alfred) generates challenge words for Betty\n",
    "const challengeWordsA = await clientA.challenges().generate(128); // 128-bit strength\n",
    "console.log(\"Client A's challenge words for Betty:\", challengeWordsA.words);\n",
    "\n",
    "// Client B (Betty) generates challenge words for Alfred\n",
    "const challengeWordsB = await clientB.challenges().generate(128); // 128-bit strength\n",
    "console.log(\"Client B's challenge words for Alfred:\", challengeWordsB.words);"
   ]
  },
  {
   "cell_type": "markdown",
   "id": "03c72e40-c086-4ad0-ae8e-b446deed59c9",
   "metadata": {
    "editable": false,
    "slideshow": {
     "slide_type": ""
    },
    "tags": []
   },
   "source": [
    "### Performing the Challenge-Response Protocol\n",
    "\n",
    "Perform the following sequence of steps to simulate the challenge/respond protocol.\n",
    "\n",
    "Assume Alfred has securely (out-of-band) communicated `challengeWordsA.words` to Betty.\n",
    "- Betty will now use `clientB.challenges().respond()` to sign these words with `aidB` and send the response to `aidA`.\n",
    "- Alfred will then use `clientA.challenges().verify()` to verify Betty's response. This verification is an operation that needs to be polled.\n",
    "- Finally, Alfred uses `clientA.challenges().responded()` to mark the contact as authenticated.\n"
   ]
  },
  {
   "cell_type": "code",
   "execution_count": null,
   "id": "9eccdd0e-dedf-4459-8690-3468b435a78c",
   "metadata": {
    "editable": false,
    "slideshow": {
     "slide_type": ""
    },
    "tags": []
   },
   "outputs": [],
   "source": [
    "// ----- Betty (Client B) responds to Alfred's (Client A) challenge -----\n",
    "console.log(`\\nBetty (aidB: ${aidB.i}) responding to Alfred's (aidA: ${aidA.i}) challenge...`);\n",
    "\n",
    "// Betty uses aidBAlias to sign, targeting aidA.i with challengeWordsA.words\n",
    "await clientB.challenges().respond(aidBAlias, aidA.i, challengeWordsA.words);\n",
    "console.log(\"Betty's response sent.\");\n",
    "\n",
    "// ----- Alfred (Client A) verifies Betty's (Client B) response -----\n",
    "console.log(`\\nAlfred (aidA) verifying Betty's (aidB) response...`);\n",
    "\n",
    "// Alfred verifies the response allegedly from aidB.i using challengeWordsA.words\n",
    "const AVerifyBOperation = await clientA.challenges().verify(aidB.i, challengeWordsA.words);\n",
    "\n",
    "const { response: AVerifyBResponseDetails } = await clientA\n",
    "    .operations()\n",
    "    .wait(AVerifyBOperation, AbortSignal.timeout(30000));\n",
    "\n",
    "await clientA.operations().delete(AVerifyBOperation.name);\n",
    "\n",
    "const exnSaidB = AVerifyBResponseDetails.exn.d;\n",
    "console.log(\"Alfred: Betty's response verified. SAID of exn:\", exnSaidB);\n",
    "\n",
    "// Alfred marks the challenge for Betty (aidB.i) as successfully responded\n",
    "await clientA.challenges().responded(aidB.i, exnSaidB);\n",
    "console.log(\"Alfred: Marked Betty's contact as authenticated.\");\n",
    "\n",
    "\n",
    "// Check Alfred's contact list for Betty's authenticated status\n",
    "const AContactsAfterAuth = await clientA.contacts().list(undefined, 'alias', contactBAlias);\n",
    "\n",
    "console.log(AContactsAfterAuth)"
   ]
  },
  {
   "cell_type": "markdown",
   "id": "29fd9c69-3c32-423c-8331-9d9b78673a82",
   "metadata": {
    "editable": false,
    "slideshow": {
     "slide_type": ""
    },
    "tags": []
   },
   "source": [
    "Now, the roles reverse. Assume Betty (Client B) has securely (out-of-band) communicated `challengeWordsB.words` to Alfred (Client A).\n",
    "Alfred will use `clientA.challenges().respond()` to sign these words with `aidA` and send the response to `aidB`.\n",
    "Betty will then use `clientB.challenges().verify()` to verify Alfred's response and `clientB.challenges().responded()` to mark the contact."
   ]
  },
  {
   "cell_type": "code",
   "execution_count": null,
   "id": "0587735f-12b1-4804-9c68-b61d60f70be1",
   "metadata": {
    "editable": false,
    "slideshow": {
     "slide_type": ""
    },
    "tags": []
   },
   "outputs": [],
   "source": [
    "// ----- Alfred (Client A) responds to Betty's (Client B) challenge -----\n",
    "console.log(`\\nAlfred (aidA: ${aidA.i}) responding to Betty's (aidB: ${aidB.i}) challenge...`);\n",
    "\n",
    "// Alfred uses aidAAlias to sign, targeting aidB.i with challengeWordsB.words\n",
    "await clientA.challenges().respond(aidAAlias, aidB.i, challengeWordsB.words);\n",
    "console.log(\"Alfred's response sent.\");\n",
    "\n",
    "// ----- Betty (Client B) verifies Alfred's (Client A) response -----\n",
    "console.log(`\\nBetty (aidB) verifying Alfred's (aidA) response...`);\n",
    "\n",
    "// Betty verifies the response allegedly from aidA.i using challengeWordsB.words\n",
    "const BVerifyAOperation = await clientB.challenges().verify(aidA.i, challengeWordsB.words);\n",
    "\n",
    "const { response: BVerifyAResponseDetails } = await clientB\n",
    "    .operations()\n",
    "    .wait(BVerifyAOperation, AbortSignal.timeout(30000));\n",
    "\n",
    "await clientB.operations().delete(BVerifyAOperation.name);\n",
    "\n",
    "\n",
    "const exnSaidA = BVerifyAResponseDetails.exn.d;\n",
    "console.log(\"Betty: Alfred's response verified. SAID of exn:\", exnSaidA);\n",
    "\n",
    "// Betty marks the challenge for Alfred (aidA.i) as successfully responded\n",
    "await clientB.challenges().responded(aidA.i, exnSaidA);\n",
    "\n",
    "console.log(\"Betty: Marked Alfred's contact as authenticated.\");\n",
    "\n",
    "\n",
    "// Check Betty's contact list for Alfred's authenticated status\n",
    "const BContactsAfterAuth = await clientB.contacts().list(undefined, 'alias', contactAAlias);\n",
    "\n",
    "console.log(BContactsAfterAuth);"
   ]
  },
  {
   "cell_type": "markdown",
   "id": "c5c0e15b-8d8a-43be-b011-15f564c65802",
   "metadata": {
    "editable": false,
    "slideshow": {
     "slide_type": ""
    },
    "tags": []
   },
   "source": [
    "If both challenge-response cycles complete successfully, Alfred and Betty have now established a mutually authenticated connection. This provides a strong foundation of trust for subsequent interactions, such as exchanging verifiable credentials.\n"
   ]
  },
  {
   "cell_type": "markdown",
   "id": "478c1b54-5dc1-4483-a97b-12fdfac86457",
   "metadata": {
    "editable": false,
    "slideshow": {
     "slide_type": ""
    },
    "tags": []
   },
   "source": [
    "<div class=\"alert alert-primary\">\n",
    "<b>📝 SUMMARY</b><hr>\n",
    "This notebook demonstrated the process of connecting two KERIA/Signify controllers, Alfred (<code>clientA</code>) and Betty (<code>clientB</code>):\n",
    "<ol>\n",
    "    <li><b>Initial Setup:</b> Each client was initialized, booted its KERIA agent, connected, and created an Autonomic Identifier(<code>aidA</code> for Alfred, <code>aidB</code> for Betty).</li>\n",
    "    <li><b>End Role Assignment:</b> The KERIA Agent AID for each client was authorized with an <code>agent</code> end role for its respective AID (<code>aidA</code> and <code>aidB</code>). This allows the KERIA agent to manage these AIDs, such as serving their KELs via OOBIs. This was done using <code>client.identifiers().addEndRole()</code>.</li>\n",
    "    <li><b>OOBI Generation & Resolution:</b>\n",
    "        <ul>\n",
    "            <li>Each client generated an OOBI URL for its AID, specifically for the <code>'agent'</code> role, using <code>client.oobis().get(alias, 'agent')</code>. This OOBI points to their KERIA agent's endpoint for that AID.</li>\n",
    "            <li>The OOBIs were (simulated) exchanged out-of-band.</li>\n",
    "            <li>Each client then resolved the other's OOBI using <code>client.oobis().resolve()</code>. This retrieved and cryptographically verified the other's KEL, adding them to their local contact list.</li>\n",
    "        </ul>\n",
    "    </li>\n",
    "    <li><b>Challenge-Response Protocol for Mutual Authentication:</b>\n",
    "        <ul>\n",
    "            <li>Each client generated unique challenge words using <code>client.challenges().generate()</code>.</li>\n",
    "            <li>These words were (conceptually) exchanged out-of-band.</li>\n",
    "            <li><b>Cycle 1 (Betty responds to Alfred):</b>\n",
    "                <ul>\n",
    "                    <li>Betty signed Alfred's challenge words with <code>aidB</code> using <code>clientB.challenges().respond()</code>.</li>\n",
    "                    <li>Alfred verified Betty's signed response against <code>aidB</code>'s known keys using <code>clientA.challenges().verify()</code>.</li>\n",
    "                    <li>Upon successful verification, Alfred marked Betty's contact as authenticated using <code>clientA.challenges().responded()</code>.</li>\n",
    "                </ul>\n",
    "            </li>\n",
    "            <li><b>Cycle 2 (Alfred responds to Betty):</b> The same process was repeated with Alfred responding to Betty's challenge.</li>\n",
    "        </ul>\n",
    "    </li>\n",
    "</ol>\n",
    "Successful completion of both OOBI resolution and the mutual challenge-response protocol establishes a high degree of trust. Both controllers have verified each other's identity (KEL) and cryptographically confirmed that the other party has active control of their private keys. The <code>challengesAuthenticated</code> flag in their contact lists for each other should now be true.\n",
    "</div>"
   ]
  },
  {
   "cell_type": "markdown",
   "id": "4f995537-c38c-4190-b16c-f097ce06a2ab",
   "metadata": {
    "editable": false,
    "slideshow": {
     "slide_type": ""
    },
    "tags": []
   },
   "source": [
    "[<- Prev (KERIA Signify Basic Operations)](102_10_KERIA_Signify_Basic_Operations.ipynb) | [Next (KERIA Signify Key Rotation) ->](102_17_KERIA_Signify_Key_Rotation.ipynb)"
   ]
  }
 ],
 "metadata": {
  "kernelspec": {
   "display_name": "Deno",
   "language": "typescript",
   "name": "deno"
  },
  "language_info": {
   "codemirror_mode": "typescript",
   "file_extension": ".ts",
   "mimetype": "text/x.typescript",
   "name": "typescript",
   "nbconvert_exporter": "script",
   "pygments_lexer": "typescript",
   "version": "5.8.3"
  }
 },
 "nbformat": 4,
 "nbformat_minor": 5
}
