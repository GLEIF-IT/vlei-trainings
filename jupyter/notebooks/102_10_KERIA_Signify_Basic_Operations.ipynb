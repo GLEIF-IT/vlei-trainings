{
 "cells": [
  {
   "cell_type": "markdown",
   "id": "d93e14db-c930-42e9-96f6-6e4680dc00b7",
   "metadata": {
    "editable": false,
    "slideshow": {
     "slide_type": ""
    },
    "tags": []
   },
   "source": [
    "# Signify TS Basics: Client Setup and AID Management"
   ]
  },
  {
   "cell_type": "markdown",
   "id": "2703c2e2-ade7-4732-835d-8edee765092d",
   "metadata": {
    "editable": false,
    "slideshow": {
     "slide_type": ""
    },
    "tags": []
   },
   "source": [
    "<div class=\"alert alert-primary\">\n",
    "  <b>🎯 OBJECTIVE</b><hr>\n",
    "  Introduce basic operations using the typescript implementation of Signify, Signify TS: creating a client, initializing (booting) an agent, connecting to an agent, and creating an Autonomic Identifier (AID).</li>\n",
    "    </ul>\n",
    "    Familiarity with core KERI concepts (AIDs, KELs, digital signatures, witnesses, OOBIs) is assumed.\n",
    "</div>"
   ]
  },
  {
   "cell_type": "markdown",
   "id": "053bfc13-d40a-430a-a728-5fe8ab8274ff",
   "metadata": {
    "editable": false,
    "slideshow": {
     "slide_type": ""
    },
    "tags": []
   },
   "source": [
    "## Connecting to a KERIA Agent\n",
    "\n",
    "Now that we understand the architecture, let's see how to use the [signify-ts](https://github.com/WebOfTrust/signify-ts) library to initialize a Signify controller and establish a connection with a KERIA agent. This process involves three main steps:\n",
    "1.  Initializing the `signify-ts` library, necessary since the dependency libsodium must be initialized in order to be used.\n",
    "2.  Creating a `SignifyClient` instance, creating your Client AID, which is where your cryptographic keypairs are stored in-memory, and contains your client's connection to a specific KERIA agent once bootstrapped.\n",
    "3.  Bootstrapping and connecting the client to a KERIA agent, which establishes the relationship Client AID and the delegated Agent AID in a specific KERIA instance."
   ]
  },
  {
   "cell_type": "markdown",
   "id": "cb8b59c4-7879-4e1a-b172-abed938abe9f",
   "metadata": {
    "editable": false,
    "slideshow": {
     "slide_type": ""
    },
    "tags": []
   },
   "source": [
    "<div class=\"alert alert-info\">\n",
    "    <b>ℹ️ Note: KERIA should be available</b><hr>\n",
    "    <p>This section assumes that a KERIA agent is running and its Boot and Admin interfaces are accessible at the specified URLs. In the context of these notebooks, KERIA is pre-configured and running as part of the Docker deployment.</p>\n",
    "</div>"
   ]
  },
  {
   "cell_type": "markdown",
   "id": "cc003d2b-4fd1-4b65-967c-1a373b9546f5",
   "metadata": {
    "editable": false,
    "slideshow": {
     "slide_type": ""
    },
    "tags": []
   },
   "source": [
    "### Initializing the Signify TS Library\n",
    "\n",
    "The `signify-ts` library contains components for cryptographic operations using libsodium. Before any of its functionalities can be used, these components must be initialized. This is achieved by calling and the `ready()` function. This function should be called at the initialization of your application before any functions or SignifyClient methods from `signify-ts` are used."
   ]
  },
  {
   "cell_type": "code",
   "execution_count": null,
   "id": "193e5a98-4cde-4657-8d02-498a622508b6",
   "metadata": {
    "editable": true,
    "slideshow": {
     "slide_type": ""
    },
    "tags": []
   },
   "outputs": [],
   "source": [
    "import { randomPasscode, ready, SignifyClient, Tier } from 'npm:signify-ts';\n",
    "\n",
    "await ready();\n",
    "\n",
    "console.log(\"Signify-ts library initialized and ready.\");"
   ]
  },
  {
   "cell_type": "markdown",
   "id": "14ebc6a6-badc-42ea-9686-344741911b7c",
   "metadata": {
    "editable": false,
    "slideshow": {
     "slide_type": ""
    },
    "tags": []
   },
   "source": [
    "### Creating the Client Instance\n",
    "Once the library is initialized, you can create an instance of `SignifyClient`. This object will be your primary interface for all interactions with the KERIA agent. It requires several parameters:\n",
    "\n",
    "- **url**: The URL of the KERIA agent's Admin Interface. The client uses this for most command and control operations after the initial connection is established.\n",
    "- **bran**: A 21-character, high-entropy string, often referred to as a \"passcode.\" This bran serves as the root salt for deriving the Client AID's signing and rotation keys via a Hierarchical Deterministic (HD) key algorithm. It is critical to treat the bran as securely as a private key. Losing it means losing control of the Client AID and any identifiers or ACDCs created in the connected KERIA Agent, if any.\n",
    "- **tier**: The security tier for the passcode hashing algorithm. Tier.low, Tier.med, and Tier.high represent different computational costs for deriving keys from the bran. Higher tiers are more resistant to brute-force attacks but require more processing power and time. The high tier is appropriate for any use. The low tier is primarily used for unit testing so that tests will complete quickly.\n",
    "- **bootUrl**: The URL of the KERIA agent's Boot Interface. This is used for the initial setup and provisioning of the agent worker for this client."
   ]
  },
  {
   "cell_type": "code",
   "execution_count": null,
   "id": "85d4d37d-3fe3-442f-b363-9b35089da1e6",
   "metadata": {
    "editable": true,
    "slideshow": {
     "slide_type": ""
    },
    "tags": []
   },
   "outputs": [],
   "source": [
    "const adminUrl = 'http://keria:3901'; // KERIA agent's Admin Interface URL\n",
    "const bootUrl = 'http://keria:3903';  // KERIA agent's Boot Interface URL\n",
    "\n",
    "// Generate a new random 21-character bran (passcode/salt)\n",
    "// In a real application, you would securely store and reuse this bran by having the user reenter it on opening the application.\n",
    "const bran = randomPasscode();\n",
    "\n",
    "// Create the SignifyClient instance\n",
    "const client = new SignifyClient(\n",
    "    adminUrl,\n",
    "    bran,\n",
    "    Tier.low, // Using Tier.low for faster execution\n",
    "    bootUrl\n",
    ");\n",
    "\n",
    "console.log('SignifyClient instance created.');\n",
    "console.log('Using Passcode (bran):', bran);"
   ]
  },
  {
   "cell_type": "markdown",
   "id": "69e227d5-e6f4-4fe9-8d3a-7fbc4804f691",
   "metadata": {
    "editable": false,
    "slideshow": {
     "slide_type": ""
    },
    "tags": []
   },
   "source": [
    "<div class=\"alert alert-info\">\n",
    "  <b>ℹ️ NOTE</b><hr>\n",
    "  <p>In a production environment, the <code>bran</code> must be securely generated and stored and should NOT be displayed on screen or in any log messages. It is displayed above for illustrative and training purposes only.</p>\n",
    "  <p>For a given Client AID, you must consistently use the same bran to reconnect and derive the correct private keys. Using <code>randomPasscode()</code> each time, as in this demo, will result in a new Client AID being created or an inability to connect to an existing one if the KERIA agent already has a state associated with a different bran for its controller.</p>\n",
    "</div>"
   ]
  },
  {
   "cell_type": "markdown",
   "id": "8e75aa86-dd4a-4cca-870d-72acf0d9da37",
   "metadata": {
    "editable": false,
    "slideshow": {
     "slide_type": ""
    },
    "tags": []
   },
   "source": [
    "### Bootstrapping and Connecting to the Agent\n",
    "\n",
    "With the `SignifyClient` instance created, the next step is to establish the initial connection and state with the KERIA agent. This involves two methods:\n",
    "\n",
    "- **`client.boot()`**: Initiates the bootstrapping process with the KERIA agent's Boot Interface:\n",
    "  - The client generates its Client AID using the provided bran.\n",
    "  - It sends the Client AID's inception event to the KERIA agent's Boot Interface, along with the KEL of the Client AID (also known as `caid`).\n",
    "  - The KERIA agent, upon successful verification of the client AID, creates a delegated Agent AID, that is delegated from the Client AID, and returns the delegated Agent AID inception event to the client.\n",
    "    - This step essentially provisions the necessary resources and partially the delegated relationship on the KERIA agent for this specific client.\n",
    "- **`client.connect()`**: After `boot()` (or if the agent has been previously booted with the same bran), connect() completes the delegation to the KERIA Agent AID via its Admin Interface on the first invocation of `.connect()`. All subsequent invocations reuse the existing Agent state and just read the existing key state from the already existing agent."
   ]
  },
  {
   "cell_type": "code",
   "execution_count": null,
   "id": "474591e6-5c40-4097-9e11-0ebc9303ee18",
   "metadata": {
    "editable": true,
    "slideshow": {
     "slide_type": ""
    },
    "tags": []
   },
   "outputs": [],
   "source": [
    "// Bootstrap the connection with the KERIA agent\n",
    "// This creates the Client AID and requests the Agent AID creation.\n",
    "await client.boot(); // Triggers a request to the /boot endpoint on the Boot URL from the initial SignifyClient configuration\n",
    "console.log('Client boot process initiated with KERIA agent.');\n",
    "\n",
    "// Completes the delegation, if needed, between the Client AID and the Agent AID, and initializes the SignifyClient dependencies.\n",
    "await client.connect();\n",
    "console.log('Client connected to KERIA agent.');\n",
    "\n",
    "// Retrieve and display the current state\n",
    "const state = await client.state();\n",
    "console.log('\\nConnection State Details:');\n",
    "console.log('-------------------------');\n",
    "console.log('Client AID Prefix: ', state.controller.state.i);\n",
    "console.log('Client AID Keys:   ', state.controller.state.k);\n",
    "console.log('Client AID Next Keys Digest: ', state.controller.state.n);\n",
    "console.log('')\n",
    "console.log('Agent AID Prefix:   ', state.agent.i);\n",
    "console.log('Agent AID Type:     ', state.agent.et); // Should be 'dip' for delegated inception\n",
    "console.log('Agent AID Delegator:', state.agent.di); // Should be the Client AID's prefix\n"
   ]
  },
  {
   "cell_type": "markdown",
   "id": "491426c1-1f71-48e1-b595-26b071dfec9b",
   "metadata": {
    "editable": false,
    "slideshow": {
     "slide_type": ""
    },
    "tags": []
   },
   "source": [
    "**Output Explanation:**\n",
    "\n",
    "- **Client AID Prefix:** The unique, self-certifying identifier for the controller AID of the SignifyClient instance, tied to the bran.\n",
    "- **Client AID Keys:** The current public signing key(s) for the Client AID.\n",
    "- **Client AID Next Keys Digest:** The digest (hash) of the public key(s) pre-rotated for the next key rotation of the Client AID.\n",
    "- **Agent AID Prefix:** The unique KERI AID of the KERIA agent worker associated with your client.\n",
    "- **Agent AID Type:** dip indicates a \"delegated inception\" event, signifying that this Agent AID's authority is delegated by another AID, in this case the Client AID of the SignifyClient instance.\n",
    "- **Agent AID Delegator:** This crucial field shows the prefix of the Client AID, confirming that the Agent AID is indeed delegated by your Client AID."
   ]
  },
  {
   "cell_type": "markdown",
   "id": "6a687210-3145-4551-8410-ffa5d071f239",
   "metadata": {
    "editable": false,
    "slideshow": {
     "slide_type": ""
    },
    "tags": []
   },
   "source": [
    "### Reconnecting to an Existing Agent\n",
    "If the KERIA agent has already been booted for a specific `bran` (Client AID), you don't need to call `client.boot()` again when using the same bran. You directly use `client.connect()`. SignifyTS will detect and reuse the existing agent state."
   ]
  },
  {
   "cell_type": "code",
   "execution_count": null,
   "id": "669e7bcc-e6af-4810-bb8a-15b321459140",
   "metadata": {
    "editable": true,
    "slideshow": {
     "slide_type": ""
    },
    "tags": []
   },
   "outputs": [],
   "source": [
    "// Create a new client instance with the SAME bran\n",
    "const client2 = new SignifyClient(\n",
    "    adminUrl,\n",
    "    bran, // Using the same bran as the first client\n",
    "    Tier.low,\n",
    "    bootUrl\n",
    ");\n",
    "console.log('Second SignifyClient instance created with the same bran.');\n",
    "\n",
    "// Connect without booting, as the agent state for this bran should already exist\n",
    "await client2.connect();\n",
    "console.log('Second client connected to the existing KERIA agent.');\n",
    "\n",
    "const state2 = await client2.state();\n",
    "console.log('\\nReconnection State Details:');\n",
    "console.log('---------------------------');\n",
    "console.log('Client AID Prefix:  ', state2.controller.state.i); // Should be the same Client AID\n",
    "console.log('Agent AID Prefix:   ', state2.agent.i);  // Should be the same Agent AID\n",
    "console.log('Agent AID Delegator:', state2.agent.di); // Should be the same Client AID"
   ]
  },
  {
   "cell_type": "markdown",
   "id": "1c029469-2d83-45e0-8d73-fe1bcaf7dee8",
   "metadata": {
    "editable": false,
    "slideshow": {
     "slide_type": ""
    },
    "tags": []
   },
   "source": [
    "<div class=\"alert alert-primary\">\n",
    "<b>📝 SUMMARY</b><hr>\n",
    "To connect to a KERIA agent using SignifyTS:\n",
    "<ol>\n",
    "<li>Initialize the library with <code>await ready()</code>.</li>\n",
    "<li>Create a <code>SignifyClient</code> instance, providing the agent's Admin and Boot URLs, a unique 21-character <code>bran</code> (passcode/salt for key derivation), and a security <code>Tier</code>.</li>\n",
    "<li>For the first-time connection with a new <code>bran</code>, call <code>await client.boot()</code> to provision the Client AID and request the creation of a delegated Agent AID from KERIA.</li>\n",
    "<li>Call <code>await client.connect()</code> to and retrieve the state of the Client and Agent AIDs and, on first invocation, complete any delegation approvals. The Client AID delegates authority to the Agent AID, whose inception event (type <code>dip</code>) will list the Client AID as its delegator.</li>\n",
    "<li>For subsequent connections using the same <code>bran</code>, skip <code>client.boot()</code> and directly use <code>client.connect()</code>.</li>\n",
    "</ol>\n",
    "The <code>bran</code> is critical for deriving the Client AID's keys and must be kept secure and reused consistently in order to have the same identity across time.\n",
    "</div>"
   ]
  },
  {
   "cell_type": "markdown",
   "id": "b0246e16-e42b-45cd-a8f5-3f0b8b4d90d5",
   "metadata": {
    "editable": false,
    "slideshow": {
     "slide_type": ""
    },
    "tags": []
   },
   "source": [
    "## Adding an Autonomic Identifier (AID)\n",
    "\n",
    "Once your Signify client is initialized and connected to the KERIA agent you can create new AIDs and instruct the agent to store key events and key indexes for the new AIDs, called managed AIDs. These AIDs will be controlled by your Client AID (established during the `connect()` phase) through the delegation mechanism.\n",
    "\n",
    "### Initiating AID Inception\n",
    "\n",
    "Creating a new AID occurs locally yet storing its KEL and current key index are asynchronous operations. When you request the KERIA agent to store the inception event and key index of the new AID the agent starts the process and also obtains witness receipts from any witnesses stated in the inception event. The `signify-ts` library handles this asynchronous operation by returning an \"operation\" object in response to creating an AID which you can then use to poll for completion of the inception process.\n",
    "\n",
    "The `client.identifiers().create()` method is used to start the inception of a new AID.\n",
    "\n",
    "**Parameters Explained:**\n",
    "\n",
    "- **aidAlias (string):** This is a human-readable alias that you assign to the AID within your Signify client's local storage. It is used to refer to this AID in subsequent client operations. It is not part of the KERI protocol itself but a convenience label for client-side management.\n",
    "- **inceptionArgs (object):** This object contains the configuration for the new AID:\n",
    "  - **toad (number):** The Threshold of Accountable Duplicity. This is the minimum number of witness receipts the controller (your Client AID via KERIA) requires for this new AID's events to be considered accountable.\n",
    "  - **wits (array of strings):** A list of AID prefixes of the witnesses that this new AID should use. These witnesses must be discoverable by your KERIA agent (e.g., pre-loaded during KERIA's startup or resolved via OOBIs by the client/agent).\n",
    "  - **Other parameters:** not shown for brevity but available, see **[CreateIdentifierArgs](https://weboftrust.github.io/signify-ts/interfaces/CreateIdentiferArgs.html)**"
   ]
  },
  {
   "cell_type": "code",
   "execution_count": null,
   "id": "d5f84075-4e13-4d80-8620-e90982176c66",
   "metadata": {
    "editable": true,
    "slideshow": {
     "slide_type": ""
    },
    "tags": []
   },
   "outputs": [],
   "source": [
    "// Define an alias for the new AID for easy reference within the client\n",
    "const aidAlias = 'newAid';\n",
    "\n",
    "// Inception request parameters\n",
    "const identifierArgs = {\n",
    "    toad: 2, // Threshold of Accountable Duplicity: minimum number of witness receipts required\n",
    "    wits: [   // List of witness AID prefixes to use for this AID\n",
    "        'BBilc4-L3tFUnfM_wJr4S4OJanAv_VmF_dJNN6vkf2Ha',\n",
    "        'BLskRTInXnMxWaGqcpSyMgo0nYbalW99cGZESrz3zapM',\n",
    "        'BIKKuvBwpmDVA4Ds-EpL5bt9OqPzWPja2LigFYZN2YfX'\n",
    "    ]\n",
    "    // Other parameters can be specified. If not, defaults are used.\n",
    "};\n",
    "\n",
    "// Creates and sends the locally client-signed inception event to the KERIA agent, \n",
    "//  - initializing to zero (0) the agent-stored key index for this AID.\n",
    "//  - causing the agent to obtain witness receipts for the event as needed\n",
    "const inceptionResult = await client.identifiers().create(aidAlias, identifierArgs);\n",
    "console.log(`AID inception initiated for alias: ${aidAlias}`);\n",
    "\n",
    "// The result contains information about the long-running operation\n",
    "const inceptionOperation = await inceptionResult.op();\n",
    "console.log('Inception Operation Details:');\n",
    "console.log(inceptionOperation);\n"
   ]
  },
  {
   "cell_type": "markdown",
   "id": "d641d1c0-4ba0-4ec5-8976-9aa3725ed540",
   "metadata": {
    "editable": false,
    "slideshow": {
     "slide_type": ""
    },
    "tags": []
   },
   "source": [
    "**Outout explained**\n",
    "\n",
    "Calling `inceptionResult.op()` returns a promise that resolves to an operation object containing:\n",
    "- **name:** A unique name for this long-running operation (e.g., `witness.AID_PREFIX`). KERIA uses this to track the task. The prefix in the name corresponds to the AID being created.\n",
    "- **metadata:** Contains details like the prefix (pre) of the AID being incepted and the sequence number (`sn`, which is 0 for inception).\n",
    "- **done:** A boolean indicating if the operation has completed. Initially, it's `false`.\n",
    "- **error:** Will contain error details if the operation fails.\n",
    "- **response:** Will contain the result of the operation (the signed inception event) once `done` is `true`."
   ]
  },
  {
   "cell_type": "markdown",
   "id": "a0ec9159-4b31-4ffa-be87-cb6453ad66bf",
   "metadata": {
    "editable": false,
    "slideshow": {
     "slide_type": ""
    },
    "tags": []
   },
   "source": [
    "### Waiting for Operation Completion\n",
    "Since AID inception involves network communication (e.g., with witnesses to gather receipts), it doesn't complete instantly. You need to poll or wait for the operation to finish. The `client.operations().wait()` method handles this, periodically checking with the KERIA agent until the operation's `done` flag becomes `true` or a timeout occurs."
   ]
  },
  {
   "cell_type": "code",
   "execution_count": null,
   "id": "05e6edc8-34d2-450e-8139-d45fe370a8f7",
   "metadata": {
    "editable": true,
    "slideshow": {
     "slide_type": ""
    },
    "tags": []
   },
   "outputs": [],
   "source": [
    "// Poll the KERIA agent for the completion of the inception operation.\n",
    "// AbortSignal.timeout(30000) sets a 30-second timeout for waiting.\n",
    "console.log('Waiting for inception operation to complete...');\n",
    "const operationResponse = await client\n",
    "    .operations()\n",
    "    .wait(inceptionOperation, AbortSignal.timeout(30000)); // Pass the operation name\n",
    "\n",
    "console.log('\\nInception Operation Completed:');\n",
    "console.log(operationResponse);\n",
    "\n",
    "// The actual inception event is in the 'response' field of the completed operation\n",
    "const newAidInceptionEvent = operationResponse.response;\n",
    "console.log(`\\nSuccessfully created AID with prefix: ${newAidInceptionEvent.i}`);\n",
    "console.log(`Witnesses specified: ${JSON.stringify(newAidInceptionEvent.b)}`);\n",
    "\n",
    "console.log(`Icp op name: ${inceptionOperation.name}`);\n",
    "const icpOp = await client.operations().get(inceptionOperation.name);\n",
    "console.log(\"Inception operation\");\n",
    "console.dir(icpOp);\n"
   ]
  },
  {
   "cell_type": "markdown",
   "id": "b8340ec0-b897-4b0f-9e67-da671df127bb",
   "metadata": {
    "editable": false,
    "slideshow": {
     "slide_type": ""
    },
    "tags": []
   },
   "source": [
    "**Completed Operation Output Explained:**\n",
    "\n",
    "- `done`: Now true, indicating the inception is received on the KERIA agent's side and has been witnessed (receipted and the agent received the receipts).\n",
    "- `response`: This field now contains the actual signed inception event (`icp`) for the newly created AID (`newAid`) originally submitted by the Client AID.\n",
    "- `i`: The prefix of the AID now receipted and stored locally in the KERIA agent's database.\n",
    "- `k`: The list of current public signing keys.\n",
    "- `n`: The list of digests of the next (pre-rotated) public keys.\n",
    "- `b`: The list of witness AIDs that this AID is configured to use.\n",
    "- `bt`: The Threshold of Accountable Duplicity (TOAD) specified during creation (matches toad: 2 from our request).\n",
    "\n",
    "The KERIA agent has successfully received the AID from the Controller AID, has communicated with witnesses to have the event receipted, and has stored its KEL, starting with the s inception event, in the local agent database."
   ]
  },
  {
   "cell_type": "markdown",
   "id": "137d5d17-b4b3-425d-ada1-200d0e99d057",
   "metadata": {
    "editable": false,
    "slideshow": {
     "slide_type": ""
    },
    "tags": []
   },
   "source": [
    "## Managing Agent Operations\n",
    "\n",
    "SignifyTS also provides methods to list and delete operations tracked by the KERIA agent for your client. This is useful to show in user interfaces so that the user knows when there are any in-progress operations for one or more managed AIDs."
   ]
  },
  {
   "cell_type": "markdown",
   "id": "6291b0e4-db03-4771-93d3-22bd6e5ac910",
   "metadata": {
    "editable": false,
    "slideshow": {
     "slide_type": ""
    },
    "tags": []
   },
   "source": [
    "### Listing Operations\n",
    "\n",
    "Listing operations is agent-wide meaning all operations for all AIDs on this agent will be returned."
   ]
  },
  {
   "cell_type": "code",
   "execution_count": null,
   "id": "b0690dc9-f444-40ae-91a8-41004943899b",
   "metadata": {
    "slideshow": {
     "slide_type": ""
    },
    "tags": []
   },
   "outputs": [],
   "source": [
    "// List all current long-running operations for this client\n",
    "const operationsList = await client.operations().list();\n",
    "console.log('\\nCurrent Operations List:');\n",
    "console.log(JSON.stringify(operationsList, null, 2));"
   ]
  },
  {
   "cell_type": "markdown",
   "id": "0fee36be-e068-4eef-a6a4-7199dcd2d2e4",
   "metadata": {
    "editable": false,
    "slideshow": {
     "slide_type": ""
    },
    "tags": []
   },
   "source": [
    "### Get Single Operation\n",
    "\n",
    "A single operation may be retrieved by name in order to view its state. The name of an operation is formatted as `<role>.<digest>` and the example `witness.EF03TKpT68zTvOeFJM4pU64XEonLsZ29rxYFKN8u8AFO` shows that this operation is waiting on a witnessfor the `EF03TKpT68zTvOeFJM4pU64XEonLsZ29rxYFKN8u8AFO` identifier."
   ]
  },
  {
   "cell_type": "code",
   "execution_count": null,
   "id": "fce1b31c-5257-4da5-b5b5-985383e4e393",
   "metadata": {
    "editable": true,
    "slideshow": {
     "slide_type": ""
    },
    "tags": []
   },
   "outputs": [],
   "source": [
    "console.log(`Icp op name: ${inceptionOperation.name}`);\n",
    "const icpOp = await client.operations().get(inceptionOperation.name);\n",
    "console.log(\"Inception operation\");\n",
    "console.dir(icpOp);"
   ]
  },
  {
   "cell_type": "markdown",
   "id": "e7f1e451-a61c-40cc-88be-e763b60ba4e3",
   "metadata": {
    "editable": false,
    "slideshow": {
     "slide_type": ""
    },
    "tags": []
   },
   "source": [
    "### Waiting on an Operation\n",
    "\n",
    "An operation may be waited on to know when an operation completes. Internally the SignifyTS library uses the `setTimeout` built-in along with an `AbortSignal` to control the polling loop that checks with the Signify controller's KERIA agent to determine operation status."
   ]
  },
  {
   "cell_type": "code",
   "execution_count": null,
   "id": "518f2a0a-848c-487b-bc4e-9b3005e5f22a",
   "metadata": {
    "editable": true,
    "slideshow": {
     "slide_type": ""
    },
    "tags": []
   },
   "outputs": [],
   "source": [
    "// this code sample focuses on operating waiting and is a simple version of what is shown above\n",
    "const aidAlias = 'waitAidExample';\n",
    "\n",
    "const icpArgs = {\n",
    "    toad: 1, \n",
    "    wits: ['BBilc4-L3tFUnfM_wJr4S4OJanAv_VmF_dJNN6vkf2Ha']\n",
    "};\n",
    "\n",
    "const icpRes = await client.identifiers().create(aidAlias, icpArgs);\n",
    "const icpOp = await icpRes.op();\n",
    "console.log('Inception Operation Details:');\n",
    "console.log(inceptionOperation);\n",
    "\n",
    "// the wait command below\n",
    "console.log('Waiting for inception operation to complete...');\n",
    "const operationResponse = await client\n",
    "    .operations()\n",
    "    .wait(icpOp, AbortSignal.timeout(5000)); // Pass the operation name\n",
    "console.log(\"Inception operation complete\");"
   ]
  },
  {
   "cell_type": "markdown",
   "id": "20e3096a-1524-4c9a-b8dd-8f81458cc399",
   "metadata": {
    "editable": false,
    "slideshow": {
     "slide_type": ""
    },
    "tags": []
   },
   "source": [
    "### Deleting Operations\n",
    "\n",
    "As you have seen above old operations stay in the operation list which may or may not be desirable. You may delete operations if you want to clean up the operations list using the Operation delete API as shown below. Run the code as many times as you need in order to clear out the list, running the `.list()` command to verify your operations are being removed from the long-running operations response list."
   ]
  },
  {
   "cell_type": "code",
   "execution_count": null,
   "id": "c59651de-0d84-47c0-910d-12da778c6b52",
   "metadata": {
    "editable": false,
    "slideshow": {
     "slide_type": ""
    },
    "tags": []
   },
   "outputs": [],
   "source": [
    "// Delete the completed inception operation (optional cleanup)\n",
    "const opNameToDelete = operationsList[0].name;\n",
    "await client.operations().delete(opNameToDelete);\n",
    "console.log(`\\nDeleted operation: ${opNameToDelete}`);"
   ]
  },
  {
   "cell_type": "markdown",
   "id": "c914f38c-33f0-48b2-85db-6c662974c922",
   "metadata": {
    "editable": false,
    "slideshow": {
     "slide_type": ""
    },
    "tags": []
   },
   "source": [
    "Now run the `client.operations().list()` function to see that the operations have been cleared out."
   ]
  },
  {
   "cell_type": "code",
   "execution_count": null,
   "id": "89aa3ffb-bf23-4326-81c6-697f01a4e0a2",
   "metadata": {
    "editable": true,
    "slideshow": {
     "slide_type": ""
    },
    "tags": []
   },
   "outputs": [],
   "source": [
    "// List all current long-running operations for this client\n",
    "const operationsList = await client.operations().list();\n",
    "console.log('\\nCurrent Operations List:');\n",
    "console.log(JSON.stringify(operationsList, null, 2));"
   ]
  },
  {
   "cell_type": "markdown",
   "id": "1636a51e-885b-42ca-8e8f-8c86e9dae6f5",
   "metadata": {
    "editable": false,
    "slideshow": {
     "slide_type": ""
    },
    "tags": []
   },
   "source": [
    "<div class=\"alert alert-primary\">\n",
    "<b>📝 SUMMARY</b><hr>\n",
    "To create a new AID using Signify-ts and a KERIA agent:\n",
    "<ol>\n",
    "<li>Use <code>client.identifiers().create(alias, config)</code> to create an inception event locally for a new AID and then send it to the KERIA agent for getting witness receipts and for storing the event and receipts in the agent database. Provide a client-side <code>alias</code> as a human-readable label for the AID and a <code>config</code> object specifying parameters like <code>toad</code> (Threshold of Accountable Duplicity) and <code>wits</code> (list of witness AIDs).</li>\n",
    "<li>The <code>create()</code> method returns an object from which you can get a long-running <code>operation</code> object using <code>.op()</code>. This operation is initially marked as not <code>done</code>.</li>\n",
    "<li>Use <code>client.operations().wait(operationName)</code> to poll the KERIA agent until the operation completes. The resolved object will have\n",
    "<code>done: true</code> and its <code>response</code> field will contain the signed inception event (<code>icp</code>) of the newly created AID.</li>\n",
    "<li>Operations can be listed with <code>client.operations().list()</code> and deleted with <code>client.operations().delete(operationName)</code>.</li>\n",
    "<li>Individual operations may be retrieved with <code>client.operations().get(name)</code>.</li>\n",
    "</ol>\n",
    "This process highlights the asynchronous nature of KERIA operations that involve agent-side processing and network interactions.\n",
    "</div>"
   ]
  },
  {
   "cell_type": "markdown",
   "id": "acec0c97-8eb4-4e71-a587-b9f129e6be6f",
   "metadata": {
    "editable": false,
    "slideshow": {
     "slide_type": ""
    },
    "tags": []
   },
   "source": [
    "[<- Prev (KERIA Signify)](102_05_KERIA_Signify.ipynb) | [Next (KERIA Signify Connecting Clients) ->](102_15_KERIA_Signify_Connecting_Clients.ipynb)"
   ]
  }
 ],
 "metadata": {
  "kernelspec": {
   "display_name": "Deno",
   "language": "typescript",
   "name": "deno"
  },
  "language_info": {
   "codemirror_mode": "typescript",
   "file_extension": ".ts",
   "mimetype": "text/x.typescript",
   "name": "typescript",
   "nbconvert_exporter": "script",
   "pygments_lexer": "typescript",
   "version": "5.8.3"
  }
 },
 "nbformat": 4,
 "nbformat_minor": 5
}
