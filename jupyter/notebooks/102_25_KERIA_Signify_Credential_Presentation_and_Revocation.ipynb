{
 "cells": [
  {
   "cell_type": "markdown",
   "id": "81f99b40-1abe-4f8d-b101-c5a5c6caac8e",
   "metadata": {
    "editable": false,
    "slideshow": {
     "slide_type": ""
    },
    "tags": []
   },
   "source": [
    "# SignifyTS: ACDC Presentation and Revocation with IPEX"
   ]
  },
  {
   "cell_type": "markdown",
   "id": "4cffa5ca-12d2-44ef-9fde-9e2ff7b6d360",
   "metadata": {
    "editable": false,
    "slideshow": {
     "slide_type": ""
    },
    "tags": []
   },
   "source": [
    "<div class=\"alert alert-primary\">\n",
    "<b>🎯 OBJECTIVE</b><hr>\n",
    "Demonstrate the process of presenting an ACDC (Authentic Chained Data Container) from a Holder to a Verifier using the IPEX protocol with the SignifyTS library and the process of credential revocation.\n",
    "</div>"
   ]
  },
  {
   "cell_type": "markdown",
   "id": "1987f110-0ed9-421c-b599-99721353521b",
   "metadata": {
    "editable": false,
    "slideshow": {
     "slide_type": ""
    },
    "tags": []
   },
   "source": [
    "<div class=\"alert alert-info\">\n",
    "<b>ℹ️ NOTE</b><hr>\n",
    "This section utilizes utility functions (from <code>./scripts_ts/utils.ts</code>) to quickly establish the necessary preconditions for credential presentation. Refer to the <a href=\"./101_65_ACDC_Issuance.ipynb\">ACDC Issuance</a> notebook for a detailed explanation of the setup steps.\n",
    "</div>"
   ]
  },
  {
   "cell_type": "markdown",
   "id": "6f900a57-e8b4-4e78-add9-1d3e74c4bbb5",
   "metadata": {
    "editable": false,
    "slideshow": {
     "slide_type": ""
    },
    "tags": []
   },
   "source": [
    "## Prerequisites: Client and Credential Setup \n",
    "\n",
    "The client setup process from the previous notebook is reused here."
   ]
  },
  {
   "cell_type": "code",
   "execution_count": null,
   "id": "d464857c-ab33-4fe3-9d88-12fbe61168cb",
   "metadata": {
    "editable": false,
    "slideshow": {
     "slide_type": ""
    },
    "tags": []
   },
   "outputs": [],
   "source": [
    "import { randomPasscode, Serder} from 'npm:signify-ts';\n",
    "import { initializeSignify, \n",
    "         initializeAndConnectClient,\n",
    "         createNewAID,\n",
    "         addEndRoleForAID,\n",
    "         generateOOBI,\n",
    "         resolveOOBI,\n",
    "         createTimestamp,\n",
    "         createCredentialRegistry,\n",
    "         getSchema,\n",
    "         issueCredential,\n",
    "         ipexGrantCredential,\n",
    "         getCredentialState,\n",
    "         waitForAndGetNotification,\n",
    "         ipexAdmitGrant,\n",
    "         markNotificationRead,\n",
    "         DEFAULT_IDENTIFIER_ARGS,\n",
    "         DEFAULT_TIMEOUT_MS,\n",
    "         DEFAULT_DELAY_MS,\n",
    "         DEFAULT_RETRIES,\n",
    "         ROLE_AGENT,\n",
    "         IPEX_GRANT_ROUTE,\n",
    "         IPEX_ADMIT_ROUTE,\n",
    "         IPEX_APPLY_ROUTE,\n",
    "         IPEX_OFFER_ROUTE,\n",
    "         SCHEMA_SERVER_HOST\n",
    "       } from './scripts_ts/utils.ts';\n",
    "\n",
    "// Clients setup\n",
    "// Initialize Issuer, Holder and Verifier Clients, Create AIDs for each one, assign 'agent' role to the AIDs\n",
    "// generate and resolve OOBIs \n",
    "\n",
    "// Issuer Client\n",
    "console.log(\"Creating Issuer...\")\n",
    "const issuerBran = randomPasscode()\n",
    "const issuerAidAlias = 'issuerAid'\n",
    "const { client: issuerClient } = await initializeAndConnectClient(issuerBran)\n",
    "const { aid: issuerAid} = await createNewAID(issuerClient, issuerAidAlias, DEFAULT_IDENTIFIER_ARGS);\n",
    "await addEndRoleForAID(issuerClient, issuerAidAlias, ROLE_AGENT);\n",
    "const issuerOOBI = await generateOOBI(issuerClient, issuerAidAlias, ROLE_AGENT);\n",
    "\n",
    "// Holder Client\n",
    "console.log(\"Creating Holder...\");\n",
    "const holderBran = randomPasscode()\n",
    "const holderAidAlias = 'holderAid'\n",
    "const { client: holderClient } = await initializeAndConnectClient(holderBran)\n",
    "const { aid: holderAid} = await createNewAID(holderClient, holderAidAlias, DEFAULT_IDENTIFIER_ARGS);\n",
    "await addEndRoleForAID(holderClient, holderAidAlias, ROLE_AGENT);\n",
    "const holderOOBI = await generateOOBI(holderClient, holderAidAlias, ROLE_AGENT);\n",
    "\n",
    "// Verifier Client\n",
    "console.log(\"Creating Verifier...\")\n",
    "const verifierBran = randomPasscode()\n",
    "const verifierAidAlias = 'verifierAid'\n",
    "const { client: verifierClient } = await initializeAndConnectClient(verifierBran)\n",
    "const { aid: verifierAid} = await createNewAID(verifierClient, verifierAidAlias, DEFAULT_IDENTIFIER_ARGS);\n",
    "await addEndRoleForAID(verifierClient, verifierAidAlias, ROLE_AGENT);\n",
    "const verifierOOBI = await generateOOBI(verifierClient, verifierAidAlias, ROLE_AGENT);\n",
    "\n",
    "console.log(\"Created issuer, holder, and verifier AIDs\");\n",
    "\n",
    "// Clients OOBI Resolution\n",
    "// Resolve OOBIs to establish connections Issuer-Holder, Holder-Verifier\n",
    "const issuerContactAlias = 'issuerContact';\n",
    "const holderContactAlias = 'holderContact';\n",
    "const verifierContactAlias = 'verifierContact';\n",
    "\n",
    "await resolveOOBI(issuerClient, holderOOBI, holderContactAlias);\n",
    "await resolveOOBI(holderClient, issuerOOBI, issuerContactAlias);\n",
    "await resolveOOBI(verifierClient, holderOOBI, holderContactAlias);\n",
    "await resolveOOBI(holderClient, verifierOOBI, verifierContactAlias);\n",
    "await resolveOOBI(issuerClient, verifierOOBI, holderContactAlias); // for sending revocation status\n",
    "\n",
    "console.log(\"Resolved agent OOBIs to connect issuer, holder, and verifier\");\n",
    "\n",
    "// Schemas OOBI Resolution\n",
    "// Resolve the Schemas from the Schema Server (VLEI-Server)\n",
    "const schemaContactAlias = 'schemaContact';\n",
    "const schemaSaid = 'EGUPiCVO73M9worPwR3PfThAtC0AJnH5ZgwsXf6TzbVK';\n",
    "const schemaOOBI = `http://vlei-server:7723/oobi/${schemaSaid}`;\n",
    "\n",
    "await resolveOOBI(issuerClient, schemaOOBI, schemaContactAlias);\n",
    "await resolveOOBI(holderClient, schemaOOBI, schemaContactAlias);\n",
    "await resolveOOBI(verifierClient, schemaOOBI, schemaContactAlias);\n",
    "\n",
    "console.log(\"Resolved schema OOBIs to discover the ACDC schema as issuer, holder, and verifier\");\n",
    "\n",
    "console.log(\"\\n\\n✅ Client setup and OOBI resolutions complete.\");"
   ]
  },
  {
   "cell_type": "markdown",
   "id": "c6d92c20-fd91-46ff-ba5c-378cc8203b4d",
   "metadata": {
    "editable": false,
    "slideshow": {
     "slide_type": ""
    },
    "tags": []
   },
   "source": [
    "As you will be conducting a credential presentation in this notebook, let's generate one for use in the presentation workflow. Again, this involves creating a credential registry for the issuer, creating the ACDC credential, and then using IPEX grant and admit actions to send the credential to the holder and finally to the verifier."
   ]
  },
  {
   "cell_type": "code",
   "execution_count": null,
   "id": "3c948aca-04b8-4465-b64b-843d1a627369",
   "metadata": {
    "editable": false,
    "slideshow": {
     "slide_type": ""
    },
    "tags": []
   },
   "outputs": [],
   "source": [
    "// Create Issuer Credential Registry\n",
    "const issuerRegistryName = 'issuerRegistry'\n",
    "console.log(\"Creating issuer registry\")\n",
    "const { registrySaid: registrySaid } = await createCredentialRegistry(issuerClient, issuerAidAlias, issuerRegistryName)\n",
    "\n",
    "// Define credential Claims\n",
    "const credentialClaims = {\n",
    "    \"eventName\":\"GLEIF Summit\",\n",
    "    \"accessLevel\":\"staff\",\n",
    "    \"validDate\":\"2026-10-01\"\n",
    "}\n",
    "\n",
    "// Issuer - Issue Credential\n",
    "console.log(\"issuing credential to holder\")\n",
    "const { credentialSaid: credentialSaid} = await issueCredential(\n",
    "    issuerClient, \n",
    "    issuerAidAlias, \n",
    "    registrySaid, \n",
    "    schemaSaid,\n",
    "    holderAid.i,\n",
    "    credentialClaims\n",
    ")\n",
    "\n",
    "// Issuer - get credential (with all its data)\n",
    "const credential = await issuerClient.credentials().get(credentialSaid);\n",
    "\n",
    "// Issuer - Ipex grant\n",
    "console.log(\"granting credential to holder\")\n",
    "const grantResponse = await ipexGrantCredential(\n",
    "    issuerClient,\n",
    "    issuerAidAlias, \n",
    "    holderAid.i,\n",
    "    credential\n",
    ")\n",
    "console.log(\"Issuer created and granted credential.\")\n",
    "\n",
    "// Holder - Wait for grant notification\n",
    "console.log(\"Holder waiting for credential\")\n",
    "const grantNotifications = await waitForAndGetNotification(holderClient, IPEX_GRANT_ROUTE)\n",
    "const grantNotification = grantNotifications[0]\n",
    "\n",
    "// Holder - Admit Grant\n",
    "const admitResponse = await ipexAdmitGrant(\n",
    "    holderClient,\n",
    "    holderAidAlias,\n",
    "    issuerAid.i,\n",
    "    grantNotification.a.d\n",
    ")\n",
    "console.log(\"Holder admitting credential\")\n",
    "\n",
    "// Holder - Mark notification\n",
    "await markNotificationRead(holderClient, grantNotification.i)\n",
    "\n",
    "// Issuer - Wait for admit notification\n",
    "console.log(\"Issuer receiving admit...\")\n",
    "const admitNotifications = await waitForAndGetNotification(issuerClient, IPEX_ADMIT_ROUTE)\n",
    "const admitNotification = admitNotifications[0]\n",
    "\n",
    "// Issuer - Mark notification\n",
    "await markNotificationRead(issuerClient, admitNotification.i)\n",
    "console.log(\"\\n\\n✅ Issuer received admit. Issuance and reception complete.\")"
   ]
  },
  {
   "cell_type": "markdown",
   "id": "5d7d2eb2-55c9-49d5-a151-ff4877317085",
   "metadata": {
    "editable": false,
    "slideshow": {
     "slide_type": ""
    },
    "tags": []
   },
   "source": [
    "<h2>Full Formal IPEX Credential Presentation Workflow: Apply through Admit</h2>\n",
    "<p>Now that the Holder possesses the credential, they can present it to a KERI AID acting as sample verifier.</p>\n",
    "\n",
    "<div class=\"alert alert-info\">\n",
    "    <b>NOTE: A more interesting verifier - vLEI Reporting API</b>\n",
    "    <hr/>\n",
    "    In this instance the verifier does not do anything special with the credential above and beyond receiving the credential presentation. To go beyond simple reception of the credential you may review the GLEIF <a href=\"https://github.com/GLEIF-IT/sally\">vLEI Reporting API verifier sally</a>. This verifier receives IPEX Grant messages, performs cryptographic verification on the chain of credentials, and also performs business logic checks on the types and issuer root of the parent QVI credential.\n",
    "</div>\n",
    "\n",
    "<p>Getting back to this simplistic verifier, the workflow in this notebook also uses IPEX which may start with any of the following IPEX operations:\n",
    "    <ol>\n",
    "        <li>IPEX Grant: The issuer or holder using an IPEX Grant to share the credential with a verifier.</li>\n",
    "        <li>IPEX Apply: This includes the whole IPEX chain (apply -> offer -> agree -> grant -> admit): This begins with the Verifier requesting a presentation using IPEX Apply, followed by the Holder's IPEX Offer, followed by the Verifier's IPEX Agree, then the Holder's IPEX Grant, ended by the Verifier's IPEX Admit.</li>\n",
    "        <li>IPEX Offer: This begins with the holder sending a metadata ACDC, or an ACDC showing the schema (shape) of data to share, to the verifier. The verifier can then respond with an IPEX Agree and the rest of the disclosure workflow with grant and admit can continue, as needed.</li>\n",
    "    </ol>\n",
    "</p>\n",
    "\n",
    "<p>Below we dive into the second option, the longer, whole IPEX chain and show the code snipets you need to follow to do the presentation. If you wanted to start with IPEX Grant in your process then you could skip to step 7 and begin with the IPEX Grant.</p>"
   ]
  },
  {
   "cell_type": "markdown",
   "id": "48b1a295-6f86-4c3c-82af-6d6978c13287",
   "metadata": {
    "editable": false,
    "slideshow": {
     "slide_type": ""
    },
    "tags": []
   },
   "source": [
    "### Step 1: Verifier Requests Presentation (Apply)\n",
    "\n",
    "The Verifier initiates the presentation process by sending an IPEX apply message. This `apply` message is an `exn` message specifying the criteria for the credential they are requesting. This includes the `schemaSaid` and can include specific attributes the credential must have."
   ]
  },
  {
   "cell_type": "code",
   "execution_count": null,
   "id": "a8a266da-1b83-4cbe-8dfc-4e10efd0709b",
   "metadata": {
    "editable": false,
    "slideshow": {
     "slide_type": ""
    },
    "tags": []
   },
   "outputs": [],
   "source": [
    "// Verifier Ipex Apply (Presentation request)\n",
    "\n",
    "// Prepare the IPEX apply message.\n",
    "const [apply, sigsApply, _endApply] = await verifierClient.ipex().apply({ //_endApply is not used\n",
    "    senderName: verifierAidAlias,     // Alias of the Verifier's AID\n",
    "    schemaSaid: schemaSaid,           // SAID of the schema for the requested credential\n",
    "    attributes: { eventName:'GLEIF Summit' }, // Specific attributes the credential should have\n",
    "    recipient: holderAid.i,           // AID of the Holder being asked for the presentation\n",
    "    datetime: createTimestamp(),      // Timestamp for the apply message\n",
    "});\n",
    "\n",
    "// Verifier submits the prepared apply message to the Holder.\n",
    "const applyOperation = await verifierClient\n",
    "    .ipex()\n",
    "    .submitApply(verifierAidAlias, apply, sigsApply, [holderAid.i]);\n",
    "console.log(\"Verifier sending IPEX Apply to holder...\")\n",
    "\n",
    "// Wait for the submission operation to complete.\n",
    "const applyResponse = await verifierClient\n",
    "    .operations()\n",
    "    .wait(applyOperation, AbortSignal.timeout(DEFAULT_TIMEOUT_MS));\n",
    "console.log(\"IPEX Apply succeeded\")\n",
    "\n",
    "// Clean up the operation.\n",
    "await verifierClient.operations().delete(applyOperation.name);\n",
    "console.log(\"✅ IPEX Apply complete\")"
   ]
  },
  {
   "cell_type": "markdown",
   "id": "34a80ce4-dac4-4144-ba80-0366324619d9",
   "metadata": {
    "editable": false,
    "slideshow": {
     "slide_type": ""
    },
    "tags": []
   },
   "source": [
    "### Step 2: Holder Receives Apply Request\n",
    "\n",
    "#### Holder Apply Notification and Exchange\n",
    "\n",
    "The Holder receives a notification for the Verifier's `apply` request. They retrieve the details of this request from the exchange message. After processing, the Holder marks the notification as read."
   ]
  },
  {
   "cell_type": "code",
   "execution_count": null,
   "id": "ace1d368-b9f0-446b-97e9-eb9757369803",
   "metadata": {
    "editable": false,
    "slideshow": {
     "slide_type": ""
    },
    "tags": []
   },
   "outputs": [],
   "source": [
    "// Holder receives the IPEX apply notification from the Verifier.\n",
    "\n",
    "let holderApplyNotifications;\n",
    "\n",
    "// Retry loop for the Holder to receive the apply notification.\n",
    "for (let attempt = 1; attempt <= DEFAULT_RETRIES ; attempt++) {\n",
    "    try{\n",
    "        // List notifications, filtering for unread IPEX_APPLY_ROUTE messages.\n",
    "        let allNotifications = await holderClient.notifications().list()\n",
    "        holderApplyNotifications = allNotifications.notes.filter(\n",
    "            (n) => n.a.r === IPEX_APPLY_ROUTE && n.r === false // where \"is read\" (n.r) is false.\n",
    "        )        \n",
    "        if(holderApplyNotifications.length === 0){ \n",
    "            throw new Error(\"Apply notification not found\"); // Throw error to trigger retry\n",
    "        }\n",
    "        break; // Exit loop if notification found\n",
    "    }\n",
    "    catch (error){    \n",
    "         console.log(`[Retry] Apply notification not found for Holder on attempt #${attempt} of ${DEFAULT_RETRIES}`);\n",
    "         if (attempt === DEFAULT_RETRIES) {\n",
    "             console.error(`[Retry] Max retries (${DEFAULT_RETRIES}) reached for Holder's apply notification.`);\n",
    "             throw error; \n",
    "         }\n",
    "         console.log(`[Retry] Waiting ${DEFAULT_DELAY_MS}ms before next attempt...`);\n",
    "         await new Promise(resolve => setTimeout(resolve, DEFAULT_DELAY_MS));\n",
    "    }\n",
    "}\n",
    "\n",
    "const applyNotificationForHolder = holderApplyNotifications[0] // Assuming one notification\n",
    "\n",
    "console.log(\"Holder received Apply Notification:\");\n",
    "console.log(applyNotificationForHolder);\n",
    "\n",
    "// Retrieve the full IPEX apply exchange details.\n",
    "const applyExchange = await holderClient.exchanges().get(applyNotificationForHolder.a.d);\n",
    "console.log(\"\\nDetails of Apply Exchange received by Holder:\");\n",
    "console.log(applyExchange);\n",
    "\n",
    "// Extract the SAID of the apply 'exn' message for use in the offer.\n",
    "const applyExchangeSaid = applyExchange.exn.d;\n",
    "\n",
    "// Holder marks the apply notification as read.\n",
    "await holderClient.notifications().mark(applyNotificationForHolder.i);\n",
    "console.log(\"\\nHolder's notifications after marking apply as read:\");\n",
    "console.log(await holderClient.notifications().list());\n",
    "\n",
    "console.log(\"\\n\\n✅ Holder notification processing complete.\")"
   ]
  },
  {
   "cell_type": "markdown",
   "id": "f6e7345b-60c6-4e1b-bf65-45888eb7dcd0",
   "metadata": {
    "editable": false,
    "slideshow": {
     "slide_type": ""
    },
    "tags": []
   },
   "source": [
    "### Step 3: Holder Finds Matching Credential\n",
    "\n",
    "The Holder now needs to find a credential in their possession that satisfies the Verifier's `apply` request (matches the schema SAID and any specified attributes). The code below constructs a filter based on the `applyExchange` data and uses it to search the Holder's credentials.\n",
    "\n",
    "The syntax of the `filter` attribute below sent to the `credentials().list(...)` call is intended to be similar to the MongoDB search syntax and is inspired by it."
   ]
  },
  {
   "cell_type": "code",
   "execution_count": null,
   "id": "19ad2965-167d-4f3f-8d73-9a2116c3b7f6",
   "metadata": {
    "editable": false,
    "slideshow": {
     "slide_type": ""
    },
    "tags": []
   },
   "outputs": [],
   "source": [
    "// The apply operation from the Verifier asks for a specific credential \n",
    "// (matching schema and attribute values).\n",
    "// This code snippet creates a credential filter based on the criteria\n",
    "// from the applyExchange message received by the Holder.\n",
    "\n",
    "let filter: { [x: string]: any } = { '-s': applyExchange.exn.a.s }; // Filter by schema SAID\n",
    "// Add attribute filters from the apply request\n",
    "for (const key in applyExchange.exn.a.a) { // 'a.a' contains the requested attributes\n",
    "    filter[`-a-${key}`] = applyExchange.exn.a.a[key];\n",
    "}\n",
    "\n",
    "console.log(\"Constructed filter for matching credentials:\");\n",
    "console.log(filter);\n",
    "\n",
    "// Holder lists credentials matching the filter.\n",
    "const matchingCredentials = await holderClient.credentials().list({ filter });\n",
    "\n",
    "console.log(\"Matching credentials found by Holder:\");\n",
    "console.log(matchingCredentials); // Should list the EventPass credential issued earlier\n",
    "console.log(\"\\n\\n✅ Matching credential complete.\")"
   ]
  },
  {
   "cell_type": "markdown",
   "id": "3cb0ac04-1a21-44cf-b1d3-5c49967ae60f",
   "metadata": {
    "editable": false,
    "slideshow": {
     "slide_type": ""
    },
    "tags": []
   },
   "source": [
    "### Step 4: Holder Offers Credential\n",
    "\n",
    "Assuming a matching credential is found, the Holder prepares an IPEX offer message. This `offer` is intended to include only the metadata ACDC showing only the schema of the eventual full ACDC that will be presented later with an IPEX grant. This offer is sent back to the Verifier."
   ]
  },
  {
   "cell_type": "code",
   "execution_count": null,
   "id": "917ea3e4-d611-44e6-a401-e9d04ac4e0b4",
   "metadata": {
    "editable": false,
    "slideshow": {
     "slide_type": ""
    },
    "tags": []
   },
   "outputs": [],
   "source": [
    "// Holder prepares and submits an IPEX offer message with the matching credential.\n",
    "\n",
    "// Prepare the IPEX offer message.\n",
    "const [offer, sigsOffer, endOffer] = await holderClient.ipex().offer({\n",
    "    senderName: holderAidAlias,                   // Alias of the Holder's AID\n",
    "    recipient: verifierAid.i,                     // AID of the Verifier\n",
    "    acdc: new Serder(matchingCredentials[0].sad), // The ACDC being offered (first matching credential)\n",
    "    applySaid: applyExchangeSaid,                 // SAID of the Verifier's apply 'exn' message this offer is responding to\n",
    "    datetime: createTimestamp(),                  // Timestamp for the offer message\n",
    "});\n",
    "\n",
    "// Holder submits the prepared offer message to the Verifier.\n",
    "const offerOperation = await holderClient\n",
    "    .ipex()\n",
    "    .submitOffer(holderAidAlias, offer, sigsOffer, endOffer, [\n",
    "        verifierAid.i, // Recipient AID\n",
    "    ]);\n",
    "console.log(\"Submitting Offer from holder to Verifier.\")\n",
    "\n",
    "// Wait for the submission operation to complete.\n",
    "const offerResponse = await holderClient\n",
    "    .operations()\n",
    "    .wait(offerOperation, AbortSignal.timeout(DEFAULT_TIMEOUT_MS));\n",
    "console.log(\"Holder submitted IPEX Offer to Verifier.\");\n",
    "\n",
    "// Clean up the operation.\n",
    "await holderClient.operations().delete(offerOperation.name);\n",
    "console.log(\"Holder deleted Offer operation.\");\n",
    "console.log(\"\\n\\n✅ Holder IPEX Offer complete.\")\n",
    "\n"
   ]
  },
  {
   "cell_type": "markdown",
   "id": "70630a2f-bcb2-4201-8218-b4fc2f7c64a3",
   "metadata": {
    "editable": false,
    "slideshow": {
     "slide_type": ""
    },
    "tags": []
   },
   "source": [
    "### Step 5: Verifier Receives Offer\n",
    "\n",
    "The Verifier receives a notification for the Holder's `offer`. The Verifier retrieves the exchange details and marks the notification.\n",
    "\n",
    "An offer is one of the three possible initiating IPEX actions along with Apply and Grant. An IPEX exchange may begin with an Offer to which a receiver, or disclosee, of the Offer would respond with an IPEX Agree, followed by a Grant and an Admit."
   ]
  },
  {
   "cell_type": "code",
   "execution_count": null,
   "id": "5dc4d9a1-6c77-4871-ad0a-5ac04fe80692",
   "metadata": {
    "editable": false,
    "slideshow": {
     "slide_type": ""
    },
    "tags": []
   },
   "outputs": [],
   "source": [
    "// Verifier receives the IPEX offer notification from the Holder.\n",
    "\n",
    "let verifierOfferNotifications;\n",
    "\n",
    "// Retry loop for the Verifier to receive the offer notification.\n",
    "for (let attempt = 1; attempt <= DEFAULT_RETRIES ; attempt++) {\n",
    "    try{\n",
    "        // List notifications, filtering for unread IPEX_OFFER_ROUTE messages.\n",
    "        verifierOfferNotifications = await verifierClient.notifications().list(\n",
    "            (n) => n.a.r === IPEX_OFFER_ROUTE && n.r === false\n",
    "        );\n",
    "        if(verifierOfferNotifications.notes.length === 0){ \n",
    "            throw new Error(\"Offer notification not found\"); // Throw error to trigger retry\n",
    "        }\n",
    "        break; // Exit loop if notification found\n",
    "    }\n",
    "    catch (error){    \n",
    "         console.log(`[Retry] Offer notification not found for Verifier on attempt #${attempt} of ${DEFAULT_RETRIES}`);\n",
    "         if (attempt === DEFAULT_RETRIES) {\n",
    "             console.error(`[Retry] Max retries (${DEFAULT_RETRIES}) reached for Verifier's offer notification.`);\n",
    "             throw error; \n",
    "         }\n",
    "         console.log(`[Retry] Waiting ${DEFAULT_DELAY_MS}ms before next attempt...`);\n",
    "         await new Promise(resolve => setTimeout(resolve, DEFAULT_DELAY_MS));\n",
    "    }\n",
    "}\n",
    "\n",
    "const offerNotificationForVerifier = verifierOfferNotifications.notes[0]; // Assuming one notification\n",
    "\n",
    "console.log(\"Verifier received Offer Notification:\");\n",
    "console.log(offerNotificationForVerifier);\n",
    "\n",
    "// Retrieve the full IPEX offer exchange details.\n",
    "const offerExchange = await verifierClient.exchanges().get(offerNotificationForVerifier.a.d);\n",
    "console.log(\"\\nDetails of Offer Exchange received by Verifier:\");\n",
    "console.log(offerExchange); // This will contain the ACDC presented by the Holder\n",
    "\n",
    "// Extract the SAID of the offer 'exn' message for use in the agree.\n",
    "let offerExchangeSaid = offerExchange.exn.d;\n",
    "\n",
    "// Verifier marks the offer notification as read.\n",
    "await verifierClient.notifications().mark(offerNotificationForVerifier.i);\n",
    "console.log(\"\\n\\nVerifier's notifications after marking offer as read:\");\n",
    "console.log(await verifierClient.notifications().list());\n",
    "console.log(\"\\n\\n✅ Verifier Offer notification handling complete.\")"
   ]
  },
  {
   "cell_type": "markdown",
   "id": "ea57c128-c50e-44a7-8626-f1e67148ab61",
   "metadata": {
    "editable": false,
    "slideshow": {
     "slide_type": ""
    },
    "tags": []
   },
   "source": [
    "### Step 6: Verifier Agrees and Validates\n",
    "\n",
    "Next, the Verifier, after validating the offered metadata ACDC credential (which signify-ts does implicitly upon processing the offer and preparing the agree), will send an IPEX agree message back to the Holder. This confirms successful receipt and validation of the metadata ACDC credential presented. This means that the verifier has agreed that the schema of the data being sent back is acceptable to the verifier. The actual data is shared later in the IPEX Grant step."
   ]
  },
  {
   "cell_type": "code",
   "execution_count": null,
   "id": "944f5eec-0772-412a-9258-93830bad1582",
   "metadata": {
    "editable": false,
    "slideshow": {
     "slide_type": ""
    },
    "tags": []
   },
   "outputs": [],
   "source": [
    "// Verifier prepares and submits an IPEX agree message.\n",
    "\n",
    "// Prepare the IPEX agree message.\n",
    "const [agree, sigsAgree, _endAgree] = await verifierClient.ipex().agree({\n",
    "    senderName: verifierAidAlias, // Alias of the Verifier's AID\n",
    "    recipient: holderAid.i,       // AID of the Holder\n",
    "    offerSaid: offerExchangeSaid, // SAID of the Holder's offer 'exn' message this agree is responding to\n",
    "    datetime: createTimestamp(),  // Timestamp for the agree message\n",
    "});\n",
    "\n",
    "// Verifier submits the prepared agree message to the Holder.\n",
    "const agreeOperation = await verifierClient\n",
    "    .ipex()\n",
    "    .submitAgree(verifierAidAlias, agree, sigsAgree, [holderAid.i]);\n",
    "console.log(\"Verifier submitted IPEX Agree to Holder\")\n",
    "\n",
    "// Wait for the submission operation to complete.\n",
    "const agreeResponse = await verifierClient\n",
    "    .operations()\n",
    "    .wait(agreeOperation, AbortSignal.timeout(DEFAULT_TIMEOUT_MS));\n",
    "console.log(\"Verifier IPEX Agree sent\");\n",
    "\n",
    "// Clean up the operation.\n",
    "await verifierClient.operations().delete(agreeOperation.name);\n",
    "console.log(\"Verifier deleted Agree operation\");\n",
    "console.log(\"\\n\\n✅ Verifier IPEX Agree complete.\")\n",
    "\n",
    "// At this point, the Verifier has successfully received and validated the metadata ACDC credential."
   ]
  },
  {
   "cell_type": "markdown",
   "id": "35a8ccce-9401-4a30-9bfd-73a8a980c56f",
   "metadata": {
    "editable": false,
    "slideshow": {
     "slide_type": ""
    },
    "tags": []
   },
   "source": [
    "### Step 7: Holder shares credential with IPEX Grant\n",
    "\n",
    "The act of sharing a credential and its data with the verifier happens with an IPEX Grant as shown below. This can be the first operation in a chain of IPEX operations or it can be performed after an IPEX Agree. In this case the grant occurs after an agree so we will chain to the prior agreement."
   ]
  },
  {
   "cell_type": "code",
   "execution_count": null,
   "id": "af834aff-c998-4cd7-93f3-5b66aab449b6",
   "metadata": {
    "editable": false,
    "slideshow": {
     "slide_type": ""
    },
    "tags": []
   },
   "outputs": [],
   "source": [
    "// Holder - get credential (with all its data)\n",
    "const credential = await holderClient.credentials().get(credentialSaid);\n",
    "\n",
    "// Holder - Ipex grant\n",
    "console.log(\"Granting credential from holder to issuer\")\n",
    "const grantResponse = await ipexGrantCredential(\n",
    "    holderClient,\n",
    "    holderAidAlias, \n",
    "    verifierAid.i,\n",
    "    credential\n",
    ")\n",
    "console.log(\"✅ Holder granted credential.\")"
   ]
  },
  {
   "cell_type": "markdown",
   "id": "318457f3-fa32-4070-9c1c-e705311a048b",
   "metadata": {
    "editable": false,
    "slideshow": {
     "slide_type": ""
    },
    "tags": []
   },
   "source": [
    "After the holder sends the IPEX Grant then the verifier will receive two things:\n",
    "- The notification of the IPEX Grant\n",
    "- An IPEX Grant, which is an exchange message, abbreviated as `exn`.\n",
    "\n",
    "The notification message contains a digest of the `exn` IPEX Grant message, which contains the presented ACDC as an embedded data property. So, to retrieve the ACDC the grant `exn` digest should be retrieved from the `a.d` property of the notification and used to load the "
   ]
  },
  {
   "cell_type": "code",
   "execution_count": null,
   "id": "7d6c75cb-49f6-48fd-bc64-ed55299ecc26",
   "metadata": {
    "editable": false,
    "slideshow": {
     "slide_type": ""
    },
    "tags": []
   },
   "outputs": [],
   "source": [
    "// Verifier - Wait for grant notification\n",
    "console.log(\"Verifier waiting for credential\")\n",
    "const grantNotifications = await waitForAndGetNotification(verifierClient, IPEX_GRANT_ROUTE)\n",
    "const grantNotification = grantNotifications[0]\n",
    "console.log(\"Verifier received IPEX Grant notification\", grantNotification)\n",
    "\n",
    "// Retrieve the full IPEX offer exchange details.\n",
    "const grantExn = await verifierClient.exchanges().get(grantNotification.a.d);\n",
    "console.log(\"Details of ACDC embedded in the Grant Exchange received by Verifier:\");\n",
    "const embeddedACDC = grantExn.exn.e.acdc;\n",
    "console.log(embeddedACDC); // This will contain the ACDC presented by the Holder\n",
    "\n",
    "console.log(\"\\n\\n✅ Verifier IPEX Grant notification processing complete.\")"
   ]
  },
  {
   "cell_type": "markdown",
   "id": "081bc9bd-cb81-419d-91af-7a95cd30850e",
   "metadata": {
    "editable": false,
    "slideshow": {
     "slide_type": ""
    },
    "tags": []
   },
   "source": [
    "As you see the ACDC has already been received by the verifier. \n",
    "\n",
    "This means that the verifier could act on the ACDC directly after receiving the Exchange message for the IPEX Grant containing the ACDC. Sending back an IPEX Admit message is entirely optional and is left up to the architectural design preferences of the individual application implementor. The [vLEI Reporting API verifier (sally)](https://github.com/GLEIF-IT/sally/) used by GLEIF in production follows the model of extracting the ACDC from the IPEX Grant `exn` and does not send back an IPEX Admit message because sending the admit, in this use case, does not yet provide business value. That might change in the future.\n",
    "\n",
    "This demonstration shows completing the entire formal IPEX workflow by using an IPEX Gdmit to respond to the IPEX Grant."
   ]
  },
  {
   "cell_type": "markdown",
   "id": "945786a9-1737-4240-b417-6c1ffcfeec02",
   "metadata": {
    "editable": false,
    "slideshow": {
     "slide_type": ""
    },
    "tags": []
   },
   "source": [
    "### Step 8: Verifier Sends IPEX Admit to the Holder\n",
    "\n",
    "While a verifier does not have to explicitly admit a credential doing so may provide valuable information to the holder or issuer depending on the use case so that workflow is shown below."
   ]
  },
  {
   "cell_type": "code",
   "execution_count": null,
   "id": "899d1c0a-88a7-4a16-9437-a511135b9936",
   "metadata": {
    "editable": false,
    "slideshow": {
     "slide_type": ""
    },
    "tags": []
   },
   "outputs": [],
   "source": [
    "// Verifier - Admit Grant\n",
    "const admitResponse = await ipexAdmitGrant(\n",
    "    verifierClient,\n",
    "    verifierAidAlias,\n",
    "    holderAid.i,\n",
    "    grantNotification.a.d\n",
    ")\n",
    "console.log(\"Verifier admitting credential\")\n",
    "\n",
    "// Verifier - Mark notification\n",
    "await markNotificationRead(verifierClient, grantNotification.i)\n",
    "console.log(\"\\n✅ Verifier marked notification read\")"
   ]
  },
  {
   "cell_type": "markdown",
   "id": "ee664cb1-7cf5-4753-8334-5b8c0b31b21b",
   "metadata": {
    "editable": false,
    "slideshow": {
     "slide_type": ""
    },
    "tags": []
   },
   "source": [
    "You can now view the Verifier's list of notifications to see that the Grant notification has been marked as read."
   ]
  },
  {
   "cell_type": "code",
   "execution_count": null,
   "id": "fcd09d54-7c8d-4a57-8f26-c53317cb7ebd",
   "metadata": {
    "editable": false,
    "slideshow": {
     "slide_type": ""
    },
    "tags": []
   },
   "outputs": [],
   "source": [
    "// Verifier shows Grant notification is now read\n",
    "let notifications;\n",
    "// Retry loop to fetch notifications.\n",
    "for (let attempt = 1; attempt <= DEFAULT_RETRIES ; attempt++) {\n",
    "    try{\n",
    "        // List notifications, filtering for unread IPEX_GRANT_ROUTE messages.\n",
    "        let allNotifications = await verifierClient.notifications().list( );\n",
    "        notifications = allNotifications.notes.filter(\n",
    "            (n) => n.a.r === IPEX_GRANT_ROUTE // get all notifications even if read\n",
    "        )        \n",
    "        if(notifications.length === 0){ \n",
    "            throw new Error(\"Grant notification not found\"); // Throw error to trigger retry\n",
    "        }\n",
    "        console.log(\"Found a notification for an IPEX Grant\");\n",
    "        break;     \n",
    "    }\n",
    "    catch (error){    \n",
    "         console.log(`[Retry] Grant notification not found on attempt #${attempt} of ${DEFAULT_RETRIES}`);\n",
    "         if (attempt === DEFAULT_RETRIES) {\n",
    "             console.error(`[Retry] Max retries (${DEFAULT_RETRIES}) reached for grant notification.`);\n",
    "             throw error; \n",
    "         }\n",
    "         console.log(`[Retry] Waiting ${DEFAULT_DELAY_MS}ms before next attempt...`);\n",
    "         await new Promise(resolve => setTimeout(resolve, DEFAULT_DELAY_MS));\n",
    "    }\n",
    "}\n",
    "\n",
    "const grantNote = notifications[0]  // Assuming only one grant notification for simplicity\n",
    "console.log(\"✅ Existing grant notification for verifier now shows as read with 'r: true'\");\n",
    "console.log(grantNote);"
   ]
  },
  {
   "cell_type": "markdown",
   "id": "b80896ed-3bae-4855-b93a-7f8b2ea77b19",
   "metadata": {
    "editable": false,
    "slideshow": {
     "slide_type": ""
    },
    "tags": []
   },
   "source": [
    "Lastly the holder receives the admit which also means receiving a notification of the IPEX Admit. This notification can be marked as read to signify that the entire formal process is complete as shown below."
   ]
  },
  {
   "cell_type": "code",
   "execution_count": null,
   "id": "4ed89929-0846-46ab-9cf7-cf508f26acc1",
   "metadata": {
    "editable": false,
    "slideshow": {
     "slide_type": ""
    },
    "tags": []
   },
   "outputs": [],
   "source": [
    "// Holder - Wait for admit notification\n",
    "console.log(\"Holder receiving admit...\")\n",
    "const admitNotifications = await waitForAndGetNotification(holderClient, IPEX_ADMIT_ROUTE)\n",
    "const admitNotification = admitNotifications[0]\n",
    "\n",
    "// Issuer - Mark notification\n",
    "await markNotificationRead(holderClient, admitNotification.i)\n",
    "console.log(\"\\n\\n✅ Holder received admit. Presentation exchange complete.\")"
   ]
  },
  {
   "cell_type": "markdown",
   "id": "85132bbf-ec7c-4d79-9cff-baa8f2bd3c40",
   "metadata": {
    "editable": false,
    "slideshow": {
     "slide_type": ""
    },
    "tags": []
   },
   "source": [
    "## Credential Revocation by Issuer\n",
    "\n",
    "Circumstances may require a credential to be invalidated before its intended expiry or if it has no expiry. This process is known as revocation. Only the original Issuer of a credential can revoke it. Revocation involves the Issuer recording a revocation event in the specific credential's Transaction Event Log (TEL), which is part of the Issuer's credential database. This event is, like all TEL events, anchored to the Issuer's KEL. The issuer may directly tell the holder of the revocation status, which the holder may, in turn, directly tell a verifier, using the IPEX Grant and Admit steps.\n",
    "\n",
    "The Issuer uses the `issuerClient.credentials().revoke()` method, specifying the alias of their issuing AID and the SAID of the credential to be revoked. This action creates a new event in the TEL associated with the credential, marking its status as revoked.\n",
    "\n",
    "First, check the credential status before revocation. The status object contains details about the latest event in the credential's TEL. The `et` field indicates the event type (e.g., `iss` for issuance)."
   ]
  },
  {
   "cell_type": "code",
   "execution_count": null,
   "id": "b5a74498-256c-4e36-9217-86d5fda9a237",
   "metadata": {
    "editable": false,
    "slideshow": {
     "slide_type": ""
    },
    "tags": []
   },
   "outputs": [],
   "source": [
    "\n",
    "// Log the credential's status from the Issuer's perspective before revocation.\n",
    "// The 'status' field shows the latest event in the credential's Transaction Event Log (TEL).\n",
    "// 'et: \"iss\"' indicates it's currently in an issued state.\n",
    "const statusBefore = (await issuerClient.credentials().get(credentialSaid)).status;\n",
    "console.log(\"Credential status before revocation:\", statusBefore);\n",
    "\n",
    "// Issuer revokes the credential.\n",
    "// This creates a revocation event in the credential's TEL within the Issuer's registry.\n",
    "const revokeResult = await issuerClient.credentials().revoke(issuerAidAlias, credentialSaid); // Changed from revokeOperation to revokeResult to get .op\n",
    "const revokeOperation = revokeResult.op; // Get the operation from the result\n",
    "\n",
    "// Wait for the revocation operation to complete.\n",
    "const revokeResponse = await issuerClient\n",
    "    .operations()\n",
    "    .wait(revokeOperation, AbortSignal.timeout(DEFAULT_TIMEOUT_MS)); // Used revokeOperation directly\n",
    "\n",
    "// Log the credential status after revocation.\n",
    "// Note the 'et: \"rev\"' indicating it's now revoked, and the sequence number 's' has incremented.\n",
    "const statusAfter = (await issuerClient.credentials().get(credentialSaid)).status;\n",
    "console.log(\"✅ Credential status after revocation:\", statusAfter);"
   ]
  },
  {
   "cell_type": "markdown",
   "id": "7d1684ed-1693-458f-afb7-0fd570b38165",
   "metadata": {
    "editable": false,
    "slideshow": {
     "slide_type": ""
    },
    "tags": []
   },
   "source": [
    "The output shows the change in the credential's status object:\n",
    "\n",
    "- Before revocation, `et` (event type) was `iss`.\n",
    "- After revocation, `et` is `rev`.\n",
    "- The sequence number `s` of the TEL event also increments, reflecting the new event.\n",
    "- The digest d of the event changes, as it's a new event.\n",
    "\n",
    "This demonstrates that the Issuer has successfully updated the credential's status in their registry. Anyone (like a Verifier) who subsequently checks this registry for the credential's status will see that it has been revoked."
   ]
  },
  {
   "cell_type": "markdown",
   "id": "43f97253-ad50-42c3-acca-1bf8bbf87f1d",
   "metadata": {
    "editable": false,
    "slideshow": {
     "slide_type": ""
    },
    "tags": []
   },
   "source": [
    "### Propagating revocation state to Holders and Verifiers\n",
    "\n",
    "Knowing issuance and revocation state for ACDC credentials comprises an essential part of some use cases and so propagating revocation state to verifiers, and possibly holders becomes an important workflow. Direct transmission of revocation state is one way of propagating this state between either an issue and a holder, between an issuer and a verifier, or between a holder and a verifier. This direct transmission may be accomplished with an IPEX Grant. Again, for the verifier the IPEX Admit in response to this Grant is optional, yet for the Holder to show the credential as revoked in their KERIA Agent database they must send an IPEX admit."
   ]
  },
  {
   "cell_type": "markdown",
   "id": "5a57ca60-8550-4d40-9fcd-2721d0715c5b",
   "metadata": {
    "editable": false,
    "slideshow": {
     "slide_type": ""
    },
    "tags": []
   },
   "source": [
    "#### Directly Sending Revocation State from Issuer to Holder\n",
    "\n",
    "Now that the credential has been shown to be revoked in the issuer's database you can re-grant it to the Holder to propagate the revocation state to the holder. This process may be used with the verifier as well to inform the verifier of credential revocation."
   ]
  },
  {
   "cell_type": "code",
   "execution_count": null,
   "id": "77673ad6-2c97-40ff-8548-66685a71a4eb",
   "metadata": {
    "editable": false,
    "slideshow": {
     "slide_type": ""
    },
    "tags": []
   },
   "outputs": [],
   "source": [
    "// Issuer - get credential (with all its data)\n",
    "const credential = await issuerClient.credentials().get(credentialSaid);\n",
    "console.log(`Issuer credential state (iss = issued, rev = revoked): ${credential.status.et}`);\n"
   ]
  },
  {
   "cell_type": "markdown",
   "id": "d758e690-c81f-4e62-aba2-7c8814ace9e3",
   "metadata": {
    "editable": false,
    "slideshow": {
     "slide_type": ""
    },
    "tags": []
   },
   "source": [
    "The issuer then re-grants this credential to the holder."
   ]
  },
  {
   "cell_type": "code",
   "execution_count": null,
   "id": "fa435a15-f401-449e-8f65-fc19c098d96a",
   "metadata": {
    "editable": false,
    "slideshow": {
     "slide_type": ""
    },
    "tags": []
   },
   "outputs": [],
   "source": [
    "// Issuer - Ipex grant\n",
    "console.log(\"granting credential to holder\")\n",
    "const grantResponse = await ipexGrantCredential(\n",
    "    issuerClient,\n",
    "    issuerAidAlias, \n",
    "    holderAid.i,\n",
    "    credential\n",
    ")\n",
    "console.log(\"✅ Issuer created and granted credential.\")\n",
    "\n"
   ]
  },
  {
   "cell_type": "markdown",
   "id": "278a9b41-d074-4f0a-8323-9e53578129b5",
   "metadata": {
    "editable": false,
    "slideshow": {
     "slide_type": ""
    },
    "tags": []
   },
   "source": [
    "After being granted the credential the holder may take the grant notification and admit the credential which will cause the credential to show as revoked in the Holder's database."
   ]
  },
  {
   "cell_type": "code",
   "execution_count": null,
   "id": "a840d4d9-3bbb-4feb-9740-41774a05a70a",
   "metadata": {
    "editable": false,
    "slideshow": {
     "slide_type": ""
    },
    "tags": []
   },
   "outputs": [],
   "source": [
    "// Holder - Wait for grant notification\n",
    "console.log(\"Holder waiting for credential\")\n",
    "const grantNotifications = await waitForAndGetNotification(holderClient, IPEX_GRANT_ROUTE)\n",
    "const grantNotification = grantNotifications[0]\n",
    "\n",
    "// Holder - Admit Grant\n",
    "const admitResponse = await ipexAdmitGrant(\n",
    "    holderClient,\n",
    "    holderAidAlias,\n",
    "    issuerAid.i,\n",
    "    grantNotification.a.d\n",
    ")\n",
    "console.log(\"Holder admitting credential\")\n",
    "\n",
    "// Holder - Mark notification\n",
    "await markNotificationRead(holderClient, grantNotification.i)\n",
    "\n",
    "const credential = await holderClient.credentials().get(credentialSaid);\n",
    "console.log(`✅ Holder credential state (iss = issued, rev = revoked): ${credential.status.et}`);"
   ]
  },
  {
   "cell_type": "markdown",
   "id": "948f5993-bd3a-4eff-92b2-7c5173196826",
   "metadata": {
    "editable": false,
    "slideshow": {
     "slide_type": ""
    },
    "tags": []
   },
   "source": [
    "Now that the Holder has received the Grant and sent back an Admit then the issuer may mark as read the notification of the Admit."
   ]
  },
  {
   "cell_type": "code",
   "execution_count": null,
   "id": "a2175177-b1a3-48aa-ad4d-3c1849a8f997",
   "metadata": {
    "editable": false,
    "slideshow": {
     "slide_type": ""
    },
    "tags": []
   },
   "outputs": [],
   "source": [
    "// Issuer - Wait for admit notification\n",
    "console.log(\"Issuer receiving admit...\")\n",
    "const admitNotifications = await waitForAndGetNotification(issuerClient, IPEX_ADMIT_ROUTE)\n",
    "const admitNotification = admitNotifications[0]\n",
    "\n",
    "// Issuer - Mark notification\n",
    "await markNotificationRead(issuerClient, admitNotification.i)\n",
    "console.log(\"\\n\\n✅ Issuer received admit. Propagation of revocation state to holder complete.\")"
   ]
  },
  {
   "cell_type": "markdown",
   "id": "7db4207c-0435-4cf9-b989-f3af7e6e42c0",
   "metadata": {
    "editable": false,
    "slideshow": {
     "slide_type": ""
    },
    "tags": []
   },
   "source": [
    "#### Directly Sending Revocation State from Issuer to Verifier\n",
    "\n",
    "The issuer may send revocation state directly to the verifier as shown below. There is an alternative flow using what are known as Observers that will be explained in an upcoming training."
   ]
  },
  {
   "cell_type": "code",
   "execution_count": null,
   "id": "d11af2ba-0779-49e9-8b26-5c8ad3845f57",
   "metadata": {
    "editable": false,
    "slideshow": {
     "slide_type": ""
    },
    "tags": []
   },
   "outputs": [],
   "source": [
    "// Issuer - Ipex grant\n",
    "console.log(\"granting credential to verifier\")\n",
    "const grantResponse = await ipexGrantCredential(\n",
    "    issuerClient,\n",
    "    issuerAidAlias, \n",
    "    verifierAid.i,\n",
    "    credential\n",
    ")\n",
    "console.log(\"✅ Issuer created and granted credential.\")"
   ]
  },
  {
   "cell_type": "markdown",
   "id": "a8332d06-9786-492c-8090-ac1384fe6aa2",
   "metadata": {
    "editable": false,
    "slideshow": {
     "slide_type": ""
    },
    "tags": []
   },
   "source": [
    "Finally, the verifier may process the notification of the re-granted credential and send back an IPEX Admit to the Holder, yet, again, the necessity of sending the Admit depends on the use case. The verifier has received the revocation state by virtue of receiving and processing the IPEX Grant following the revocation of the credential and the holder learning about the revocation of the credential state. \n",
    "\n",
    "In use cases needing end-verifiability and signing of the reception of credentials then IPEX Admits must ALWAYS be sent since they represent the credential receiver cryptographically signing their acceptance of a credential presentation. This may be required for legal certainty on the terms of data sharing expressed in the rules section of an ACDC or other terms such as those in a privacy policy or terms of service for an application or service. An IPEX Admit is useful when the legal requirements of a use case include the need for a receiver of a credential (holder) or a credential presentation (verifier) to sign that they received it."
   ]
  },
  {
   "cell_type": "code",
   "execution_count": null,
   "id": "157dba18-ba62-47f0-b905-bdbdf0990ead",
   "metadata": {
    "editable": false,
    "slideshow": {
     "slide_type": ""
    },
    "tags": []
   },
   "outputs": [],
   "source": [
    "// Verifier - Wait for grant notification\n",
    "console.log(\"Verifier waiting for credential\")\n",
    "const grantNotifications = await waitForAndGetNotification(verifierClient, IPEX_GRANT_ROUTE)\n",
    "const grantNotification = grantNotifications[0]\n",
    "\n",
    "// Verifier - Admit Grant\n",
    "const admitResponse = await ipexAdmitGrant(\n",
    "    verifierClient,\n",
    "    verifierAidAlias,\n",
    "    issuerAid.i,\n",
    "    grantNotification.a.d\n",
    ")\n",
    "console.log(\"Verifier admitting credential\")\n",
    "\n",
    "// Verifier - Mark notification\n",
    "await markNotificationRead(verifierClient, grantNotification.i)"
   ]
  },
  {
   "cell_type": "markdown",
   "id": "aaa6603d-c404-498b-9713-ad103e505eb9",
   "metadata": {
    "editable": false,
    "slideshow": {
     "slide_type": ""
    },
    "tags": []
   },
   "source": [
    "As noted above, the revocation state shows up prior to sending the IPEX Admit. You can run the below code snippet prior to sending the IPEX Admit and you will see that the credential state shows up as revoked even though the Admit has not yet been sent."
   ]
  },
  {
   "cell_type": "code",
   "execution_count": null,
   "id": "59f23454-b431-40c6-a0a7-f81063ad49d5",
   "metadata": {
    "editable": false,
    "slideshow": {
     "slide_type": ""
    },
    "tags": []
   },
   "outputs": [],
   "source": [
    "// You can run this prior to sending the IPEX Admit to see that the credential state is already \n",
    "// revoked before sending the Admit.\n",
    "// You can also run this after sending the Admit. The result is the same before or after.\n",
    "const credential = await verifierClient.credentials().get(credentialSaid);\n",
    "console.log(`✅ Verifier credential state (iss = issued, rev = revoked): ${credential.status.et}`);"
   ]
  },
  {
   "cell_type": "markdown",
   "id": "dafa86b4-c7cb-4efd-a7f2-b44e97d995e8",
   "metadata": {
    "editable": false,
    "slideshow": {
     "slide_type": ""
    },
    "tags": []
   },
   "source": [
    "#### Discovering Revocation State\n",
    "\n",
    "Typically the responsibility for discovering revocation state would be stay with the verifier rather than with the issuer. The verifier is usually a subscriber to revocation state of credentials it depends on. The best way to accomplish this is with the equivalent of a Watcher network yet for credentials which, in the case of ACDCs, are called Observers. A verifier would have Observers set up that watch any issuers of credentials it accepts, or any propagation networks such as a global DHT of issuers, KEL state, and ACDC state, so that the verifier can be automatically informed of credential state within seconds, or sub-seconds, once an issuer publishes a revocation event.\n",
    "\n",
    "So, what is shown in this demonstration of the issuer sending revocation state to the verifier is not scalable and is not appropriate for production. It is only suitable for toy or proof of concept projects. A production implementation would use observers.\n",
    "\n",
    "### Current state of Observers in the KERI ecosystem\n",
    "\n",
    "A barebones implementation of Observers as a feature of a witness for an issuer exist in the KERI ecosystem in the [keripy](https://github.com/WebOfTrust/keripy) implementation of witnesses. Those witnesses expose a `/query` endpoint for polling the state of an ACDC. An upcoming training shows how to use this functionality and how to incorporate it into a verifier so that using ACDCs and monitoring revocation state is seamless and with as few steps for the user as possible.\n",
    "\n",
    "Next we cover the final topic for this particular training, cleaning up the holder database by deleting revoked credentials."
   ]
  },
  {
   "cell_type": "markdown",
   "id": "6f96106b-03ed-4a95-a3f9-f53853b0fffb",
   "metadata": {
    "editable": false,
    "slideshow": {
     "slide_type": ""
    },
    "tags": []
   },
   "source": [
    "## Deleting Revoked Credentials from the Holder Database\n",
    "\n",
    "Once a Holder becomes aware that a credential they possess has been revoked (e.g., by checking its status in the Issuer's registry or being informed through other means), it may want to delete that credential from its database. This is a design choice left up to the developers and architects of a given system. Deletion of credentials after revocation is not required and may not be desirable from a recordkeeping standpoint, yet if needed it can be a useful way to clean up credential stores and is a simple way to prevent credential holders from accidentally presenting revoked credentials to verifiers.\n",
    "\n",
    "The `holderClient.credentials().delete()` method removes the credential from the Holder's local client storage."
   ]
  },
  {
   "cell_type": "code",
   "execution_count": null,
   "id": "9f983cbf-fcc9-4d7a-9204-caea70faaa75",
   "metadata": {
    "editable": false,
    "slideshow": {
     "slide_type": ""
    },
    "tags": []
   },
   "outputs": [],
   "source": [
    "// Holder deletes the (now revoked) credential from their local store.\n",
    "await holderClient.credentials().delete(credentialSaid);\n",
    "\n",
    "// Verify the credential is no longer in the Holder's list.\n",
    "console.log(\"Holder's credential list after deleting the revoked credential:\");\n",
    "console.log(await holderClient.credentials().list()); // Should be an empty array or not contain the revoked credential\n"
   ]
  },
  {
   "cell_type": "markdown",
   "id": "447839bf-4f42-4f8c-84ec-5d926c2f3309",
   "metadata": {
    "editable": false,
    "slideshow": {
     "slide_type": ""
    },
    "tags": []
   },
   "source": [
    "<div class=\"alert alert-primary\">\n",
    "<b>📝 SUMMARY</b><hr>\n",
    "This notebook demonstrated ACDC Presentation and Revocation steps using IPEX with KERIA and Signify TS:\n",
    "<ul>\n",
    "<li><b>Full Formal IPEX flow:</b> the entire IPEX set of verbs including apply, offer, agree, grant, and admit may be used to orchestrate the disclosure process</li>\n",
    "<li><b>Partial flow for presentation:</b> an abbreviated IPEX flow with only grant and admit may be used to share credentials. This is the most common workflow.</li>\n",
    "<li><b>Simple sharing:</b> only an IPEX Grant is needed to share credentials as a verifier does not need to reply with an IPEX Admit, which permits the simplest presentation flow from either an issuer or holder to a verifier.</li>\n",
    "<li><b>Revocation:</b> After a successful credential creation the issuer may choose to revoke a credential. Propagating this state to a holder or a verifier may be directly performed with another IPEX Grant and Admit or may be discovered through observer infrastructure.</li>\n",
    "</ul>\n",
    "<p>The IPEX credential presentation and revocation flows are a critical part of the value add the whole vLEI protocol stack, KERI, ACDC, and CESR, stand to provide as the basis for data sharing with verifiable credentials. This training walked you through both the presentation and revocation workflows.</p>\n",
    "</div>"
   ]
  },
  {
   "cell_type": "markdown",
   "id": "8193917c-a10e-453b-8b34-611c88d5ac50",
   "metadata": {
    "editable": false,
    "slideshow": {
     "slide_type": ""
    },
    "tags": []
   },
   "source": [
    "[<- Prev (KERIA Signify Credential Issuance)](102_20_KERIA_Signify_Credential_Issuance.ipynb) | [Next (Third Party Tools) ->](102_30_Third_Party_Tools.ipynb)"
   ]
  }
 ],
 "metadata": {
  "kernelspec": {
   "display_name": "Deno",
   "language": "typescript",
   "name": "deno"
  },
  "language_info": {
   "codemirror_mode": "typescript",
   "file_extension": ".ts",
   "mimetype": "text/x.typescript",
   "name": "typescript",
   "nbconvert_exporter": "script",
   "pygments_lexer": "typescript",
   "version": "5.8.3"
  }
 },
 "nbformat": 4,
 "nbformat_minor": 5
}
