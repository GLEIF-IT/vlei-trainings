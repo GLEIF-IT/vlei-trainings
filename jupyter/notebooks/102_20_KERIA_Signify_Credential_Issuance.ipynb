{
 "cells": [
  {
   "cell_type": "markdown",
   "id": "a9df47e7-e1f3-40ea-ba3b-5a3c90b5117f",
   "metadata": {
    "editable": false,
    "slideshow": {
     "slide_type": ""
    },
    "tags": []
   },
   "source": [
    "# Signify TS: ACDC Credential Issuance with IPEX"
   ]
  },
  {
   "cell_type": "markdown",
   "id": "d39a7f2e-7d50-48ea-8044-f3ed21f59a45",
   "metadata": {
    "editable": false,
    "slideshow": {
     "slide_type": ""
    },
    "tags": []
   },
   "source": [
    "<div class=\"alert alert-primary\">\n",
    "<b>🎯 OBJECTIVE</b><hr>\n",
    "Demonstrate the process of issuing an ACDC (Authentic Chained Data Container) from an Issuer to a Holder using the Issuance and Presentation Exchange (IPEX) protocol with the Signify TS library.\n",
    "</div>"
   ]
  },
  {
   "cell_type": "markdown",
   "id": "334c4326-1513-4f5d-849b-95e3ff114805",
   "metadata": {
    "editable": false,
    "slideshow": {
     "slide_type": ""
    },
    "tags": []
   },
   "source": [
    "<div class=\"alert alert-info\">\n",
    "<b>ℹ️ NOTE</b><hr>\n",
    "This section utilizes utility functions (from <code>./scripts_ts/utils.ts</code>) to quickly establish the necessary preconditions for credential issuance. The detailed steps for client initialization, AID creation, end role assignment, and OOBI resolution were covered in the \"KERIA-Signify Connecting Controllers\" notebook. Here, we provide a high-level recap of what these utility functions accomplish.\n",
    "</div>"
   ]
  },
  {
   "cell_type": "markdown",
   "id": "90cce3a6-a467-4c16-ab4c-dcd1c4efea62",
   "metadata": {
    "editable": false,
    "slideshow": {
     "slide_type": ""
    },
    "tags": []
   },
   "source": [
    "## Prerequisites: Client and AID Setup\n",
    "\n",
    "The setup process, streamlined by the utility functions, performs the following key actions:\n",
    "\n",
    "* **Signify Library Initialization**: Ensures the underlying cryptographic components (libsodium) of Signify TS are ready.\n",
    "* **Client Initialization & Connection**: Three `SignifyClient` instances are created—one each for an Issuer, a Holder, and a Verifier. Each client is bootstrapped and connected to its KERIA agent.\n",
    "* **AID Creation**: Each client (Issuer, Holder, Verifier) creates a primary AID using default arguments.\n",
    "* **End Role Assignment**: An `agent` end role is assigned to each client's KERIA Agent AID.\n",
    "* **OOBI Generation and Resolution (Client-to-Client)**:\n",
    "    * OOBIs are generated for the Issuer, Holder, and Verifier AIDs, specifically for the `'agent'` role.\n",
    "    * Communication channels are established by resolving these OOBIs:\n",
    "        * Issuer's client resolves the Holder's OOBI.\n",
    "        * Holder's client resolves the Issuer's OOBI.\n",
    "        * Verifier's client resolves the Holder's OOBI.\n",
    "        * Holder's client resolves the Verifier's OOBI.\n",
    "* **Schema OOBI Resolution**: The Issuer, Holder, and Verifier clients all resolve the OOBI for the \"EventPass\" schema (SAID: `EGUPiCVO73M9worPwR3PfThAtC0AJnH5ZgwsXf6TzbVK`). This schema is hosted on the schema server (vLEI-Server in this context). Resolving the schema OOBI ensures all parties have the correct and verifiable schema definition necessary to understand and validate the credential.\n",
    "\n",
    "The code block below executes this setup."
   ]
  },
  {
   "cell_type": "code",
   "execution_count": null,
   "id": "eeea87da-b93e-4af8-8df5-fd2734a909c8",
   "metadata": {
    "editable": false,
    "slideshow": {
     "slide_type": ""
    },
    "tags": []
   },
   "outputs": [],
   "source": [
    "import { randomPasscode, Serder} from 'npm:signify-ts';\n",
    "import { initializeSignify, \n",
    "         initializeAndConnectClient,\n",
    "         createNewAID,\n",
    "         addEndRoleForAID,\n",
    "         generateOOBI,\n",
    "         resolveOOBI,\n",
    "         createTimestamp,\n",
    "         DEFAULT_IDENTIFIER_ARGS,\n",
    "         DEFAULT_TIMEOUT_MS,\n",
    "         DEFAULT_DELAY_MS,\n",
    "         DEFAULT_RETRIES,\n",
    "         ROLE_AGENT,\n",
    "         IPEX_GRANT_ROUTE,\n",
    "         IPEX_ADMIT_ROUTE,\n",
    "         IPEX_APPLY_ROUTE,\n",
    "         IPEX_OFFER_ROUTE,\n",
    "         SCHEMA_SERVER_HOST\n",
    "       } from './scripts_ts/utils.ts';\n",
    "\n",
    "// Clients setup\n",
    "// Initialize Issuer, Holder and Verifier CLients, Create AIDs for each one, assign 'agent' role to the AIDs\n",
    "// generate and resolve OOBIs \n",
    "\n",
    "// Issuer Client\n",
    "const issuerBran = randomPasscode()\n",
    "const issuerAidAlias = 'issuerAid'\n",
    "const { client: issuerClient } = await initializeAndConnectClient(issuerBran)\n",
    "const { aid: issuerAid} = await createNewAID(issuerClient, issuerAidAlias, DEFAULT_IDENTIFIER_ARGS);\n",
    "await addEndRoleForAID(issuerClient, issuerAidAlias, ROLE_AGENT);\n",
    "const issuerOOBI = await generateOOBI(issuerClient, issuerAidAlias, ROLE_AGENT);\n",
    "\n",
    "// Holder Client\n",
    "const holderBran = randomPasscode()\n",
    "const holderAidAlias = 'holderAid'\n",
    "const { client: holderClient } = await initializeAndConnectClient(holderBran)\n",
    "const { aid: holderAid} = await createNewAID(holderClient, holderAidAlias, DEFAULT_IDENTIFIER_ARGS);\n",
    "await addEndRoleForAID(holderClient, holderAidAlias, ROLE_AGENT);\n",
    "const holderOOBI = await generateOOBI(holderClient, holderAidAlias, ROLE_AGENT);\n",
    "\n",
    "// Verifier Client\n",
    "const verifierBran = randomPasscode()\n",
    "const verifierAidAlias = 'verifierAid'\n",
    "const { client: verifierClient } = await initializeAndConnectClient(verifierBran)\n",
    "const { aid: verifierAid} = await createNewAID(verifierClient, verifierAidAlias, DEFAULT_IDENTIFIER_ARGS);\n",
    "await addEndRoleForAID(verifierClient, verifierAidAlias, ROLE_AGENT);\n",
    "const verifierOOBI = await generateOOBI(verifierClient, verifierAidAlias, ROLE_AGENT);\n",
    "\n",
    "// Clients OOBI Resolution\n",
    "// Resolve OOBIs to establish connections Issuer-Holder, Holder-Verifier\n",
    "const issuerContactAlias = 'issuerContact';\n",
    "const holderContactAlias = 'holderContact';\n",
    "const verifierContactAlias = 'verifierContact';\n",
    "\n",
    "await resolveOOBI(issuerClient, holderOOBI, holderContactAlias);\n",
    "await resolveOOBI(holderClient, issuerOOBI, issuerContactAlias);\n",
    "await resolveOOBI(verifierClient, holderOOBI, holderContactAlias);\n",
    "await resolveOOBI(holderClient, verifierOOBI, verifierContactAlias);\n",
    "\n",
    "// Schemas OOBI Resolution\n",
    "// Resolve the Schemas from the Schema Server (VLEI-Server)\n",
    "const schemaContactAlias = 'schemaContact';\n",
    "const schemaSaid = 'EGUPiCVO73M9worPwR3PfThAtC0AJnH5ZgwsXf6TzbVK';\n",
    "const schemaOOBI = `http://vlei-server:7723/oobi/${schemaSaid}`;\n",
    "\n",
    "await resolveOOBI(issuerClient, schemaOOBI, schemaContactAlias);\n",
    "await resolveOOBI(holderClient, schemaOOBI, schemaContactAlias);\n",
    "await resolveOOBI(verifierClient, schemaOOBI, schemaContactAlias);\n",
    "\n",
    "console.log(\"Client setup and OOBI resolutions complete.\");"
   ]
  },
  {
   "cell_type": "markdown",
   "id": "20071332-58a7-4831-a17b-8adf670c8c6d",
   "metadata": {
    "editable": false,
    "slideshow": {
     "slide_type": ""
    },
    "tags": []
   },
   "source": [
    "## Credential Issuance Workflow Steps\n",
    "\n",
    "With the clients set up and connected, you can proceed with the credential issuance workflow. This involves the Issuer creating a credential and transferring it to the Holder using the IPEX protocol. Below are the code snippets you need to follow to do the issuance."
   ]
  },
  {
   "cell_type": "markdown",
   "id": "a2168606-795d-4738-b734-6808ff2fb6a5",
   "metadata": {
    "editable": false,
    "slideshow": {
     "slide_type": ""
    },
    "tags": []
   },
   "source": [
    "### Step 1: Create Issuer's Credential Registry\n",
    "\n",
    "Before an Issuer can issue credentials, it needs a Credential Registry. In KERI, a Credential Registry is implemented using a **Transaction Event Log (TEL)**. This TEL is a secure, hash-linked log, managed by the Issuer's AID, specifically for being the registry referenced by each ACDC event, both issuance and revocation. The registry itself is identified by a SAID derived from its inception event (`vcp` event type for registry inception). The TEL's history is anchored to the Issuer's Key Event Log, ensuring that all changes to the registry's state are cryptographically secured by the Issuer's controlling keys. This anchoring is achieved by including a digest of the TEL event within an anchor that is included in the data property of a KEL event.\n",
    "\n",
    "Use the code below to let the Issuer client create this registry. A human-readable name (`issuerRegistryName`) is used to reference it within the client."
   ]
  },
  {
   "cell_type": "markdown",
   "id": "53f25830-a933-4f2b-94d3-c48d5a363651",
   "metadata": {
    "editable": false,
    "slideshow": {
     "slide_type": ""
    },
    "tags": []
   },
   "source": [
    "<div class=\"alert alert-info\">\n",
    "    <b>ℹ️ NOTE: Production Registry Naming Suggestion</b>\n",
    "    <hr/>\n",
    "    <p>In production code you can name the registry whatever you want. It is not something that needs to be shown to the user and can be wholly managed behind the scenes. The important architectural consideration is that an issuer has a registry. Whether you decide to name the registry a user facing name or just a system name is up to you.</p>\n",
    "    <p>The suggestion is to keep the name a system-level thing that is not user facing unless absolutely necessary and valuable to the end user. The less things the end user has to worry about, the better. Generally speaking, the name of an ACDC registry is a developer or architect level concern, not a user concern, unless you are exposing multiple registries to the end user and need human-friendly names to distinguish them.</p>\n",
    "</div>"
   ]
  },
  {
   "cell_type": "code",
   "execution_count": null,
   "id": "e8e98a99-c3db-4eca-855c-0c39775f191e",
   "metadata": {
    "editable": false,
    "slideshow": {
     "slide_type": ""
    },
    "tags": []
   },
   "outputs": [],
   "source": [
    "//Create Issuer credential Registry\n",
    "const issuerRegistryName = 'issuerRegistry' // Human readable identifier for the Registry\n",
    "\n",
    "// Initiate registry creation\n",
    "const createRegistryResult = await issuerClient\n",
    "    .registries()\n",
    "    .create({ name: issuerAidAlias, registryName: issuerRegistryName });\n",
    "\n",
    "// Get the operation details\n",
    "const createRegistryOperation = await createRegistryResult.op();\n",
    "\n",
    "// Wait for the operation to complete\n",
    "const createRegistryResponse = await issuerClient\n",
    "    .operations()\n",
    "    .wait(createRegistryOperation, AbortSignal.timeout(DEFAULT_TIMEOUT_MS));\n",
    "\n",
    "// Clean up the operation from the agent's list\n",
    "await issuerClient.operations().delete(createRegistryOperation.name);\n",
    "\n",
    "console.log(`Registry '${issuerRegistryName}' created for Issuer AID ${issuerAid.i}.`);\n",
    "console.log(\"Registry creation response:\", JSON.stringify(createRegistryResponse.response, null, 2));\n",
    "\n",
    "// Listing Registries to confirm creation and retrieve its SAID (regk)\n",
    "const issuerRegistries = await issuerClient.registries().list(issuerAidAlias);\n",
    "const issuerRegistry = issuerRegistries[0]\n",
    "console.log(`Registry: Name='${issuerRegistry.name}', SAID (regk)='${issuerRegistry.regk}'`);"
   ]
  },
  {
   "cell_type": "markdown",
   "id": "78f1d2c5-8b98-4419-ad48-65048be2200d",
   "metadata": {
    "editable": false,
    "slideshow": {
     "slide_type": ""
    },
    "tags": []
   },
   "source": [
    "### Step 2: Retrieve Schema Definition\n",
    "\n",
    "The Issuer needs the definition of the schema against which they intend to issue a credential. Since the schema OOBI was resolved during the setup phase, the schema definition can now be retrieved from the KERIA agent's cache using its SAID. You will reuse the `EventPass` schema (SAID: `EGUPiCVO73M9worPwR3PfThAtC0AJnH5ZgwsXf6TzbVK`) from previous KLI examples."
   ]
  },
  {
   "cell_type": "code",
   "execution_count": null,
   "id": "edb17255-4ca5-45cd-b153-6d28d5bb4f42",
   "metadata": {
    "editable": false,
    "slideshow": {
     "slide_type": ""
    },
    "tags": []
   },
   "outputs": [],
   "source": [
    "// Retrieve Schemas\n",
    "const issuerSchema = await issuerClient.schemas().get(schemaSaid);\n",
    "console.log(issuerSchema)"
   ]
  },
  {
   "cell_type": "markdown",
   "id": "c0c535c7-efb5-44b3-9c00-6759a2afc127",
   "metadata": {
    "editable": false,
    "slideshow": {
     "slide_type": ""
    },
    "tags": []
   },
   "source": [
    "### Step 3: Issue the ACDC\n",
    "\n",
    "Now the Issuer creates the actual ACDC. This involves:\n",
    "\n",
    "1. Defining the `credentialClaims` – the specific attribute values for this instance of the `EventPass` credential.\n",
    "2. Calling `issuerClient.credentials().issue()`. This method takes the Issuer's AID alias and an object specifying:\n",
    "    - `ri`: The SAID of the Credential Registry (`issuerRegistry.regk`) where this credential's issuance will be recorded.\n",
    "      - This field [will change](https://trustoverip.github.io/tswg-acdc-specification/#top-level-fields) from `ri` to `rd` in the upcoming 2.0 version of KERI and the 1.0 version of the ACDC Spec.\n",
    "        - `ri`: meant \"registry identifier\"\n",
    "        - `rd`: means \"registry digest\"\n",
    "    - `s`: The SAID of the schema (`schemaSaid`) this credential adheres to.\n",
    "    - `a`: An attributes block containing:\n",
    "      - `i`: The AID of the Issuee (the Holder, holderAid.i).\n",
    "      - The actual `credentialClaims`.\n",
    "\n",
    "This `issue` command creates the ACDC locally within the Issuer's client and records an issuance event (e.g., `iss`) in the specified registry's TEL by sending the issued ACDC to the connected KERIA agent. The SAID of the newly created credential is then extracted from the response from KERIA.\n",
    "\n",
    "Use the code below to perform these actions."
   ]
  },
  {
   "cell_type": "code",
   "execution_count": null,
   "id": "f4fc1aa9-cde5-4939-a575-d587c51b641c",
   "metadata": {
    "editable": false,
    "slideshow": {
     "slide_type": ""
    },
    "tags": []
   },
   "outputs": [],
   "source": [
    "// Issue Credential\n",
    "\n",
    "const credentialClaims = {\n",
    "    \"eventName\":\"GLEIF Summit\",\n",
    "    \"accessLevel\":\"staff\",\n",
    "    \"validDate\":\"2026-10-01\"\n",
    "}\n",
    "\n",
    "const issueResult = await issuerClient\n",
    "    .credentials()\n",
    "    .issue(\n",
    "        issuerAidAlias,\n",
    "        {\n",
    "            ri: issuerRegistry.regk, //Registry Identifier (not the alias)\n",
    "            s: schemaSaid,           // Schema identifier\n",
    "            a: {                     // Attributes block\n",
    "                i: holderAid.i,      // Isuue or credential subject \n",
    "                ...credentialClaims  // The actual claims data                 \n",
    "            }\n",
    "        });\n",
    "console.log(\"Issuing credential...\")\n",
    "\n",
    "// Issuance is an asynchronous operation.\n",
    "const issueOperation = await issueResult.op; //In this case is .op instead of .op() (Inconsistency in the sdk)\n",
    "\n",
    "// Wait for the issuance operation to complete.\n",
    "const issueResponse = await issuerClient\n",
    "    .operations()\n",
    "    .wait(issueOperation, AbortSignal.timeout(DEFAULT_TIMEOUT_MS));\n",
    "console.log(\"Finished issuing credential.\");\n",
    "\n",
    "// Clean up the operation.\n",
    "await issuerClient.operations().delete(issueOperation.name);\n",
    "\n",
    "// Extract the SAID of the newly created credential from the response.\n",
    "// This SAID uniquely identifies this specific ACDC instance.\n",
    "const credentialSaid = issueResponse.response.ced.d\n",
    "\n",
    "// Display the issued credential from the Issuer's perspective.\n",
    "const issuerCredential = await issuerClient.credentials().get(credentialSaid);\n",
    "console.log(issuerCredential)"
   ]
  },
  {
   "cell_type": "markdown",
   "id": "fcfd6ea7-8fbf-4ca9-b74c-35ed9ec193ac",
   "metadata": {
    "editable": false,
    "slideshow": {
     "slide_type": ""
    },
    "tags": []
   },
   "source": [
    "### Step 4: Issuer Grants Credential via IPEX\n",
    "\n",
    "The credential has been created but currently resides with the Issuer. To transfer it to the Holder, the Issuer initiates an IPEX (Issuance and Presentation Exchange) grant. This process uses KERI `exn` (exchange) messages. The grant message effectively offers the credential to the Holder. \n",
    "\n",
    "The `issuerClient.ipex().grant()` method prepares the grant message, including the ACDC itself (`acdc`), the issuance event from the registry (`iss`), and the anchoring event from the Issuer's KEL (`anc`) along with its signatures (`ancAttachment`). \n",
    "\n",
    "You'll notice in the code below calls to `Serder()`, which serves the purpose of packaging and parsing KERI events into their serialized forms (e.g. CESR-coded messages) for signing, verification, or transmission.\n",
    "\n",
    "The, `issuerClient.ipex().submitGrant()` sends this packaged grant message to the Holder's KERIA agent.\n",
    "\n",
    "Use the code below to perform the IPEX grant."
   ]
  },
  {
   "cell_type": "code",
   "execution_count": null,
   "id": "f4fd294f-8a06-4467-9427-e618cad9077c",
   "metadata": {
    "editable": false,
    "slideshow": {
     "slide_type": ""
    },
    "tags": []
   },
   "outputs": [],
   "source": [
    "// Ipex Grant\n",
    "\n",
    "const [grant, gsigs, gend] = await issuerClient.ipex().grant({\n",
    "    senderName: issuerAidAlias,\n",
    "    acdc: new Serder(issuerCredential.sad), // The ACDC (Verifiable Credential) itself\n",
    "    iss: new Serder(issuerCredential.iss),  // The issuance event from the credential registry (TEL event)\n",
    "    anc: new Serder(issuerCredential.anc),  // The KEL event anchoring the TEL issuance event\n",
    "    ancAttachment: issuerCredential.ancatc, // Signatures for the KEL anchoring event\n",
    "    recipient: holderAid.i,                 // AID of the Holder\n",
    "    datetime: createTimestamp(),            // Timestamp for the grant message\n",
    "});\n",
    "\n",
    "// Issuer submits the prepared grant message to the Holder.\n",
    "// This sends an 'exn' message to the Holder's KERIA agent.\n",
    "const submitGrantOperation = await issuerClient\n",
    "    .ipex()\n",
    "    .submitGrant(\n",
    "        issuerAidAlias,  // Issuer's AID alias\n",
    "        grant,           // The grant message payload\n",
    "        gsigs,           // Signatures for the grant message\n",
    "        gend,            // Endorsements for the grant message\n",
    "        [holderAid.i]    // List of recipient AIDs\n",
    "    );\n",
    "console.log(\"Sending IPEX Grant as issuer\")\n",
    "\n",
    "// Wait for the submission operation to complete.\n",
    "const submitGrantResponse = await issuerClient\n",
    "    .operations()\n",
    "    .wait(submitGrantOperation, AbortSignal.timeout(DEFAULT_TIMEOUT_MS));\n",
    "console.log(\"IPEX Grant sent\")\n",
    "\n",
    "// Clean up the operation.\n",
    "await issuerClient.operations().delete(submitGrantOperation.name);"
   ]
  },
  {
   "cell_type": "markdown",
   "id": "e9d7a220-cb66-444c-bf3e-00c8d9097819",
   "metadata": {
    "editable": false,
    "slideshow": {
     "slide_type": ""
    },
    "tags": []
   },
   "source": [
    "#### Credential Status Checking\n",
    "\n",
    "**Holder Checks Credential Status (Optional)**\n",
    "\n",
    "The Holder can proactively check the status of a credential in the Issuer's registry if they know the registry's SAID (`issuerRegistry.regk`) and the credential's SAID (`issuerCredential.sad.d`). This query demonstrates how a party can verify the status of an ACDC directly from its TEL.\n",
    "\n",
    "The retry loop below shows one way to cause the holder to wait for the issued credential to arrive."
   ]
  },
  {
   "cell_type": "code",
   "execution_count": null,
   "id": "00054f71-bfcd-4e77-91c7-7f88dfeae771",
   "metadata": {
    "editable": false,
    "slideshow": {
     "slide_type": ""
    },
    "tags": []
   },
   "outputs": [],
   "source": [
    "// The flow transitions from the Issuer to the Holder.\n",
    "// A delay and retry mechanism is added to allow time for KERIA agents and witnesses\n",
    "// to propagate the credential issuance information.\n",
    "\n",
    "let credentialState;\n",
    "\n",
    "// Retry loop to fetch credential state from the Holder's perspective.\n",
    "for (let attempt = 1; attempt <= DEFAULT_RETRIES ; attempt++) {\n",
    "    try{\n",
    "        // Holder's client queries the state of the credential in the Issuer's registry.\n",
    "        credentialState = await holderClient.credentials().state(issuerRegistry.regk, issuerCredential.sad.d)\n",
    "        console.log(\"Received the credential.\")\n",
    "        break;\n",
    "    }\n",
    "    catch (error){    \n",
    "         console.log(`[Retry] failed to get credential state on attempt #${attempt} of ${DEFAULT_RETRIES}`);\n",
    "         if (attempt === DEFAULT_RETRIES) {\n",
    "             console.error(`[Retry] Max retries (${DEFAULT_RETRIES}) reached for getting credential state.`);\n",
    "             throw error; \n",
    "         }\n",
    "         console.log(`[Retry] Waiting ${DEFAULT_DELAY_MS}ms before next attempt...`);\n",
    "         await new Promise(resolve => setTimeout(resolve, DEFAULT_DELAY_MS));\n",
    "    }\n",
    "}\n",
    "\n",
    "console.log(credentialState) // Displays the status (e.g., issued, revoked)"
   ]
  },
  {
   "cell_type": "markdown",
   "id": "d6507280-f6f9-49e1-8d02-c3a60cdb130f",
   "metadata": {
    "editable": false,
    "slideshow": {
     "slide_type": ""
    },
    "tags": []
   },
   "source": [
    "#### Notifications API for IPEX messages\n",
    "\n",
    "Sending an IPEX Grant also causes a notification object to be sent from the issuer (discloser) to the holder (disclosee). The Notifications API is an internal module used to signal transmission of an ACDC. Polling the list of received notifications is the way a holder knows when they have received a credential presentation through an IPEX grant."
   ]
  },
  {
   "cell_type": "markdown",
   "id": "2a3c0222-4dc1-45aa-b056-34c0142aac90",
   "metadata": {
    "editable": false,
    "slideshow": {
     "slide_type": ""
    },
    "tags": []
   },
   "source": [
    "### Step 5: Holder Receives IPEX Grant Notification\n",
    "\n",
    "The Holder's KERIA agent will receive the grant `exn` message sent by the Issuer and a notification object referencing the grant message. The Holder's client can list its notifications to find this incoming grant. The notification will contain the SAID of the `exn` message (`grantNotification.a.d`), which can then be used to retrieve the full details of the grant exchange from the Holder's client.\n",
    "\n"
   ]
  },
  {
   "cell_type": "code",
   "execution_count": null,
   "id": "5c76d3e6-7dfe-4485-8f2f-9822c0e99c92",
   "metadata": {
    "editable": false,
    "slideshow": {
     "slide_type": ""
    },
    "tags": []
   },
   "outputs": [],
   "source": [
    "// Holder waits for Grant notification\n",
    "\n",
    "let notifications;\n",
    "\n",
    "// Retry loop to fetch notifications.\n",
    "for (let attempt = 1; attempt <= DEFAULT_RETRIES ; attempt++) {\n",
    "    try{\n",
    "        // List notifications, filtering for unread IPEX_GRANT_ROUTE messages.\n",
    "        let allNotifications = await holderClient.notifications().list( );\n",
    "        notifications = allNotifications.notes.filter(\n",
    "            (n) => n.a.r === IPEX_GRANT_ROUTE && n.r === false // n.r is 'read' status\n",
    "        )        \n",
    "        if(notifications.length === 0){ \n",
    "            throw new Error(\"Grant notification not found\"); // Throw error to trigger retry\n",
    "        }\n",
    "        console.log(\"Found an unread notification for an IPEX Grant\");\n",
    "        break;     \n",
    "    }\n",
    "    catch (error){    \n",
    "         console.log(`[Retry] Grant notification not found on attempt #${attempt} of ${DEFAULT_RETRIES}`);\n",
    "         if (attempt === DEFAULT_RETRIES) {\n",
    "             console.error(`[Retry] Max retries (${DEFAULT_RETRIES}) reached for grant notification.`);\n",
    "             throw error; \n",
    "         }\n",
    "         console.log(`[Retry] Waiting ${DEFAULT_DELAY_MS}ms before next attempt...`);\n",
    "         await new Promise(resolve => setTimeout(resolve, DEFAULT_DELAY_MS));\n",
    "    }\n",
    "}\n",
    "\n",
    "const grantNotification = notifications[0]  // Assuming only one grant notification for simplicity\n",
    "\n",
    "console.log(\"The notification\", grantNotification) // Displays the notification details\n",
    "\n",
    "// Retrieve the full IPEX grant exchange details using the SAID from the notification.\n",
    "// The 'exn' field in the exchange will contain the actual credential data.\n",
    "const grantExchange = await holderClient.exchanges().get(grantNotification.a.d);\n",
    "\n",
    "console.log(\"The grant referenced by the notification\")\n",
    "console.log(grantExchange) // Displays the content of the grant message"
   ]
  },
  {
   "cell_type": "markdown",
   "id": "e735f3cb-83fc-4d79-9734-0f96d1280d0c",
   "metadata": {
    "editable": false,
    "slideshow": {
     "slide_type": ""
    },
    "tags": []
   },
   "source": [
    "### Step 6: Holder Admits Credential\n",
    "\n",
    "Upon receiving and reviewing the grant, the Holder decides to accept (`admit`) the credential. This involves:\n",
    "- Preparing an `admit` `exn` message using `holderClient.ipex().admit()`.\n",
    "- Submitting this `admit` message back to the Issuer using `holderClient.ipex().submitAdmit()`.\n",
    "- Marking the original grant notification as read.\n",
    "- The Holder's client then processes the admitted credential, verifying its signatures, schema, and status against the Issuer's KEL and TEL, and stores it locally."
   ]
  },
  {
   "cell_type": "code",
   "execution_count": null,
   "id": "505cb12d-d1a2-47d4-ad49-077f0a569300",
   "metadata": {
    "editable": false,
    "slideshow": {
     "slide_type": ""
    },
    "tags": []
   },
   "outputs": [],
   "source": [
    "// Holder admits (accepts) the IPEX grant.\n",
    "\n",
    "// Prepare the IPEX admit message.\n",
    "const [admit, sigs, aend] = await holderClient.ipex().admit({\n",
    "    senderName: holderAidAlias,       // Alias of the Holder's AID\n",
    "    message: '',                      // Optional message to include in the admit\n",
    "    grantSaid: grantNotification.a.d!,// SAID of the grant 'exn' message being admitted\n",
    "    recipient: issuerAid.i,           // AID of the Issuer\n",
    "    datetime: createTimestamp(),      // Timestamp for the admit message\n",
    "});\n",
    "\n",
    "// Holder submits the prepared admit message to the Issuer.\n",
    "const admitOperation = await holderClient\n",
    "    .ipex()\n",
    "    .submitAdmit(holderAidAlias, admit, sigs, aend, [issuerAid.i]);\n",
    "\n",
    "// Wait for the submission operation to complete.\n",
    "const admitResponse = await holderClient\n",
    "    .operations()\n",
    "    .wait(admitOperation, AbortSignal.timeout(DEFAULT_TIMEOUT_MS));\n",
    "\n",
    "// Clean up the operation.\n",
    "await holderClient.operations().delete(admitOperation.name);\n",
    "\n",
    "// Holder marks the grant notification as read.\n",
    "await holderClient.notifications().mark(grantNotification.i);\n",
    "console.log(\"Holder's notifications after marking grant as read:\");\n",
    "console.log(await holderClient.notifications().list());\n",
    "\n",
    "// Holder can now get the credential from their local store.\n",
    "// This implies the client has processed, verified, and stored it upon admission.\n",
    "const holderReceivedCredential = await holderClient.credentials().get(issuerCredential.sad.d);\n",
    "console.log(\"Credential as stored by Holder:\");\n",
    "console.log(holderReceivedCredential);\n"
   ]
  },
  {
   "cell_type": "markdown",
   "id": "0a7f8efc-c86e-41df-9ade-2bc2e87ac71d",
   "metadata": {
    "editable": false,
    "slideshow": {
     "slide_type": ""
    },
    "tags": []
   },
   "source": [
    "### Step 7: Issuer Receives Admit Notification\n",
    "\n",
    "The Issuer, in turn, will receive a notification that the Holder has admitted the credential. The Issuer's client lists its notifications, finds the `admit` message, and marks it as read. This completes the issuance loop."
   ]
  },
  {
   "cell_type": "code",
   "execution_count": null,
   "id": "aa6a7874-43e2-4b2b-8a97-27624d022a2d",
   "metadata": {
    "editable": false,
    "slideshow": {
     "slide_type": ""
    },
    "tags": []
   },
   "outputs": [],
   "source": [
    "// Issuer retrieves the Admit notification from the Holder.\n",
    "\n",
    "let issuerAdmitNotifications;\n",
    "\n",
    "// Retry loop for the Issuer to receive the admit notification.\n",
    "for (let attempt = 1; attempt <= DEFAULT_RETRIES ; attempt++) {\n",
    "    try{\n",
    "        // List notifications, filtering for unread IPEX_ADMIT_ROUTE messages.\n",
    "        let allNotifications = await issuerClient.notifications().list();\n",
    "        issuerAdmitNotifications = allNotifications.notes.filter(\n",
    "            (n) => n.a.r === IPEX_ADMIT_ROUTE && n.r === false\n",
    "        )        \n",
    "        if(issuerAdmitNotifications.length === 0){ \n",
    "            throw new Error(\"Admit notification not found\"); // Throw error to trigger retry\n",
    "        }\n",
    "        break; // Exit loop if notification found\n",
    "    }\n",
    "    catch (error){    \n",
    "         console.log(`[Retry] Admit notification not found for Issuer on attempt #${attempt} of ${DEFAULT_RETRIES}`);\n",
    "         if (attempt === DEFAULT_RETRIES) {\n",
    "             console.error(`[Retry] Max retries (${DEFAULT_RETRIES}) reached for Issuer's admit notification.`);\n",
    "             throw error; \n",
    "         }\n",
    "         console.log(`[Retry] Waiting ${DEFAULT_DELAY_MS}ms before next attempt...`);\n",
    "         await new Promise(resolve => setTimeout(resolve, DEFAULT_DELAY_MS));\n",
    "    }\n",
    "}\n",
    "\n",
    "const admitNotificationForIssuer = issuerAdmitNotifications[0] // Assuming one notification\n",
    "\n",
    "// Issuer marks the admit notification as read.\n",
    "await issuerClient.notifications().mark(admitNotificationForIssuer.i);\n",
    "console.log(\"Issuer's notifications after marking admit as read:\");\n",
    "console.log(await issuerClient.notifications().list());"
   ]
  },
  {
   "cell_type": "markdown",
   "id": "832de940-ad23-47a8-b2a7-989d7bfbdf25",
   "metadata": {
    "editable": false,
    "slideshow": {
     "slide_type": ""
    },
    "tags": []
   },
   "source": [
    "**Cleanup (Optional)**\n",
    "\n",
    "Once the IPEX flow for issuance is complete and notifications have been processed, both parties can optionally delete these notifications from their agent notification stores."
   ]
  },
  {
   "cell_type": "code",
   "execution_count": null,
   "id": "30b1e689-985e-4d4c-886a-a99d2156d8c5",
   "metadata": {
    "editable": false,
    "slideshow": {
     "slide_type": ""
    },
    "tags": []
   },
   "outputs": [],
   "source": [
    "// Issuer Remove Admit Notification from their list\n",
    "await issuerClient.notifications().delete(admitNotificationForIssuer.i);\n",
    "console.log(\"Issuer's notifications after deleting admit notification:\");\n",
    "console.log(await issuerClient.notifications().list());\n",
    "\n",
    "// Holder Remove Grant Notification from their list\n",
    "await holderClient.notifications().delete(grantNotification.i);\n",
    "console.log(\"Holder's notifications after deleting grant notification:\");\n",
    "console.log(await holderClient.notifications().list());"
   ]
  },
  {
   "cell_type": "markdown",
   "id": "29595fea-35f0-4f33-8b0d-e6e469f37a6f",
   "metadata": {
    "editable": false,
    "slideshow": {
     "slide_type": ""
    },
    "tags": []
   },
   "source": [
    "<div class=\"alert alert-primary\">\n",
    "<b>📝 SUMMARY</b><hr>\n",
    "This notebook demonstrated how to perform credential issuance using the Issuance and Presentation Exchange (IPEX) protocol.\n",
    "<ul>\n",
    "<li><b>Credential Registry:</b> before any credentials may be created for an issuer it must create a credential registry that will be referenced by a set of issued credentials. An issuer may make more than one registry and name them according to purpose.</li>\n",
    "<li><b>Schema Definition:</b> every credential must have a schema definition and this schema definition must be loaded into the issuer's local database prior to issuing the credential.</li>\n",
    "<li><b>Credential Issuance:</b> an issuer may create a credential targeted towards a particular subject, or an identifier that will be the holder of an ACDC credential. Credentials may also be untargeted.</li>\n",
    "<li><b>Sharing with Holder (subject):</b> following creation an issuer may share the ACDC credential with the subject of the newly created credential, the holder, using an IPEX Grant.</li>\n",
    "<li><b>IPEX action notifications:</b> as a convenience for the users of the IPEX process there are notifications sent of each IPEX action that begin as unread and may be marked as read once a notification receiver has processed the referenced action or event.</li>\n",
    "</ul>\n",
    "The ACDC credential issuance process with IPEX is a critical part of the overall value that the KERI suite of protocols stands to provide as it is the first step in allowing verifiable, provenanced data sharing between multiple parties. This training shows how to use IPEX to issue and share credentials.\n",
    "</div>"
   ]
  },
  {
   "cell_type": "markdown",
   "id": "5d25cf2a-2fc6-43a3-a0a3-76662e2d8958",
   "metadata": {
    "editable": false,
    "slideshow": {
     "slide_type": ""
    },
    "tags": []
   },
   "source": [
    "[<- Prev (KERIA Signify Key Rotation)](102_17_KERIA_Signify_Key_Rotation.ipynb) | [Next (KERIA Signify Credential Presentation and Revocation) ->](102_25_KERIA_Signify_Credential_Presentation_and_Revocation.ipynb)"
   ]
  }
 ],
 "metadata": {
  "kernelspec": {
   "display_name": "Deno",
   "language": "typescript",
   "name": "deno"
  },
  "language_info": {
   "codemirror_mode": "typescript",
   "file_extension": ".ts",
   "mimetype": "text/x.typescript",
   "name": "typescript",
   "nbconvert_exporter": "script",
   "pygments_lexer": "typescript",
   "version": "5.8.3"
  }
 },
 "nbformat": 4,
 "nbformat_minor": 5
}
