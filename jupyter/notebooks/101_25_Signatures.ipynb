{
 "cells": [
  {
   "cell_type": "markdown",
   "id": "cea18aa4-e6f1-43fb-a3b6-13e9c2e32685",
   "metadata": {
    "editable": false,
    "slideshow": {
     "slide_type": ""
    },
    "tags": []
   },
   "source": [
    "# Digital Signatures in KERI"
   ]
  },
  {
   "cell_type": "markdown",
   "id": "e81fad11-de34-44d5-bc6b-9ee196bfbc49",
   "metadata": {
    "editable": false,
    "slideshow": {
     "slide_type": ""
    },
    "tags": []
   },
   "source": [
    "<div class=\"alert alert-primary\">\n",
    "  <b>🎯 OBJECTIVE</b><hr>\n",
    "    Explain digital signatures, how to verify a digital signature using the KLI verify command, and understand how tampering affects signature validity.\n",
    "</div>\n"
   ]
  },
  {
   "cell_type": "markdown",
   "id": "3f3fbf48-660b-4224-bb0e-c7a67c4a9470",
   "metadata": {
    "editable": false,
    "slideshow": {
     "slide_type": ""
    },
    "tags": []
   },
   "source": [
    "## Fundamentals of Digital Signatures\n",
    "\n",
    "Having explored KERI Identifiers (AIDs) and their management, we now focus on digital signatures. This section explains what digital signatures are, their crucial properties, and how they operate within KERI.\n",
    "\n",
    "A digital signature is a cryptographic mechanism used to provide assurance about the authenticity and integrity of digital data. It serves a similar purpose to a handwritten signature but offers significantly stronger guarantees through cryptography.\n",
    "\n",
    "```mermaid\n",
    "graph TB\n",
    "    subgraph \"SIGNING PROCESS\"\n",
    "        A[\"Original Message: 'Transfer $1000 to Alice'\"] --> B[\"Hash Function: e.g., SHA-256\"]\n",
    "        B --> C[\"Message Digest: '0x3b7e72...'\"]\n",
    "        C --> D[\"Signing Algorithm\"]\n",
    "        E[\"Private Key\"] --> D\n",
    "        D --> F[\"Digital Signature: '(r, s)' for ECDSA\"]\n",
    "        F --> G[\"Signature + Message\"]\n",
    "        A -.-> G\n",
    "    end\n",
    "    \n",
    "    subgraph \"VERIFICATION PROCESS\"\n",
    "        H[\"Received Message + Signature\"] --> I[\"Separate Components\"]\n",
    "        I --> J[\"Original Message: 'Transfer $1000 to Alice'\"]\n",
    "        I --> K[\"Received Signature: '(r, s)'\"]\n",
    "        J --> L[\"Hash Function: e.g., SHA-256\"]\n",
    "        L --> M[\"Computed Digest: '0x3b7e72...'\"]\n",
    "        M --> N[\"Verification Algorithm\"]\n",
    "        K --> N\n",
    "        O[\"Public Key\"] --> N\n",
    "        N --> P{Valid?}\n",
    "        P -->|Yes| Q[\"✅ Authentic, ✅ Unmodified, ✅ Non-repudiable\"]\n",
    "        P -->|No| R[\"❌ Untrusted, Possibly tampered, or wrong key\"]\n",
    "    end\n",
    "    \n",
    "    G -.->|Transmitted over network| H\n",
    "    \n",
    "    style A fill:#e1f5fe\n",
    "    style J fill:#e1f5fe\n",
    "    style C fill:#fff3e0\n",
    "    style M fill:#fff3e0\n",
    "    style F fill:#c8e6c9\n",
    "    style K fill:#c8e6c9\n",
    "    style E fill:#ffcdd2\n",
    "    style O fill:#b3e5fc\n",
    "    style Q fill:#a5d6a7\n",
    "    style R fill:#ef9a9a\n",
    "```\n",
    "\n",
    "The process generally involves three stages:\n",
    "\n",
    "1.  **Signing:**\n",
    "    * The signer (e.g., an AID Controller) takes the information they want to sign.\n",
    "    * They create a condensed representation of the information, known as a digest, by using a hash function.\n",
    "      * A note on terminology: While \"hash\" is commonly used to refer to both the function and its output, for clarity in this text, we will use \"hash function\" to refer to the algorithm itself and \"digest\" to refer to its output.\n",
    "    * Using their unique private signing key, they apply a signing algorithm to the digest generated from the raw data. Signing means encrypting the digest of the raw data with the private key. The result is a digital signature of the digest.\n",
    "    * Only someone possessing the private key can generate a valid signature (digest) for that key.\n",
    "2.  **Attaching:**\n",
    "    * The generated signature is typically attached to the original information. In the case of KERI this signature is encoded in the [Composable Event Streaming Representation](https://trustoverip.github.io/tswg-cesr-specification/) (CESR) encoding format.\n",
    "3.  **Verification:**\n",
    "    * Anyone receiving the information and signature can verify its validity using the signer's corresponding public key.\n",
    "    * The verifier applies a verification algorithm using the original information, the signature, and the corresponding public key from the correct point in history of a KEL.\n",
    "    * This algorithm is the complement of the signing process. It uses the public key to mathematically check the signature against the digest of the raw information. This means using the public key to decrypt the signature to get back to the original digest. Then the digest from the decrypted signature is compared to the digest of the raw data. If the digests match then the verification succeeds and fails otherwise.\n",
    "    * **Outcome:**\n",
    "        * **Valid Signature:** If the signature verification succeeds, the verifier has high confidence in the information's authenticity, integrity, and non-repudiability and can trust the data and its originator.\n",
    "        * **Invalid Signature:** If the signature fails verification the information may have been tampered with, the signature might be corrupt, or the legitimate holder of the private key didn't generate it. Thus the verifier should not trust the data.\n",
    "\n",
    "Successful verification confirms:\n",
    "\n",
    "* **Authenticity:** The information originated from the owner of the key pair.\n",
    "* **Integrity:** The information has not been altered since it was signed.\n",
    "* **non-repudiability**: The signer cannot successfully deny signing the information. Because generating the signature requires the private key (which should be kept secret by the owner), a valid signature serves as strong evidence of the signer's action."
   ]
  },
  {
   "cell_type": "markdown",
   "id": "bc18f762-c9c4-4111-a8f6-73916916e0f5",
   "metadata": {
    "editable": false,
    "slideshow": {
     "slide_type": ""
    },
    "tags": []
   },
   "source": [
    "## Verification Process in KERI\n",
    "\n",
    "In KERI, digital signatures are fundamental for establishing trust and verifying the authenticity of Key Events and other interactions associated with an AID. They cryptographically link actions and data back to the identifier's controlling keys.\n",
    "\n",
    "While the verification algorithm is standard, the key challenge for a Verifier is obtaining the correct public key(s) that were authoritative for the AID when the information was signed.\n",
    "\n",
    "The Verifier must perform these steps:\n",
    "\n",
    "1.  **Identify the Authoritative Public Key(s):**\n",
    "    * For an AID's inception event, the AID prefix is derived from the initial public key(s) (leveraging KERI's self-certifying nature).\n",
    "    * For subsequent events (like rotations or interactions), the Verifier must consult the AID's Key Event Log to get the most up to date controlling key pair(s). The KEL provides the history of key changes, allowing the Verifier to determine which public key(s) were valid at the specific point in time the event or message was signed.\n",
    "\n",
    "2.  **Perform Cryptographic Verification:**\n",
    "    * Once the correct public key(s) are identified, the Verifier uses them, along with the received data and signature, in the standard cryptographic verification algorithm (as described earlier).\n",
    "\n",
    "This reliance on the KEL to track key state over time is crucial for maintaining the security of interactions with KERI identifiers long after their initial creation."
   ]
  },
  {
   "cell_type": "markdown",
   "id": "20eb1045-fb88-4697-8574-bfde0cd7ea17",
   "metadata": {
    "editable": false,
    "slideshow": {
     "slide_type": ""
    },
    "tags": []
   },
   "source": [
    "<div class=\"alert alert-info\">\n",
    "  <b>ℹ️ NOTE</b><hr>\n",
    "    There's a subtle difference between a <b>Verifier</b> (who checks cryptographic correctness according to KERI rules) and a <b>Validator</b> (who might perform broader checks, including business logic, and broader trust policies in addition to verification). In KERI discussions, \"Verifier\" typically emphasizes the cryptographic checks.\n",
    "</div>"
   ]
  },
  {
   "cell_type": "markdown",
   "id": "5853d8d5-c70c-46a1-8838-819dec402aa3",
   "metadata": {
    "editable": false,
    "slideshow": {
     "slide_type": ""
    },
    "tags": []
   },
   "source": [
    "## KLI Examples: Signing and Verifying\n",
    "\n",
    "Let's see how signing and verification work using the KLI commands.\n",
    "\n",
    "### Initial Setup\n",
    "\n",
    "First, create a keystore and an identifier."
   ]
  },
  {
   "cell_type": "code",
   "execution_count": null,
   "id": "fdec5bda-4544-438e-a629-98a9de05cbff",
   "metadata": {
    "editable": false,
    "slideshow": {
     "slide_type": ""
    },
    "tags": []
   },
   "outputs": [],
   "source": [
    "# Imports and Utility functions\n",
    "from scripts.utils import clear_keri\n",
    "clear_keri()\n",
    "\n",
    "keystore_name=\"signature-keystore\"\n",
    "passcode=\"xSLg286d4iWiRg2mzGYca\"\n",
    "salt=\"0ABeuT2dErMrqFE5Dmrnc2Bq\"\n",
    "aid_alias = \"aid-signature\"\n",
    "\n",
    "!kli init --name {keystore_name} \\\n",
    "    --passcode {passcode} \\\n",
    "    --salt {salt}\n",
    "\n",
    "!kli incept --name {keystore_name} \\\n",
    "    --passcode {passcode} \\\n",
    "    --alias {aid_alias} \\\n",
    "    --icount 1 \\\n",
    "    --isith 1 \\\n",
    "    --ncount 0 \\\n",
    "    --nsith 0 \\\n",
    "    --toad 0"
   ]
  },
  {
   "cell_type": "markdown",
   "id": "e37141dc-a408-46cf-ab33-cbe019d695c0",
   "metadata": {
    "editable": false,
    "slideshow": {
     "slide_type": ""
    },
    "tags": []
   },
   "source": [
    "### Signing Data\n",
    "\n",
    "Now, sign a simple text message using the private key associated with the `aid-signature` identifier. To do so use the command `kli sign` presented below:"
   ]
  },
  {
   "cell_type": "code",
   "execution_count": null,
   "id": "a613109c-7549-4c59-841f-deba0ac4488c",
   "metadata": {
    "editable": false,
    "slideshow": {
     "slide_type": ""
    },
    "tags": []
   },
   "outputs": [],
   "source": [
    "!kli sign --name {keystore_name} \\\n",
    "    --passcode {passcode} \\\n",
    "    --alias {aid_alias} \\\n",
    "    --text \"hello world\""
   ]
  },
  {
   "cell_type": "markdown",
   "id": "e12d284e-e2b0-469e-9c64-1d4c371e815d",
   "metadata": {
    "editable": false,
    "slideshow": {
     "slide_type": ""
    },
    "tags": []
   },
   "source": [
    "The output is the digital signature generated for the text \"hello world\" using the private key of the AID. This digital signature is encoded in text format with the CESR encoding protocol, the core cryptographic primitive, text, and binary encoding protocol used in the KERI and ACDC protocols.\n",
    "\n",
    "### Verifying a Valid Signature\n",
    "\n",
    "You can now use the `kli verify` command to check if the signature is valid for the given message and identifier (prefix). The relevant parameters here are:\n",
    "- `--prefix`: The prefix of the signer\n",
    "- `--text`: original text\n",
    "- `--signature`: signature to verify"
   ]
  },
  {
   "cell_type": "code",
   "execution_count": null,
   "id": "37ecec40-213c-4753-9cae-efcd87a68c7d",
   "metadata": {
    "editable": false,
    "slideshow": {
     "slide_type": ""
    },
    "tags": []
   },
   "outputs": [],
   "source": [
    "!kli verify --name {keystore_name} \\\n",
    "    --passcode {passcode} \\\n",
    "    --alias {aid_alias} \\\n",
    "    --prefix BCtRkWLNdWNRvB8L5gYMaLkanJQWi8wGbmmAtEw9XSWw \\\n",
    "    --text \"hello world\" \\\n",
    "    --signature AABjrlljacVpT8kDsvzv3qCVR1iiwJ-XPaAiKDURCH_vdrkgJgLK4i9h2Qv-xxmT2UxCSif0C-Ovvx-xp2vVDJUB\n"
   ]
  },
  {
   "cell_type": "markdown",
   "id": "33bbc91f-7e1a-4624-9165-e56557c23693",
   "metadata": {
    "editable": false,
    "slideshow": {
     "slide_type": ""
    },
    "tags": []
   },
   "source": [
    "The command confirms the signature is valid. It used the public key associated with the prefix to verify the signature against the provided text.\n",
    "\n",
    "### Impact of Tampering\n",
    "\n",
    "What happens if the signature is altered even slightly? The next command has the last character of the signature modified from \"B\" to \"C\" which will cause verification to fail.\n",
    "\n",
    "Try to verify again.\n"
   ]
  },
  {
   "cell_type": "code",
   "execution_count": null,
   "id": "65a020bf-71a1-4acb-82bd-b75a8854e2bf",
   "metadata": {
    "editable": false,
    "slideshow": {
     "slide_type": ""
    },
    "tags": []
   },
   "outputs": [],
   "source": [
    "!kli verify --name {keystore_name} \\\n",
    "    --passcode {passcode} \\\n",
    "    --alias {aid_alias} \\\n",
    "    --prefix BCtRkWLNdWNRvB8L5gYMaLkanJQWi8wGbmmAtEw9XSWw \\\n",
    "    --text \"hello world\" \\\n",
    "    --signature AABjrlljacVpT8kDsvzv3qCVR1iiwJ-XPaAiKDURCH_vdrkgJgLK4i9h2Qv-xxmT2UxCSif0C-Ovvx-xp2vVDJUC # Tampered last character"
   ]
  },
  {
   "cell_type": "markdown",
   "id": "084c2447-dce9-4354-bd57-3e69b1daceb3",
   "metadata": {
    "editable": false,
    "slideshow": {
     "slide_type": ""
    },
    "tags": []
   },
   "source": [
    "As expected, the verification fails. Even a tiny change invalidates the signature, demonstrating the integrity protection it provides."
   ]
  },
  {
   "cell_type": "markdown",
   "id": "d072481c-487a-4562-a510-a24946fe89d7",
   "metadata": {
    "editable": false,
    "slideshow": {
     "slide_type": ""
    },
    "tags": []
   },
   "source": [
    "<div class=\"alert alert-prymary\">\n",
    "<b>📝 SUMMARY</b><hr>\n",
    "<ul>\n",
    "<li><strong>Digital Signature Process:</strong> Data is signed by first creating a condensed representation (a digest) using a hash function, and then encrypting that digest with a private key. The resulting encrypted digest is the digital signature.</li>\n",
    "<li><strong>Verification:</strong> To verify, a recipient uses the signer's public key to decrypt the signature, revealing the original digest. They then independently compute the digest of the received data. If the two digests match, the signature is valid.</li>\n",
    "<li><strong>Core Guarantees:</strong> A valid digital signature confirms <strong>authenticity</strong> (the message came from the key owner), <strong>integrity</strong> (the message wasn't altered), and <strong>non-repudiability</strong> (the signer cannot deny their action).</li>\n",
    "<li><strong>KERI's Key Management:</strong> In KERI, the crucial step for a verifier is finding the correct public key that was authoritative at the time of signing. This is accomplished by consulting the identifier's <strong>Key Event Log (KEL)</strong>, which provides the secure, verifiable history of key changes.</li>\n",
    "<li><strong>Practical Demonstration:</strong> The <code>kli sign</code> command generates a signature, while <code>kli verify</code> checks it. Even a minor alteration to the signature or the original data will cause the verification to fail, demonstrating the cryptographic security of the process.</li>\n",
    "</ul>\n",
    "</div>"
   ]
  },
  {
   "cell_type": "markdown",
   "id": "465115c9-aa86-47c7-9971-97dfade45608",
   "metadata": {
    "editable": false,
    "slideshow": {
     "slide_type": ""
    },
    "tags": []
   },
   "source": [
    "[<- Prev (Working with Keystores and AIDs via KLI)](101_20_Working_with_Keystores_and_AIDs_via_KLI.ipynb) | [Next (Rotation) ->](101_30_Key_Rotation.ipynb)"
   ]
  }
 ],
 "metadata": {
  "kernelspec": {
   "display_name": "Python 3 (ipykernel)",
   "language": "python",
   "name": "python3"
  },
  "language_info": {
   "codemirror_mode": {
    "name": "ipython",
    "version": 3
   },
   "file_extension": ".py",
   "mimetype": "text/x-python",
   "name": "python",
   "nbconvert_exporter": "python",
   "pygments_lexer": "ipython3",
   "version": "3.12.9"
  }
 },
 "nbformat": 4,
 "nbformat_minor": 5
}
