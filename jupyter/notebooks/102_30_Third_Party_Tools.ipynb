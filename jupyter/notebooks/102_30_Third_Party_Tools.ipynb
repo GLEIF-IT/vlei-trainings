{
 "cells": [
  {
   "cell_type": "markdown",
   "id": "7470940a-ef47-443c-b326-0d37b32e8c61",
   "metadata": {
    "editable": false,
    "slideshow": {
     "slide_type": ""
    },
    "tags": []
   },
   "source": [
    "# Third-Party Tools"
   ]
  },
  {
   "cell_type": "markdown",
   "id": "4f0d316e-352e-4067-9a39-0cc35736735d",
   "metadata": {
    "editable": false,
    "slideshow": {
     "slide_type": ""
    },
    "tags": []
   },
   "source": [
    "<div class=\"alert alert-primary\">\n",
    "<b>🎯 OBJECTIVE</b><hr>\n",
    "Introduce third-party open-source projects that leverage the Key Event Receipt Infrastructure (KERI) and Authentic Chained Data Containers (ACDC) protocols, providing tools for managing identifiers and verifiable credentials.\n",
    "</div>"
   ]
  },
  {
   "cell_type": "markdown",
   "id": "8fc877d4-d6b3-4ce5-9a7c-7f108cab6679",
   "metadata": {
    "editable": false,
    "slideshow": {
     "slide_type": ""
    },
    "tags": []
   },
   "source": [
    "## Open Source\n",
    "\n",
    "The KERI and ACDC protocols provide a foundation for decentralized identity. A growing ecosystem of open-source tools is being built on these protocols, offering functionalities for developers and end-users. This section highlights a few notable third-party projects that integrate with KERI-based ecosystems."
   ]
  },
  {
   "cell_type": "markdown",
   "id": "a45eebe5-10c7-466b-89bb-78dfa009ed17",
   "metadata": {
    "editable": false,
    "slideshow": {
     "slide_type": ""
    },
    "tags": []
   },
   "source": [
    "### Signify Browser Extension\n",
    "\n",
    "The signify-browser-extension is a browser-based wallet that integrates with web applications to manage KERI Autonomic Identifiers (AIDs) and interact with KERI-based ecosystems. It allows users to approve operations (like signing data or consenting to credential exchanges) directly from their browser.\n",
    "\n",
    "GitHub repository: https://github.com/WebOfTrust/signify-browser-extension"
   ]
  },
  {
   "cell_type": "markdown",
   "id": "dd9efefc-9602-4af4-8445-45a071780160",
   "metadata": {
    "editable": false,
    "slideshow": {
     "slide_type": ""
    },
    "tags": []
   },
   "source": [
    "### KERI Foundation Wallet (Sparán)\n",
    "\n",
    "Sparán offers a graphical user interface (GUI) for managing local KERI identifiers and cryptographic keys. It provides an alternative to the command-line interface (kli) for KERI operations. Sparán is built on top of the KERI library, a custom KERI agent runtime, and the Flet application framework.\n",
    "\n",
    "GitHub Repository: https://github.com/keri-foundation/wallet"
   ]
  },
  {
   "cell_type": "markdown",
   "id": "d4421417-43e9-4af7-b42d-5cecc4329ecb",
   "metadata": {
    "editable": false,
    "slideshow": {
     "slide_type": ""
    },
    "tags": []
   },
   "source": [
    "### Veridian Wallet\n",
    "\n",
    "Veridian Wallet is an open-source application developed by the Cardano Foundation. It offers features for Identifier and credential management in a mobile app  (Android & iOS).\n",
    "\n",
    "GitHub Repository: https://github.com/cardano-foundation/veridian-wallet"
   ]
  },
  {
   "cell_type": "markdown",
   "id": "a2a72873-93f5-42bd-90b4-69871956f3c3",
   "metadata": {
    "editable": false,
    "slideshow": {
     "slide_type": ""
    },
    "tags": []
   },
   "source": [
    "[<- Prev (KERIA Signify Credential Presentation and Revocation)](102_25_KERIA_Signify_Credential_Presentation_and_Revocation.ipynb) | [Next (vLEI Ecosystem) ->](103_05_vLEI_Ecosystem.ipynb)"
   ]
  }
 ],
 "metadata": {
  "kernelspec": {
   "display_name": "Python 3 (ipykernel)",
   "language": "python",
   "name": "python3"
  },
  "language_info": {
   "codemirror_mode": {
    "name": "ipython",
    "version": 3
   },
   "file_extension": ".py",
   "mimetype": "text/x-python",
   "name": "python",
   "nbconvert_exporter": "python",
   "pygments_lexer": "ipython3",
   "version": "3.12.9"
  }
 },
 "nbformat": 4,
 "nbformat_minor": 5
}
