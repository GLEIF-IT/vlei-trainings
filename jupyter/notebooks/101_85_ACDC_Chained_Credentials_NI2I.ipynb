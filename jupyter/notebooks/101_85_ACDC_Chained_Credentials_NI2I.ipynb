{
 "cells": [
  {
   "cell_type": "markdown",
   "id": "6764b61e-4fad-4f86-8e17-b2ad3d455478",
   "metadata": {
    "editable": false,
    "slideshow": {
     "slide_type": ""
    },
    "tags": []
   },
   "source": [
    "# ACDC Issuance with KLI: Not-Issuer-To-Issuee"
   ]
  },
  {
   "cell_type": "markdown",
   "id": "2ce78029-0ae5-4a8b-847c-edd4c8cff201",
   "metadata": {
    "editable": false,
    "slideshow": {
     "slide_type": ""
    },
    "tags": []
   },
   "source": [
    "<b>🎯 OBJECTIVE</b><hr>\n",
    "Demonstrate how to issue an ACDC that utilizes a Not-Issuer-To-Issuee (NI2I) edge, illustrating how to reference another parent credential for context without implying the issuer of the child is the issuee of the linked parent ACDC. This notebook will also show how a rule can be embedded in the credential. We will implement the **\"Linking to an External Training Course\"** scenario.\n",
    "</div>\n",
    "\n",
    "<div class=\"alert alert-danger\">\n",
    "    <b>ℹ️⚠️ BUG ALERT</b><hr>\n",
    "    <p>Currently the <code>NI2I</code> operator does not work due to a bug. For more details on this and other issues, please see the <a href=\"900_05_Known_Issues.ipynb\">Known Issues Section</a>.\n",
    "\n",
    "The material will be updated once the bug is resolved. For now you can skip this notebook.</p>\n",
    "</div>"
   ]
  },
  {
   "cell_type": "markdown",
   "id": "172f5003-a2e9-4665-8813-47f6c9fb23f8",
   "metadata": {
    "editable": false,
    "slideshow": {
     "slide_type": ""
    },
    "tags": []
   },
   "source": [
    "## Scenario Recap: Linking to an External Training Course\n",
    "\n",
    "This notebook focuses on the practical KLI commands for implementing an `NI2I` chained credentials. For a detailed theoretical explanation of ACDC Edges, Edge Operators, and Rules, please refer to the **[Advanced ACDC Features: Edges, Edge Operators, and Rules](101_75_ACDC_Edges_and_Rules.ipynb)** notebook. To summarize the scenario:\n",
    "\n",
    "- A Company issues a **\"Skill Certified\"** ACDC to an employee, after the employee completes an internal assessment.\n",
    "- To add verifiable, supporting context to this certification, the \"Skill Certified\" ACDC can contain an `NI2I` (Not-Issuer-To-Issuee) edge. This edge would point to a \"Course Completion\" ACDC that the employee had previously received from an external, third-party Training Provider.\n",
    "- This `NI2I` link signifies that while the external training is acknowledged as relevant evidence, the Company's authority to issue its own skill certification is independent and does not derive from the Training Provider's credential.\n",
    "- The \"Employee Skill Certified\" ACDC will also include a simple rule in its `r` section."
   ]
  },
  {
   "cell_type": "markdown",
   "id": "187948cf-dbf7-4cfa-ad9f-545f94aabe6c",
   "metadata": {
    "editable": false,
    "slideshow": {
     "slide_type": ""
    },
    "tags": []
   },
   "source": [
    "## Initial Setup: Keystores, AIDs, Registries, and OOBIs\n",
    "\n",
    "We begin by setting up the three participants in our scenario:\n",
    "\n",
    "- Training Provider (`training_provider_aid`): The entity issuing the course credential.\n",
    "- Company (`company_aid`): The entity issuing the skill credential that references the course credential.\n",
    "- Employee (`employee_aid`): The entity who is the subject (issuee) of both credentials.\n",
    "\n",
    "For each participant, we will:\n",
    "- Initialize a KERI keystore.\n",
    "- Incept an AID, using a default witness configuration.\n",
    "- Establish OOBI connections between the necessary parties (Training Provider ➡️ Employee, and Company ➡️ Employee) to enable secure communication.\n",
    "- For the two issuers (Training Provider and Company), we will also incept a credential registry to manage the lifecycle of the credentials they issue."
   ]
  },
  {
   "cell_type": "code",
   "execution_count": null,
   "id": "e61850eb-a4c7-4465-978f-4175cf70a5f4",
   "metadata": {
    "editable": false,
    "slideshow": {
     "slide_type": ""
    },
    "tags": []
   },
   "outputs": [],
   "source": [
    "# Imports and Utility functions\n",
    "from scripts.utils import exec, clear_keri, pr_title, pr_message, pr_continue\n",
    "from scripts.saidify import get_schema_said\n",
    "import json, os\n",
    "\n",
    "clear_keri()\n",
    "\n",
    "# Training Provider Keystore and AID\n",
    "training_provider_keystore_name = \"training_provider_ks\"\n",
    "training_provider_salt = exec(\"kli salt\")\n",
    "training_provider_aid_alias = \"training_provider\"\n",
    "training_provider_registry_name = \"training_provider_reg\"\n",
    "\n",
    "# Company Keystore and AID\n",
    "company_keystore_name = \"company_ks\"\n",
    "company_salt = exec(\"kli salt\")\n",
    "company_aid_alias = \"company\"\n",
    "company_registry_name = \"company_skill_reg\"\n",
    "\n",
    "# Employee Keystore and AID\n",
    "employee_keystore_name = \"employee_ks\"\n",
    "employee_salt = exec(\"kli salt\")\n",
    "employee_aid_alias = \"employee\"\n",
    "\n",
    "pr_title(\"Initializing keystores\")\n",
    "\n",
    "!kli init --name {training_provider_keystore_name} \\\n",
    "    --nopasscode \\\n",
    "    --salt {training_provider_salt} \\\n",
    "    --config-dir ./config \\\n",
    "    --config-file keystore_init_config.json\n",
    "\n",
    "!kli init --name {company_keystore_name} \\\n",
    "    --nopasscode \\\n",
    "    --salt {company_salt} \\\n",
    "    --config-dir ./config \\\n",
    "    --config-file keystore_init_config.json\n",
    "\n",
    "!kli init --name {employee_keystore_name} \\\n",
    "    --nopasscode \\\n",
    "    --salt {employee_salt} \\\n",
    "    --config-dir ./config \\\n",
    "    --config-file keystore_init_config.json\n",
    "\n",
    "pr_title(\"Initializing AIDs\")\n",
    "\n",
    "!kli incept --name {training_provider_keystore_name} \\\n",
    "    --alias {training_provider_aid_alias} \\\n",
    "    --file ./config/aid_inception_config.json\n",
    "\n",
    "!kli incept --name {company_keystore_name} \\\n",
    "    --alias {company_aid_alias} \\\n",
    "    --file ./config/aid_inception_config.json\n",
    "\n",
    "!kli incept --name {employee_keystore_name} \\\n",
    "    --alias {employee_aid_alias} \\\n",
    "    --file ./config/aid_inception_config.json\n",
    "\n",
    "pr_title(\"Initializing Credential Registries\")\n",
    "\n",
    "!kli vc registry incept --name {training_provider_keystore_name} \\\n",
    "    --alias {training_provider_aid_alias} \\\n",
    "    --registry-name {training_provider_registry_name}\n",
    "\n",
    "!kli vc registry incept --name {company_keystore_name} \\\n",
    "    --alias {company_aid_alias} \\\n",
    "    --registry-name {company_registry_name}\n",
    "\n",
    "training_provider_aid_prefix = exec(f\"kli aid --name {training_provider_keystore_name} --alias {training_provider_aid_alias}\")\n",
    "company_aid_prefix = exec(f\"kli aid --name {company_keystore_name} --alias {company_aid_alias}\")\n",
    "employee_aid_prefix = exec(f\"kli aid --name {employee_keystore_name} --alias {employee_aid_alias}\")\n",
    "\n",
    "pr_message(f\"Training Provider AID: {training_provider_aid_prefix}\")\n",
    "pr_message(f\"Company AID: {company_aid_prefix}\")\n",
    "pr_message(f\"Employee AID: {employee_aid_prefix}\")\n",
    "\n",
    "pr_title(\"Generating and resolving OOBIs\")\n",
    "\n",
    "# Training Provider and Employee OOBI Exchange\n",
    "training_provider_oobi = exec(f\"kli oobi generate --name {training_provider_keystore_name} --alias {training_provider_aid_alias} --role witness\")\n",
    "employee_oobi = exec(f\"kli oobi generate --name {employee_keystore_name} --alias {employee_aid_alias} --role witness\")\n",
    "company_oobi = exec(f\"kli oobi generate --name {company_keystore_name} --alias {company_aid_alias} --role witness\")\n",
    "\n",
    "!kli oobi resolve --name {training_provider_keystore_name} \\\n",
    "    --oobi-alias {employee_aid_alias} \\\n",
    "    --oobi {employee_oobi}\n",
    "           \n",
    "!kli oobi resolve --name {employee_keystore_name} \\\n",
    "    --oobi-alias {training_provider_aid_alias} \\\n",
    "    --oobi {training_provider_oobi}\n",
    "\n",
    "# Company and Employee OOBI Exchange\n",
    "\n",
    "!kli oobi resolve --name {company_keystore_name} \\\n",
    "    --oobi-alias {employee_aid_alias} \\\n",
    "    --oobi {employee_oobi}\n",
    "\n",
    "!kli oobi resolve --name {employee_keystore_name} \\\n",
    "    --oobi-alias {company_aid_alias} \\\n",
    "    --oobi {company_oobi}\n",
    "\n",
    "# Company and Training Provider -----------------------------------\n",
    "!kli oobi resolve --name {company_keystore_name} \\\n",
    "    --oobi-alias {training_provider_aid_alias} \\\n",
    "    --oobi {training_provider_oobi}\n",
    "\n",
    "!kli oobi resolve --name {training_provider_keystore_name} \\\n",
    "    --oobi-alias {company_aid_alias} \\\n",
    "    --oobi {company_oobi}\n",
    "\n",
    "pr_message(\"OOBI connections established.\")\n",
    "pr_continue()"
   ]
  },
  {
   "cell_type": "markdown",
   "id": "a72065d9-691a-4e22-a365-c5035b4c669d",
   "metadata": {
    "editable": false,
    "slideshow": {
     "slide_type": ""
    },
    "tags": []
   },
   "source": [
    "## Schema Definitions\n",
    "\n",
    "For this scenario, we require two distinct ACDC schemas:\n",
    "- **Course Completion Schema** (' course_completion_schema.json' ): Defines the credential issued by the Training Provider.\n",
    "- **Employee Skill Schema** (' employee_skill_schema.json'): Defines the credential issued by the Company, which will include the `NI2I` edge and a rule."
   ]
  },
  {
   "cell_type": "markdown",
   "id": "9a84ef60-c60c-4fb9-b909-7c89fedaebc1",
   "metadata": {
    "editable": false,
    "slideshow": {
     "slide_type": ""
    },
    "tags": []
   },
   "source": [
    "<div class=\"alert alert-info\">\n",
    "<b>ℹ️ NOTE</b><hr>\n",
    "For this notebook, the schemas have been pre-SAIDified and are available on our mock schema server. The process of SAIDifying schemas was detailed in a previous notebook.\n",
    "</div>"
   ]
  },
  {
   "cell_type": "markdown",
   "id": "2bfc115f-330a-43a4-bc15-da13708ca3e5",
   "metadata": {
    "editable": false,
    "slideshow": {
     "slide_type": ""
    },
    "tags": []
   },
   "source": [
    "### Course Completion Schema\n",
    "\n",
    "This schema defines a basic credential for certifying the completion of a training course. It's a standard, non-chained credential.\n",
    "\n",
    "Filename: `course_completion_schema.json`"
   ]
  },
  {
   "cell_type": "code",
   "execution_count": null,
   "id": "4d12aa6f-c430-4710-986b-affb5f1eabb3",
   "metadata": {
    "editable": false,
    "slideshow": {
     "slide_type": ""
    },
    "tags": []
   },
   "outputs": [],
   "source": [
    "course_schema_path = \"config/schemas/course_completion_schema.json\"\n",
    "pr_title(f\"Schema: {course_schema_path}\")\n",
    "\n",
    "course_schema_said = get_schema_said(course_schema_path)\n",
    "pr_message(f\"Schema SAID: {course_schema_said}\")\n",
    "\n",
    "pr_message(f\"Retrieving Schema from Server:\")\n",
    "!curl -s http://vlei-server:7723/oobi/{course_schema_said} | jq\n",
    "\n",
    "pr_continue()"
   ]
  },
  {
   "cell_type": "markdown",
   "id": "bed243f3-791a-4d44-9af1-1c7def9e17fc",
   "metadata": {
    "editable": false,
    "slideshow": {
     "slide_type": ""
    },
    "tags": []
   },
   "source": [
    "### Employee Skill Schema\n",
    "This schema defines the credential issued by the Company to the Employee. It includes an `e` (edges) section with an `NI2I` operator to reference the \"Course Completion\" credential and an `r` (rules) section for a verification policy.\n",
    "\n",
    "Filename: `employee_skill_schema.json`"
   ]
  },
  {
   "cell_type": "code",
   "execution_count": null,
   "id": "9d9c1f1d-5331-447f-89e8-dcc01c0f455c",
   "metadata": {
    "editable": false,
    "slideshow": {
     "slide_type": ""
    },
    "tags": []
   },
   "outputs": [],
   "source": [
    "skill_schema_path = \"config/schemas/skill_certified_schema.json\"\n",
    "pr_title(f\"Schema: {skill_schema_path}\")\n",
    "\n",
    "skill_schema_said = get_schema_said(skill_schema_path)\n",
    "pr_message(f\"Schema SAID: {skill_schema_said}\")\n",
    "\n",
    "pr_message(f\"Retrieving Schema from Server:\")\n",
    "!curl -s http://vlei-server:7723/oobi/{skill_schema_said} | jq\n",
    "\n",
    "pr_continue()"
   ]
  },
  {
   "cell_type": "markdown",
   "id": "6aa51312-3c29-4941-bdf3-4903c3a8a6fa",
   "metadata": {
    "editable": false,
    "slideshow": {
     "slide_type": ""
    },
    "tags": []
   },
   "source": [
    "## Resolving Schema OOBIs\n",
    "\n",
    "All three participants must resolve the OOBIs for both schemas to ensure they can understand and validate the credentials."
   ]
  },
  {
   "cell_type": "code",
   "execution_count": null,
   "id": "a9a350c2-e0c6-4615-9ab4-3cbbfcbab25b",
   "metadata": {
    "editable": false,
    "slideshow": {
     "slide_type": ""
    },
    "tags": []
   },
   "outputs": [],
   "source": [
    "pr_title(\"Resolving schema OOBIs\")\n",
    "\n",
    "course_schema_oobi = f\"http://vlei-server:7723/oobi/{course_schema_said}\"\n",
    "skill_schema_oobi = f\"http://vlei-server:7723/oobi/{skill_schema_said}\"\n",
    "\n",
    "# Participants resolving Course Completion Schema\n",
    "!kli oobi resolve --name {training_provider_keystore_name} \\\n",
    "    --oobi-alias \"course_schema\" \\\n",
    "    --oobi {course_schema_oobi}\n",
    "\n",
    "!kli oobi resolve --name {company_keystore_name} \\\n",
    "    --oobi-alias \"course_schema\" \\\n",
    "    --oobi {course_schema_oobi}\n",
    "\n",
    "!kli oobi resolve --name {employee_keystore_name} \\\n",
    "    --oobi-alias \"course_schema\" \\\n",
    "    --oobi {course_schema_oobi}\n",
    "\n",
    "# Participants resolving Employee Skill Schema\n",
    "!kli oobi resolve --name {training_provider_keystore_name} \\\n",
    "    --oobi-alias \"skill_schema\" \\\n",
    "    --oobi {skill_schema_oobi}\n",
    "\n",
    "!kli oobi resolve --name {company_keystore_name} \\\n",
    "    --oobi-alias \"skill_schema\" \\\n",
    "    --oobi {skill_schema_oobi}\n",
    "\n",
    "!kli oobi resolve --name {employee_keystore_name} \\\n",
    "    --oobi-alias \"skill_schema\" \\\n",
    "    --oobi {skill_schema_oobi}\n",
    "\n",
    "pr_message(\"Schema OOBIs resolved.\")\n",
    "pr_continue()"
   ]
  },
  {
   "cell_type": "markdown",
   "id": "15a3eb07-b7fc-4a52-992e-2ecf3ef2624b",
   "metadata": {
    "editable": false,
    "slideshow": {
     "slide_type": ""
    },
    "tags": []
   },
   "source": [
    "## Issuing credentials\n",
    "Now that the setup is complete and the schemas are available, it's necessary to create the credential chain starting with the Course Completion credential and later the Employee Skill credential."
   ]
  },
  {
   "cell_type": "markdown",
   "id": "960c4cc7-7762-42a7-b1cf-f2d38541000e",
   "metadata": {
    "editable": false,
    "slideshow": {
     "slide_type": ""
    },
    "tags": []
   },
   "source": [
    "### Step 1: Course Completion Credential Issuance (Training Provider to Employee)\n",
    "First, the Training Provider issues the \"Course Completion\" credential to the Employee. This establishes the base credential that will be referenced later.\n",
    "\n",
    "**Create Course Completion Credential Data**  \n",
    "\n",
    "Create a JSON file with the specific attributes for the course completion."
   ]
  },
  {
   "cell_type": "code",
   "execution_count": null,
   "id": "59fc7d9f-55ad-4887-81ec-498b6b0cdd15",
   "metadata": {
    "editable": false,
    "slideshow": {
     "slide_type": ""
    },
    "tags": []
   },
   "outputs": [],
   "source": [
    "pr_title(\"Creating Course Completion credential data\")\n",
    "\n",
    "!echo '{ \\\n",
    "    \"courseName\": \"Advanced Cryptographic Systems\", \\\n",
    "    \"courseLevel\": \"Expert\", \\\n",
    "    \"completionDate\": \"2024-09-15\" \\\n",
    "}' > config/credential_data/course_cred_data.json\n",
    "\n",
    "!cat config/credential_data/course_cred_data.json | jq\n",
    "\n",
    "pr_continue()"
   ]
  },
  {
   "cell_type": "markdown",
   "id": "a6bff8f0-966b-49f1-8840-3c267760f17e",
   "metadata": {
    "editable": false,
    "slideshow": {
     "slide_type": ""
    },
    "tags": []
   },
   "source": [
    "### Training Provider Issues Credential\n",
    "The Training Provider uses `kli vc create` to issue the credential."
   ]
  },
  {
   "cell_type": "code",
   "execution_count": null,
   "id": "fc1af548-c68f-456a-9301-f17e8d597910",
   "metadata": {
    "editable": false,
    "slideshow": {
     "slide_type": ""
    },
    "tags": []
   },
   "outputs": [],
   "source": [
    "pr_title(\"Creating Course Completion credential\")\n",
    "\n",
    "issue_time_training = exec(\"kli time\")\n",
    "!kli vc create --name {training_provider_keystore_name} \\\n",
    "    --alias {training_provider_aid_alias} \\\n",
    "    --registry-name {training_provider_registry_name} \\\n",
    "    --schema {course_schema_said} \\\n",
    "    --recipient {employee_aid_prefix} \\\n",
    "    --data \"@./config/credential_data/course_cred_data.json\" \\\n",
    "    --time {issue_time_training}\n",
    "\n",
    "course_credential_said = exec(f\"kli vc list --name {training_provider_keystore_name} --alias {training_provider_aid_alias} --issued --said --schema {course_schema_said}\")\n",
    "pr_message(f\"Course Credential SAID: {course_credential_said}\")\n",
    "\n",
    "pr_continue()"
   ]
  },
  {
   "cell_type": "markdown",
   "id": "ee775d1e-f3c8-4d2e-a4fd-e30af1439e8e",
   "metadata": {
    "editable": false,
    "slideshow": {
     "slide_type": ""
    },
    "tags": []
   },
   "source": [
    "**IPEX Transfer: Training Provider Grants, Employee Admits**  \n",
    "\n",
    "The credential is then transferred to the Employee using the standard IPEX grant/admit flow."
   ]
  },
  {
   "cell_type": "code",
   "execution_count": null,
   "id": "87f89caf-201e-4674-a17d-720d689ca2d0",
   "metadata": {
    "editable": false,
    "slideshow": {
     "slide_type": ""
    },
    "tags": []
   },
   "outputs": [],
   "source": [
    "pr_title(\"Transferring Course Completion credential (IPEX)\")\n",
    "\n",
    "time = exec(\"kli time\")\n",
    "!kli ipex grant --name {training_provider_keystore_name} \\\n",
    "    --alias {training_provider_aid_alias} \\\n",
    "    --said {course_credential_said} \\\n",
    "    --recipient {employee_aid_prefix} \\\n",
    "    --time {time}\n",
    "\n",
    "# Employee polls for the grant and admits it\n",
    "print(\"Polling mailboxes for IPEX Grant messages to admit...\")\n",
    "employee_grant_msg_said = exec(f\"kli ipex list --name {employee_keystore_name} --alias {employee_aid_alias} --poll --said\")\n",
    "time = exec(\"kli time\")\n",
    "!kli ipex admit --name {employee_keystore_name} \\\n",
    "    --alias {employee_aid_alias} \\\n",
    "    --said {employee_grant_msg_said} \\\n",
    "    --time {time}\n",
    "\n",
    "pr_message(\"\\nEmployee's received Course Completion Credential:\")\n",
    "!kli vc list --name {employee_keystore_name} \\\n",
    "    --alias {employee_aid_alias} \\\n",
    "    --verbose\n",
    "\n",
    "pr_continue()"
   ]
  },
  {
   "cell_type": "markdown",
   "id": "5cd37af8-45e8-41f7-943d-df0665f12aae",
   "metadata": {
    "editable": false,
    "slideshow": {
     "slide_type": ""
    },
    "tags": []
   },
   "source": [
    "### Step 2: Employee Skill Credential Issuance (Company to Employee)\n",
    "Now, the Company issues the \"Employee Skill Certified\" credential, which will link to the one the Employee just received.\n",
    "\n",
    "Create Data Properties for Skill Credential\n",
    "We need to create three separate JSON files for the attributes, the NI2I edge, and the rule."
   ]
  },
  {
   "cell_type": "markdown",
   "id": "f1144b6d-b9b9-45ba-9a73-847d25553134",
   "metadata": {
    "editable": false,
    "slideshow": {
     "slide_type": ""
    },
    "tags": []
   },
   "source": [
    "**Attributes Data**   \n",
    "\n",
    "Generic mock data to represent an access claim."
   ]
  },
  {
   "cell_type": "code",
   "execution_count": null,
   "id": "e70232b7-c64b-4fab-b1ef-89f6050aeebf",
   "metadata": {
    "editable": false,
    "slideshow": {
     "slide_type": ""
    },
    "tags": []
   },
   "outputs": [],
   "source": [
    "pr_message(\"Employee Skill Credential Attributes\")\n",
    "\n",
    "skill_cred_data_file_path = \"config/credential_data/skill_cred_data.json\"\n",
    "\n",
    "skill_data = {\n",
    "    \"skillName\": \"Secure System Design\",\n",
    "    \"skillLevel\": \"Proficient\",\n",
    "    \"assessmentDate\": \"2025-01-20\"\n",
    "}\n",
    "\n",
    "with open(skill_cred_data_file_path, 'w') as f:\n",
    "    json.dump(skill_data, f, indent=4)\n",
    "    \n",
    "!cat {skill_cred_data_file_path} | jq"
   ]
  },
  {
   "cell_type": "markdown",
   "id": "f9110f5a-2ced-473f-966d-d84226a08af4",
   "metadata": {
    "editable": false,
    "slideshow": {
     "slide_type": ""
    },
    "tags": []
   },
   "source": [
    "**Edge Data (NI2I) and SAIDification**  \n",
    "\n",
    "The edge data is created, linking to the `course_credential_said` obtained in the previous step. The operator `o` is explicitly set to `NI2I`. This file is then SAIDified using `kli saidify` to populate its `d` field."
   ]
  },
  {
   "cell_type": "code",
   "execution_count": null,
   "id": "a00fa700-90c4-421f-91da-d86a26bcb953",
   "metadata": {
    "editable": false,
    "slideshow": {
     "slide_type": ""
    },
    "tags": []
   },
   "outputs": [],
   "source": [
    "pr_message(\"Employee Skill Credential Edges (NI2I)\")\n",
    "\n",
    "skill_cred_edge_file_path = \"config/credential_data/skill_cred_edge.json\"\n",
    "\n",
    "skill_edge = {\n",
    "    \"d\": \"\",\n",
    "    \"supporting_evidence\": {\n",
    "        \"n\": course_credential_said,\n",
    "        \"s\": course_schema_said,\n",
    "        \"o\": \"NI2I\"\n",
    "    }\n",
    "}\n",
    "\n",
    "with open(skill_cred_edge_file_path, 'w') as f:\n",
    "    json.dump(skill_edge, f, indent=4)\n",
    "    \n",
    "!kli saidify --file {skill_cred_edge_file_path}\n",
    "\n",
    "!cat {skill_cred_edge_file_path} | jq"
   ]
  },
  {
   "cell_type": "markdown",
   "id": "ab165e61-0a31-4477-b7a6-10a09cdbcbc5",
   "metadata": {
    "editable": false,
    "slideshow": {
     "slide_type": ""
    },
    "tags": []
   },
   "source": [
    "**Rule Data and SAIDification**  \n",
    "\n",
    "The rule data is created and SAIDified."
   ]
  },
  {
   "cell_type": "code",
   "execution_count": null,
   "id": "0fa31580-a974-4bce-bc54-9178a5787124",
   "metadata": {
    "editable": false,
    "slideshow": {
     "slide_type": ""
    },
    "tags": []
   },
   "outputs": [],
   "source": [
    "pr_message(\"Employee Skill Credential Rules\")\n",
    "\n",
    "skill_cred_rule_file_path = \"config/credential_data/skill_cred_rule.json\"\n",
    "\n",
    "skill_rule = {\n",
    "  \"d\": \"\",\n",
    "  \"verification_policy\": {\n",
    "    \"l\": \"Verification of this skill certification requires checking the validity of supporting evidence.\"\n",
    "  }\n",
    "}\n",
    "with open(skill_cred_rule_file_path, 'w') as f:\n",
    "    json.dump(skill_rule, f, indent=4)\n",
    "    \n",
    "!kli saidify --file {skill_cred_rule_file_path}\n",
    "!cat {skill_cred_rule_file_path} | jq"
   ]
  },
  {
   "cell_type": "markdown",
   "id": "18f9ebce-93f5-4ec1-8f0e-9a0a793303b3",
   "metadata": {
    "editable": false,
    "slideshow": {
     "slide_type": ""
    },
    "tags": []
   },
   "source": [
    "#### Company Issues Skill Credential\n",
    "\n",
    "The Company now creates the chained credential using kli vc create, supplying the attributes, edges, and rules files."
   ]
  },
  {
   "cell_type": "code",
   "execution_count": null,
   "id": "958a33c9-543e-46da-ba37-b4be5e210072",
   "metadata": {
    "editable": false,
    "slideshow": {
     "slide_type": ""
    },
    "tags": []
   },
   "outputs": [],
   "source": [
    "time = exec(\"kli time\")\n",
    "\n",
    "!kli vc create --name {company_keystore_name} \\\n",
    "    --alias {company_aid_alias} \\\n",
    "    --registry-name {company_registry_name} \\\n",
    "    --schema {skill_schema_said} \\\n",
    "    --recipient {employee_aid_prefix} \\\n",
    "    --data  \"@./config/credential_data/skill_cred_data.json\" \\\n",
    "    --edges \"@./config/credential_data/skill_cred_edge.json\" \\\n",
    "    --rules \"@./config/credential_data/skill_cred_rule.json\" \\\n",
    "    --time {time}\n",
    "\n",
    "skill_credential_said = exec(f\"kli vc list --name {company_keystore_name} --alias {company_aid_alias} --issued --said --schema {skill_schema_said}\")\n",
    "\n",
    "pr_message(f\"Employee Skill Credential SAID: {skill_credential_said}\")\n",
    "\n",
    "pr_continue()"
   ]
  },
  {
   "cell_type": "markdown",
   "id": "dac589af-5c62-4be1-8bfc-4b61c03ae1a1",
   "metadata": {
    "editable": false,
    "slideshow": {
     "slide_type": ""
    },
    "tags": []
   },
   "source": [
    "### Step 3: Company Grants, Employee Admits Skill Credential\n",
    "\n",
    "The final step is to transfer the newly created chained credential to the Employee."
   ]
  },
  {
   "cell_type": "code",
   "execution_count": null,
   "id": "99c8d537-f733-4ab2-938b-1d070dc8565e",
   "metadata": {
    "editable": false,
    "slideshow": {
     "slide_type": ""
    },
    "tags": []
   },
   "outputs": [],
   "source": [
    "pr_title(\"Transferring Employee Skill Credential from Company to Employee\")\n",
    "time = exec(\"kli time\")\n",
    "!kli ipex grant --name {company_keystore_name} \\\n",
    "    --alias {company_aid_alias} \\\n",
    "    --said {skill_credential_said} \\\n",
    "    --recipient {employee_aid_prefix} \\\n",
    "    --time {time}\n",
    "\n",
    "pr_title(\"Employee admitting Skill Credential\")\n",
    "# Employee polls for the grant and admits it\n",
    "employee_skill_grant_msg_said = exec(f\"kli ipex list --name {employee_keystore_name} --alias {employee_aid_alias} --poll --said\")\n",
    "time = exec(\"kli time\")\n",
    "!kli ipex admit --name {employee_keystore_name} \\\n",
    "    --alias {employee_aid_alias} \\\n",
    "    --said {employee_skill_grant_msg_said} \\\n",
    "    --time {time}\n",
    "\n",
    "pr_message(\"\\nEmployee's received Employee Skill Credential:\")\n",
    "!kli vc list --name {employee_keystore_name} --alias {employee_aid_alias} --said {skill_credential_said} --verbose\n",
    "\n",
    "pr_continue()"
   ]
  },
  {
   "cell_type": "markdown",
   "id": "7abc4088-df66-4564-9395-4fd19a81ded7",
   "metadata": {
    "editable": false,
    "slideshow": {
     "slide_type": ""
    },
    "tags": []
   },
   "source": [
    "When you view the final \"Employee Skill Credential\" held by the Employee, you will see:\n",
    "\n",
    "- The attributes (`a` section) for the certified skill.\n",
    "- The edge (`e` section) with `supporting_evidence` linking to the Course Completion ACDC's SAID (n) and using the `NI2I` operator (`o`).\n",
    "- The rule (`r` section) with the `verification_policy`.\n",
    "\n",
    "This confirms the successful creation and issuance of a chained credential using an NI2I edge to provide external, verifiable context."
   ]
  },
  {
   "cell_type": "markdown",
   "id": "1a9a6861-4fe8-492b-9b46-615d85233753",
   "metadata": {
    "editable": false,
    "slideshow": {
     "slide_type": ""
    },
    "tags": []
   },
   "source": [
    "<div class=\"alert alert-primary\">\n",
    "<b>📝 SUMMARY</b><hr>\n",
    "This notebook demonstrated the creation of a chained ACDC relationship using a Not-Issuer-To-Issuee (NI2I) edge and the inclusion of a rule.\n",
    "<ol>\n",
    "<li><b>Setup:</b> Three participants (Training Provider, Company, Employee) were initialized with keystores, AIDs, and credential registries for the issuers. OOBI connections were established between them.</li>\n",
    "<li><b>Schema Preparation:</b> Two schemas, one for \"Course Completion\" and another for \"Skill Certified\" (which included definitions for <code>e</code> and <code>r</code> sections), were resolved by all parties from a schema server.</li>\n",
    "<li><b>Base Credential Issuance (Training Provider to Employee):</b>\n",
    "<ul>\n",
    "<li>The Training Provider issued a \"Course Completion\" ACDC to the Employee.</li>\n",
    "<li>This credential was transferred via IPEX and admitted by the Employee. The SAID of this credential was saved for the next step.</li>\n",
    "</ul>\n",
    "</li>\n",
    "<li><b>Chained Credential Issuance (Company to Employee):</b>\n",
    "<ul>\n",
    "<li>The Company prepared the data for the \"Employee Skill\" ACDC.</li>\n",
    "<li>An <b>edge file</b> was created, linking to the previously issued \"Course Completion\" ACDC's SAID and explicitly using the <b><code>\"o\": \"NI2I\"</code></b> operator. This file was SAIDified.</li>\n",
    "<li>A <b>rule file</b> was created with a custom policy and was also SAIDified.</li>\n",
    "<li>The Company issued the \"Employee Skill\" ACDC using <code>kli vc create</code>, supplying the attributes, edges, and rules files.</li>\n",
    "<li>This second credential was transferred to the Employee via IPEX.</li>\n",
    "</ul>\n",
    "</li>\n",
    "<li><b>Verification:</b> The final ACDC held by the Employee contained the skill attributes, the NI2I edge pointing to the course certificate as supporting evidence, and the embedded verification policy rule, successfully demonstrating the NI2I use case.</li>\n",
    "</ol>\n",
    "</div>"
   ]
  },
  {
   "cell_type": "code",
   "execution_count": null,
   "id": "0a6268ca-a090-45e0-8c56-b9e8291cc865",
   "metadata": {
    "editable": false,
    "slideshow": {
     "slide_type": ""
    },
    "tags": []
   },
   "outputs": [],
   "source": [
    "# from scripts.saidify import process_schema_file\n",
    "\n",
    "# # Run the saidify script\n",
    "# process_schema_file(\"./config/schemas/course_completion_schema.bak.json\", \"./config/schemas/course_completion_schema.json\", True)\n",
    "# process_schema_file(\"./config/schemas/skill_certified_schema.bak.json\", \"./config/schemas/skill_certified_schema.json\", True)"
   ]
  },
  {
   "cell_type": "markdown",
   "id": "9f552786-c4bd-4422-a0cf-47d1019454bb",
   "metadata": {
    "editable": false,
    "slideshow": {
     "slide_type": ""
    },
    "tags": []
   },
   "source": [
    "[<- Prev (ACDC Chained Credentials I2I)](101_80_ACDC_Chained_Credentials_I2I.ipynb) | [Next (KERIA Signify) ->](102_05_KERIA_Signify.ipynb)"
   ]
  }
 ],
 "metadata": {
  "kernelspec": {
   "display_name": "Python 3 (ipykernel)",
   "language": "python",
   "name": "python3"
  },
  "language_info": {
   "codemirror_mode": {
    "name": "ipython",
    "version": 3
   },
   "file_extension": ".py",
   "mimetype": "text/x-python",
   "name": "python",
   "nbconvert_exporter": "python",
   "pygments_lexer": "ipython3",
   "version": "3.12.9"
  }
 },
 "nbformat": 4,
 "nbformat_minor": 5
}
