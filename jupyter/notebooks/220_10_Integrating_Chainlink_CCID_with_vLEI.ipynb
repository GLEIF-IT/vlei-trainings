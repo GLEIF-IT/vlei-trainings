{
 "cells": [
  {
   "cell_type": "markdown",
   "id": "f64d5ed0-95e4-40e7-81bb-d973a8efe57b",
   "metadata": {
    "editable": false,
    "slideshow": {
     "slide_type": ""
    },
    "tags": []
   },
   "source": [
    "# Chainlink Automated Compliance Engine (ACE): Extending vLEI into the Blockchain World\n",
    "🎯 OBJECTIVE\n",
    "Introduce the Chainlink Automated Compliance Engine (ACE) as a solution that extends vLEI credentials into blockchain applications, helping organizations to maintain their regulatory compliance across traditional and decentralized systems."
   ]
  },
  {
   "cell_type": "markdown",
   "id": "b61ab67b-cf62-4fb7-9808-9b34f8e39df7",
   "metadata": {
    "editable": false,
    "slideshow": {
     "slide_type": ""
    },
    "tags": []
   },
   "source": [
    "## The Bridge Between Two Worlds\n",
    "\n",
    "As organizations increasingly adopt blockchain technology, they face a critical challenge: how to maintain the trust and compliance standards of traditional systems while leveraging the innovation of decentralized networks. The [Chainlink Automated Compliance Engine](https://chain.link/automated-compliance-engine) provides the bridge between these worlds, allowing vLEI credentials to seamlessly function in blockchain environments.\n",
    "\n",
    "## What is the Chainlink Automated Compliance Engine?\n",
    "The Chainlink Automated Compliance Engine (ACE) unifies Chainlink’s compliance-related capabilities, tools, and services to facilitate the creation and lifecycle management of regulated financial instruments and tokenized assets on blockchain networks. It’s powered by the Chainlink Runtime Environment (CRE), which serves as the underlying infrastructure that combines cross-chain interoperability, offchain data integration, and automated compliance orchestration into a single unified offering that enables organizations to:\n",
    "\n",
    "- **Use One Identity Everywhere**: vLEI identity and credentials can now work across multiple blockchain networks through CCID\n",
    "- **Manage your Policies Dynamically**: Update policy rules in real-time without changing your core business applications using ACE’s Policy Manager\n",
    "- **Protect Privacy**: Keep sensitive information secure off-chain while still executing identity-based checks and rules  on-chain\n",
    "- **Connect Everything**: Link existing vLEI infrastructure to any blockchain application\n",
    "\n",
    "## Why This Matters for vLEI Users\n",
    "\n",
    "### Your Credentials, Extended\n",
    "If your organization already has vLEI credentials, you've invested in establishing a verified, trusted digital identity. Chainlink ACE extends this investment by making your credentials work in blockchain applications without additional verification processes.\n",
    "\n",
    "Think of it this way:\n",
    "- **vLEI** = Your verified organizational identity\n",
    "- **Cross-Chain Identity (CCID) Framework** = The translator that makes your identity work on blockchains\n",
    "\n",
    "## 📚 Visit the [Chainlink Automated Compliance Engine](https://chain.link/automated-compliance-engine) product page: \n",
    "\n",
    "#### Ready to extend your vLEI credentials to blockchain?\n",
    "\n",
    "Visit [https://chain.link/automated-compliance-engine](https://chain.link/automated-compliance-engine) to explore how the Chainlink Automated Compliance Engine can transform your approach to digital compliance.\n"
   ]
  },
  {
   "cell_type": "markdown",
   "id": "98bba89f-b812-4bdc-ae8d-d305e08c15aa",
   "metadata": {
    "editable": false,
    "slideshow": {
     "slide_type": ""
    },
    "tags": []
   },
   "source": [
    "[<- Prev (vLEI Trust Chain)](103_10_vLEI_Trust_Chain.ipynb)"
   ]
  }
 ],
 "metadata": {
  "kernelspec": {
   "display_name": "Python 3 (ipykernel)",
   "language": "python",
   "name": "python3"
  },
  "language_info": {
   "codemirror_mode": {
    "name": "ipython",
    "version": 3
   },
   "file_extension": ".py",
   "mimetype": "text/x-python",
   "name": "python",
   "nbconvert_exporter": "python",
   "pygments_lexer": "ipython3",
   "version": "3.12.9"
  }
 },
 "nbformat": 4,
 "nbformat_minor": 5
}
