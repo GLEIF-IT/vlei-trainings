{
 "cells": [
  {
   "cell_type": "markdown",
   "id": "d93e14db-c930-42e9-96f6-6e4680dc00b7",
   "metadata": {
    "editable": false,
    "slideshow": {
     "slide_type": ""
    },
    "tags": []
   },
   "source": [
    "# Introducing KERIA and Signify: Architecture and Concepts"
   ]
  },
  {
   "cell_type": "markdown",
   "id": "2703c2e2-ade7-4732-835d-8edee765092d",
   "metadata": {
    "editable": false,
    "slideshow": {
     "slide_type": ""
    },
    "tags": []
   },
   "source": [
    "<div class=\"alert alert-primary\">\n",
    "  <b>🎯 OBJECTIVE</b><hr>\n",
    "  Introduces the foundational concepts of KERIA and Signify TS, focusing on:\n",
    "    <ul>\n",
    "        <li>The KERIA/Signify client-agent architecture.</li>\n",
    "        <li>Key KERIA endpoint interfaces.</li>\n",
    "        <li>The concept of Endpoint Role records (End Roles).</li>\n",
    "        <li>The relationship between Client AIDs and Agent AIDs.</li>\n",
    "        <li>What SignifyTS and SignifyPy are.</li>\n",
    "    </ul>\n",
    "</div>"
   ]
  },
  {
   "cell_type": "markdown",
   "id": "d6d71942-3dc3-4489-a770-8779ecb9a2ee",
   "metadata": {
    "editable": false,
    "slideshow": {
     "slide_type": ""
    },
    "tags": []
   },
   "source": [
    "## Edge Signing Client - Agent Architecture\n",
    "\n",
    "KERI is a protocol for secure, self-certifying identifiers. **KERIA** is an implementation of the multi-tenant server portion of the Signify agent protocol for KERI agents and is designed to run as a service (e.g., in the cloud or self-hosted) that manages AIDs on behalf of a controller. **Signify TS** is a TypeScript library implementing the edge signing client protocol. It acts as an edge signing client, enabling applications to interact with a KERIA agent. **Signify Py** is a Python library implementing the edge client protocol of the Signify and KERIA protocol. \n",
    "\n",
    "What does edge signing mean? It means that all of the cryptographic keypairs only ever exist at the edge, in memory, within the application that uses a Signify library. Keys existing at the edge provides security and confidence that only the person possessing the passcode, or cryptographic seed, is the one performing signing. The phrase \"edge\" is used to indicate that the Signify libraries are used in person-facing applications.\n",
    "\n",
    "The idea behind this client-agent architecture is to enable \"signing at the edge\". Your sensitive private keys, used for signing key events and other data, remain on the client-side (managed by a Signify client library). The KERIA agent, running remotely, handles tasks like:\n",
    "* Storing key indexes (retrieved by the Signify Client on boot up)\n",
    "* Creating KERI AIDs delegated from the edge AID\n",
    "* Managing Key Event Logs (KELs) for edge AIDs\n",
    "* Creating, storing, issuing, revoking, presenting, and receiving ACDCs\n",
    "* Acting as a cloud mailbox to send and receive KERI and ACDC messages from\n",
    "* Interacting with witnesses\n",
    "* Exchanging messages with other KERI agents\n",
    "\n",
    "The KERIA agent itself never has access to your private keys. All critical signing operations happen on the client, and the signed events are then sent to the KERIA agent for processing and dissemination.\n",
    "\n",
    "This architecture separates key management and signing authority (client-side) from the operational aspects of maintaining AIDs' KELs and ACDCs and their availability (agent-side).\n",
    "\n",
    "### KERIA Deployment and Configuration\n",
    "\n",
    "In a typical deployment, KERIA starts up and loads its configuration, including a list of default witnesses (or OOBI URLs) and ACDC schemas, from a JSON configuration file (e.g., **[keria configuration file](config/keria/keria-docker.json)**). This allows the agent to be pre-configured with a set of witnesses and connections to any other KERI AID that any AIDs created on that KERIA server are preconfigured to see."
   ]
  },
  {
   "cell_type": "markdown",
   "id": "0c87425b-33cd-4cba-938c-85717b6c113b",
   "metadata": {
    "editable": false,
    "slideshow": {
     "slide_type": ""
    },
    "tags": []
   },
   "source": [
    "## Agent Service Endpoints\n",
    "\n",
    "A KERIA service instance exposes distinct HTTP endpoints to handle different types of interactions:\n",
    "\n",
    "1.  **Boot Interface** (`boot port`, e.g., 3903 by default):\n",
    "    * **Purpose**: Used for the initial setup and provisioning of a KERIA agent worker for a Signify client. This is where the client and agent establish their initial secure relationship.\n",
    "    * **Interaction**: The Signify client sends its client AID's inception event to this endpoint to request the creation of a delegated agent AID.\n",
    "    * **Accessibility**: Often restricted to internal infrastructure or disabled if agents are pre-configured (static worker mode).\n",
    "\n",
    "2.  **Admin Interface** (`admin port`, e.g., 3901 by default):\n",
    "    * **Purpose**: This is the primary REST API for the Signify client to command and control its KERIA agent.\n",
    "    * **Interaction**: Used for operations like creating new AIDs, rotating keys, issuing credentials, resolving OOBIs, etc. All requests to this interface must be authenticated (e.g., signed by the Client AID).\n",
    "    * **Accessibility**: Typically exposed externally to allow the client to manage its AIDs.\n",
    "\n",
    "3.  **KERI Protocol Interface** (`http port`, e.g., 3902 by default):\n",
    "    * **Purpose**: Handles standard KERI protocol messages (e.g., KELs, receipts, challenges) exchanged with other KERI agents and witnesses in the wider KERI network.\n",
    "    * **Interaction**: Facilitates multi-sig coordination, credential revocation, KEL exchange, etc., using CESR (Composable Event Streaming Representation) over HTTP.\n",
    "    * **Accessibility**: Exposed externally to enable interaction with the global KERI ecosystem.\n",
    "\n",
    "This separation of interfaces enhances security and deployment flexibility."
   ]
  },
  {
   "cell_type": "markdown",
   "id": "5b9b59cb-c217-42a0-8d43-1afc9f9b04a9",
   "metadata": {
    "editable": false,
    "slideshow": {
     "slide_type": ""
    },
    "tags": []
   },
   "source": [
    "## Understanding Endpoint Role Records\n",
    "\n",
    "An **endpoint role record**, or \"end role\" for short, in KERI is an authorization that one AID grants to itself or another AID to act in a particular role representing a specific capacity to act on its behalf. Think of it as assigning a specific job to itself or another identifier.\n",
    "\n",
    "For instance, when a Signify client connects to a KERIA agent, the **Client AID** (controlled by the user or application) delegates authority to an **Agent AID** (managed by the KERIA service). The Client AID essentially authorizes its Agent AID to perform certain KERI operations in its name, like anchoring its KEL with witnesses or responding to discovery requests.\n",
    "\n",
    "Declaring an end role typically involves creating a KERI event, often an interaction event (`ixn`) or an establishment event (`icp` or `rot`) with specific configuration (`c` field) or an `end` role event, that specifies:\n",
    "* The AID granting the authorization (the delegator or authorizer).\n",
    "* The AID receiving the authorization (the delegate or authorized party).\n",
    "* The specific role being granted (e.g., `agent`, `witness`, `watcher`, `controller`, `mailbox`).\n",
    "\n",
    "This signed authorization will either be recorded in the KEL of the authorizing AID to make the role assignment verifiable by anyone who can access and validate that KEL or it will be stored locally for transmission when the key event log is requested through OOBI exchange or when it is sent directly from a given AID.\n",
    "\n",
    "### Example of endpoint role in action\n",
    "\n",
    "The end role records are necessary to enable specific permissions within the internal KERI communication system. For example, an agent AID having been assigned the role of `agent` for a given delegator, the Signify controller AID, allows messages for the controlling AID to be sent through the authorized agent AID."
   ]
  },
  {
   "cell_type": "markdown",
   "id": "4d0d67d6-c399-4e7b-8ee8-ca77047acf8e",
   "metadata": {
    "editable": false,
    "slideshow": {
     "slide_type": ""
    },
    "tags": []
   },
   "source": [
    "## Client and Agent AIDs Explained\n",
    "\n",
    "When you use Signify TS to connect to a KERIA agent, two primary AIDs are involved:\n",
    "\n",
    "1.  **Client AID**:\n",
    "    * This is an AID that *you* (or your application) control directly via the Signify TS client.\n",
    "    * It is a single signature AID.\n",
    "    * You hold its private keys.\n",
    "    * It's typically a transferable AID, allowing for key rotation.\n",
    "    * It acts as the **delegator** to the Agent AID.\n",
    "    * The rotation key index for this client AID is stored encrypted in the KERIA agent that the client pairs with.\n",
    "\n",
    "2.  **Agent AID**:\n",
    "    * This AID is created and managed by the KERIA service *on your behalf* when the request to the `/boot` endpoint is made with the Client AID's inception event.\n",
    "    * Its inception event specifies the Client AID as its delegator (`di` field in the inception event). This means the Agent AID's authority to act is derived from, and anchored to, your Client AID.\n",
    "    * It's also typically a transferable AID.\n",
    "    * The KERIA service uses this Agent AID to perform actions for your Client AID, such as acting as a communication proxy to interact with witnesses or other agents, without needing direct access to your Client AID's private keys.\n",
    "\n",
    "The Signify client generates the Client AID and sends its inception event to the KERIA agent's Boot Interface (on `/boot`). The KERIA service then creates the delegated Agent AID and returns its inception event to the client. Finally, the Signify client approves this delegation by sending an interaction event back to the KERIA agent's Admin Interface.\n",
    "\n",
    "This delegation model is fundamental to KERIA's security: your primary controlling keys (for the Client AID) remain \"at the edge,\" while the KERIA agent operates with a delegated authority (via the Agent AID) that is always traceable back to your Client AID."
   ]
  },
  {
   "cell_type": "markdown",
   "id": "f0a41aa9-8f48-49b4-ab9e-1b3be47aa43f",
   "metadata": {
    "editable": false,
    "slideshow": {
     "slide_type": ""
    },
    "tags": []
   },
   "source": [
    "## SignifyTS and SignifyPy - Signify Client Libraries\n",
    "\n",
    "There are currently two Signify protocol client library implementations, one in Typescript and one in Python. [SignifyTS](https://github.com/WebOfTrust/signify-ts) is the Typescript implementation whereas [SignifyPy](https://github.com/WebOfTrust/signifypy) is the Python implementation. The most up-to-date implementation is SignifyTS and is recommended to be used. SignifyPy would be usable with a modest amount of upgrade effort. A Rust client, [scir](https://github.com/WebOfTrust/scir) was started yet is currently mostly unfinished and should not be used.\n",
    "\n",
    "### SignifyTS, or Signify TS\n",
    "\n",
    "SignifyTS, also referred to as \"signify-ts\", is the Typescript implementation of the Signify client protocol and may be found at https://github.com/WebOfTrust/signify-ts.\n",
    "\n",
    "### SignifyPy, or Signify Py\n",
    "\n",
    "SignifyPy, also known as \"sigpy\", is the Python implementation of the Signify client protocol and was the original implementation of Signify and was used to drive initial creation of the KERIA server side of the Signify protocol. It may be found at https://github.com/WebOfTrust/signifypy."
   ]
  },
  {
   "cell_type": "markdown",
   "id": "4731e577-2be5-4745-ba78-bb24fb83c51d",
   "metadata": {
    "editable": false,
    "slideshow": {
     "slide_type": ""
    },
    "tags": []
   },
   "source": [
    "<div class=\"alert alert-primary\">\n",
    "  <b>📝 SUMMARY</b><hr>\n",
    "  <p>\n",
    "    The KERIA/Signify architecture enables \"signing at the edge,\" where a Signify client (like Signify TS) manages private keys and signing operations locally, while a remote KERIA agent handles ACDC storage, witness interactions, and KERI protocol communications. KERIA exposes three main HTTP endpoints:\n",
    "    <ul>\n",
    "        <li><b>Boot Interface:</b> For initial client-agent provisioning and creation of a delegated Agent AID.</li>\n",
    "        <li><b>Admin Interface:</b> A REST API for the client to command and control its agent (e.g., create AIDs, rotate keys).</li>\n",
    "        <li><b>KERI Protocol Interface:</b> For standard KERI message exchange with other agents and witnesses.</li>\n",
    "    </ul>\n",
    "    Endpoint role records, end roles, in KERI define verifiable authorizations for one AID to act in a specific capacity for another (e.g., an Agent AID acting in the 'agent' role for a Client AID).\n",
    "  </p>\n",
    "  <p>\n",
    "    The connection process involves a <b>Client AID</b> (controlled by the user via Signify) delegating authority to an <b>Agent AID</b> (managed by KERIA).\n",
    "  </p>\n",
    "    <p>SignifyTS and SignifyPy comprise the two implementations of the Signify client protocol that are usable with the recommendation being to use SignifyTS.</p>\n",
    "</div>"
   ]
  },
  {
   "cell_type": "markdown",
   "id": "34066e61-81ca-4ed4-a06c-9b108beada3a",
   "metadata": {
    "editable": false,
    "slideshow": {
     "slide_type": ""
    },
    "tags": []
   },
   "source": [
    "[<- Prev (ACDC Chained Credentials NI2I)](101_85_ACDC_Chained_Credentials_NI2I.ipynb) | [Next (KERIA Signify Basic Operations) ->](102_10_KERIA_Signify_Basic_Operations.ipynb)"
   ]
  }
 ],
 "metadata": {
  "kernelspec": {
   "display_name": "Deno",
   "language": "typescript",
   "name": "deno"
  },
  "language_info": {
   "codemirror_mode": "typescript",
   "file_extension": ".ts",
   "mimetype": "text/x.typescript",
   "name": "typescript",
   "nbconvert_exporter": "script",
   "pygments_lexer": "typescript",
   "version": "5.8.3"
  }
 },
 "nbformat": 4,
 "nbformat_minor": 5
}
