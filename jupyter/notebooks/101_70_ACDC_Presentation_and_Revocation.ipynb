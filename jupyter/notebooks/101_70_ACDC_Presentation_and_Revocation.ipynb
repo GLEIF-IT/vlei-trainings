{
 "cells": [
  {
   "cell_type": "markdown",
   "id": "3c8f152b-69e5-438f-b53d-e921c578f3da",
   "metadata": {
    "editable": false,
    "slideshow": {
     "slide_type": ""
    },
    "tags": []
   },
   "source": [
    "# ACDC Presentation and Revocation with KLI: Using the IPEX Protocol"
   ]
  },
  {
   "cell_type": "markdown",
   "id": "1b06915c-8bd9-4cf8-8568-c454cb862fd7",
   "metadata": {
    "editable": false,
    "slideshow": {
     "slide_type": ""
    },
    "tags": []
   },
   "source": [
    "<div class=\"alert alert-primary\">\n",
    "<b>🎯 OBJECTIVE</b><hr>\n",
    "Demonstrate how a Holder presents a previously issued ACDC or Verifiable Credential (VC) to a Verifier using the Issuance and Presentation Exchange (IPEX) protocol.<br/>\n",
    "<br/>\n",
    "Understand how IPEX allows credential holders (issuees) to sign that they agree with the terms of a credential.<br/>\n",
    "<br/>\n",
    "Conduct a credential revocation and present a revoked credential as an issuer so the holder may learn that a credential they hold has been revoked. Learn that observer infrastructure may be used for pull-style monitoring of credential revocation state.\n",
    "</div>"
   ]
  },
  {
   "cell_type": "markdown",
   "id": "601b59de-8f4b-46bf-a868-d378fe462eca",
   "metadata": {
    "editable": false,
    "slideshow": {
     "slide_type": ""
    },
    "tags": []
   },
   "source": [
    "## Credential Presentation Overview\n",
    "\n",
    "In the previous notebook, you saw how an Issuer creates and sends an ACDC to a Holder. Now, we'll focus on the next steps in the typical verifiable credential lifecycle: presentation and admittance.\n",
    "\n",
    "After creating the credential the Issuer must present it to the Holder. In IPEX this presentation is called an IPEX Grant message. After receiving the IPEX Grant message the Holder can then accept the credential by performing an IPEX Admit message. In the prior training this Grant and Admit process were explained.\n",
    "\n",
    "In this training, following the reception of a credential, the Holder will present it to another party (the Verifier) to prove certain claims or gain access to something. You will again use the IPEX protocol for this exchange, but this time initiated by the Holder. Finally, you will see how the original Issuer can revoke the credential."
   ]
  },
  {
   "cell_type": "markdown",
   "id": "faf4d896-39f8-4c9b-b42e-5a33cd280e1a",
   "metadata": {
    "editable": false,
    "slideshow": {
     "slide_type": ""
    },
    "tags": []
   },
   "source": [
    "### Recap: Issuing the Prerequisite Credential\n",
    "\n",
    "To present a credential, you first need one! The following code block is a condensed recap of the ACDC Issuance workflow covered in the previous notebook. It quickly sets up an Issuer and a Holder, creates a Credential Registry, defines and resolves a schema, issues an `EventPass` credential from the Issuer to the Holder using IPEX, and ensures the Holder admits it.\n",
    "\n",
    "<div class=\"alert alert-info\">\n",
    "<b>ℹ️ NOTE:</b><hr> \n",
    "For a detailed explanation of these issuance steps, please refer to the previous notebook.\n",
    "</div>"
   ]
  },
  {
   "cell_type": "code",
   "execution_count": null,
   "id": "f2b8cee2-1b47-44d3-b8e3-4916f426cda8",
   "metadata": {
    "editable": false,
    "slideshow": {
     "slide_type": ""
    },
    "tags": []
   },
   "outputs": [],
   "source": [
    "from scripts.utils import exec\n",
    "from scripts.saidify import process_schema_file, get_schema_said\n",
    "from scripts.utils import pr_title, pr_message, pr_continue, clear_keri\n",
    "\n",
    "clear_keri()\n",
    "\n",
    "# Holder keystore init and AID inception\n",
    "\n",
    "holder_keystore_name = \"holder_presentation_ks\"\n",
    "holder_keystore_passcode = exec(\"kli passcode generate\")\n",
    "holder_keystore_salt = exec(\"kli salt\")\n",
    "holder_aid = \"holder_aid\"\n",
    "\n",
    "!kli init --name {holder_keystore_name} --passcode {holder_keystore_passcode} --salt {holder_keystore_salt}\\\n",
    "    --config-dir ./config \\\n",
    "    --config-file keystore_init_config.json\n",
    "\n",
    "!kli incept --name {holder_keystore_name} --alias {holder_aid} --passcode {holder_keystore_passcode} \\\n",
    "    --file ./config/aid_inception_config.json\n",
    "\n",
    "# Issuer keystore init and AID inception\n",
    "issuer_keystore_name = \"issuer_presentation_ks\"\n",
    "issuer_keystore_passcode = exec(\"kli passcode generate\")\n",
    "issuer_keystore_salt = exec(\"kli salt\")\n",
    "issuer_aid = \"issuer_aid\"\n",
    "\n",
    "!kli init --name {issuer_keystore_name} --passcode {issuer_keystore_passcode} --salt {issuer_keystore_salt}\\\n",
    "    --config-dir ./config \\\n",
    "    --config-file keystore_init_config.json\n",
    "\n",
    "!kli incept --name {issuer_keystore_name} --passcode {issuer_keystore_passcode} --alias {issuer_aid}\\\n",
    "    --file ./config/aid_inception_config.json\n",
    "\n",
    "# Issuer registry inception\n",
    "issuer_registry_name=\"issuer_registry\"\n",
    "\n",
    "!kli vc registry incept --name {issuer_keystore_name} \\\n",
    "    --passcode {issuer_keystore_passcode} \\\n",
    "    --registry-name {issuer_registry_name} \\\n",
    "    --alias {issuer_aid}\n",
    "\n",
    "# Issuer and Holder oobi\n",
    "\n",
    "holder_oobi_gen = f\"kli oobi generate --name {holder_keystore_name} --alias {holder_aid}\\\n",
    "  --passcode {holder_keystore_passcode} --role witness\"\n",
    "holder_oobi = exec(holder_oobi_gen)\n",
    "\n",
    "issuer_oobi_gen = f\"kli oobi generate --name {issuer_keystore_name} --alias {issuer_aid}\\\n",
    "  --passcode {issuer_keystore_passcode} --role witness\"\n",
    "issuer_oobi = exec(issuer_oobi_gen)\n",
    "\n",
    "!kli oobi resolve --name {holder_keystore_name} --passcode {holder_keystore_passcode}\\\n",
    "  --oobi-alias {issuer_aid} --oobi {issuer_oobi}\n",
    "\n",
    "!kli oobi resolve --name {issuer_keystore_name} --passcode {issuer_keystore_passcode}\\\n",
    "  --oobi-alias {holder_aid} --oobi {holder_oobi}\n",
    "\n",
    "# Issuer and Holder resolve schema oobis\n",
    "schema_oobi_alias = \"schema_oobi\"\n",
    "schema_said = get_schema_said(\"config/schemas/event_pass_schema.json\")\n",
    "schema_oobi = f\"http://vlei-server:7723/oobi/{schema_said}\"\n",
    "\n",
    "!kli oobi resolve --name {holder_keystore_name} --passcode {holder_keystore_passcode}\\\n",
    "    --oobi-alias {schema_oobi_alias} --oobi {schema_oobi}\n",
    "\n",
    "!kli oobi resolve --name {issuer_keystore_name} --passcode {issuer_keystore_passcode}\\\n",
    "    --oobi-alias {schema_oobi_alias} --oobi {schema_oobi}\n",
    "\n",
    "# Issuer create VC\n",
    "time = exec(\"kli time\")\n",
    "\n",
    "!kli vc create --name {issuer_keystore_name} --passcode {issuer_keystore_passcode} \\\n",
    "    --alias {issuer_aid} \\\n",
    "    --registry-name {issuer_registry_name} \\\n",
    "    --schema {schema_said} \\\n",
    "    --recipient {holder_aid} \\\n",
    "    --data \"@./config/credential_data/event_pass_cred_data.json\" \\\n",
    "    --time {time}\n",
    "\n",
    "# Get credential said\n",
    "get_credential_said = f\"kli vc list --name {issuer_keystore_name}\\\n",
    "  --passcode {issuer_keystore_passcode} --alias {issuer_aid}\\\n",
    "  --issued --said --schema {schema_said}\"\n",
    "credential_said=exec(get_credential_said)\n",
    "\n",
    "#Issuer grant credential\n",
    "time = exec(\"kli time\")\n",
    "\n",
    "!kli ipex grant \\\n",
    "    --name {issuer_keystore_name} --passcode {issuer_keystore_passcode} \\\n",
    "    --alias {issuer_aid} \\\n",
    "    --said {credential_said} \\\n",
    "    --recipient {holder_aid} \\\n",
    "    --time {time}\n",
    "\n",
    "# Holder poll and admit credential\n",
    "\n",
    "get_ipex_said=f\"kli ipex list --name {holder_keystore_name} --passcode {holder_keystore_passcode}\\\n",
    "  --alias {holder_aid} --poll --said\"\n",
    "ipex_said=exec(get_ipex_said)\n",
    "\n",
    "time = exec(\"kli time\")\n",
    "\n",
    "!kli ipex admit \\\n",
    "    --name {holder_keystore_name} \\\n",
    "    --passcode {holder_keystore_passcode} \\\n",
    "    --alias {holder_aid} \\\n",
    "    --said {ipex_said} \\\n",
    "    --time {time}\n",
    "\n",
    "pr_continue()"
   ]
  },
  {
   "cell_type": "markdown",
   "id": "691acd02-d77c-4112-82a8-2132f1db5cbe",
   "metadata": {
    "editable": false,
    "slideshow": {
     "slide_type": ""
    },
    "tags": []
   },
   "source": [
    "## The IPEX Presentation Flow\n",
    "\n",
    "Now that the Holder (`holder_aid`) possesses the `EventPass` credential, you must present it to a Verifier (`verifier_aid`) to prove they have access.\n",
    "\n",
    "First, confirm the Holder has the credential:"
   ]
  },
  {
   "cell_type": "code",
   "execution_count": null,
   "id": "4f249599-c3c2-45b5-a640-bf141f70fd0c",
   "metadata": {
    "editable": false,
    "slideshow": {
     "slide_type": ""
    },
    "tags": []
   },
   "outputs": [],
   "source": [
    "!kli vc list  --name {holder_keystore_name} \\\n",
    "    --passcode {holder_keystore_passcode} \\\n",
    "    --verbose"
   ]
  },
  {
   "cell_type": "markdown",
   "id": "b9bdf51d-06f1-4265-9c01-68836445110b",
   "metadata": {
    "editable": false,
    "slideshow": {
     "slide_type": ""
    },
    "tags": []
   },
   "source": [
    "### Verifier AID Setup\n",
    "\n",
    "Just like the Issuer and Holder, the Verifier needs its own AID to participate in the protocol securely. Initialize its keystore and incept its AID."
   ]
  },
  {
   "cell_type": "code",
   "execution_count": null,
   "id": "700a56a8-6e84-44ac-89e4-b39e914f417e",
   "metadata": {
    "editable": false,
    "slideshow": {
     "slide_type": ""
    },
    "tags": []
   },
   "outputs": [],
   "source": [
    "verifier_keystore_name=\"verifier_ks\"\n",
    "\n",
    "verifier_keystore_passcode = exec(\"kli passcode generate\")\n",
    "\n",
    "verifier_keystore_salt = exec(\"kli salt\")\n",
    "# Alias for our non-transferable AID\n",
    "verifier_aid = \"verifier_aid\"\n",
    "\n",
    "# Initialize the keystore\n",
    "!kli init --name {verifier_keystore_name} --passcode {verifier_keystore_passcode} --salt {verifier_keystore_salt}\\\n",
    "    --config-dir ./config \\\n",
    "    --config-file keystore_init_config.json\n",
    "\n",
    "!kli incept --name {verifier_keystore_name} --alias {verifier_aid} --passcode {verifier_keystore_passcode} \\\n",
    "    --file ./config/aid_inception_config.json"
   ]
  },
  {
   "cell_type": "markdown",
   "id": "5e516355-75bc-4b5a-b44f-be1d668f87a9",
   "metadata": {
    "editable": false,
    "slideshow": {
     "slide_type": ""
    },
    "tags": []
   },
   "source": [
    "### Establishing Holder-Verifier Connection (OOBI)\n",
    "\n",
    "Similar to the Issuer/Holder exchange, the Holder and Verifier must exchange and resolve OOBIs to establish a secure communication channel and verify each other's key states (KELs)."
   ]
  },
  {
   "cell_type": "code",
   "execution_count": null,
   "id": "e93fa97a-52d8-48ac-b2eb-f695b167bda5",
   "metadata": {
    "editable": false,
    "slideshow": {
     "slide_type": ""
    },
    "tags": []
   },
   "outputs": [],
   "source": [
    "holder_oobi_gen = f\"kli oobi generate --name {holder_keystore_name} --alias {holder_aid}\\\n",
    "    --passcode {holder_keystore_passcode} --role witness\"\n",
    "holder_oobi = exec(holder_oobi_gen)\n",
    "\n",
    "verifier_oobi_gen = f\"kli oobi generate --name {verifier_keystore_name} --alias {verifier_aid}\\\n",
    "    --passcode {verifier_keystore_passcode} --role witness\"\n",
    "verifier_oobi = exec(verifier_oobi_gen)\n",
    "\n",
    "!kli oobi resolve --name {holder_keystore_name} --passcode {holder_keystore_passcode}\\\n",
    "    --oobi-alias {verifier_aid} --oobi {verifier_oobi}\n",
    "\n",
    "!kli oobi resolve --name {verifier_keystore_name} --passcode {verifier_keystore_passcode}\\\n",
    "    --oobi-alias {holder_aid} --oobi {holder_oobi}"
   ]
  },
  {
   "cell_type": "markdown",
   "id": "945baa5f-c4da-454a-889a-e41b7752d0cc",
   "metadata": {
    "editable": false,
    "slideshow": {
     "slide_type": ""
    },
    "tags": []
   },
   "source": [
    "### Verifier Resolves Schema OOBI\n",
    "\n",
    "The Verifier also needs to resolve the OOBI for the ACDC's schema (`event_pass_schema`). This allows the Verifier to retrieve the schema definition and validate that the presented credential conforms to the expected structure and data types. Without the schema, the Verifier wouldn't know how to interpret or validate the credential's content."
   ]
  },
  {
   "cell_type": "code",
   "execution_count": null,
   "id": "1e425649-14f0-4641-aad3-b36471957d50",
   "metadata": {
    "editable": false,
    "slideshow": {
     "slide_type": ""
    },
    "tags": []
   },
   "outputs": [],
   "source": [
    "!kli oobi resolve --name {verifier_keystore_name} --passcode {verifier_keystore_passcode}\\\n",
    "    --oobi-alias {schema_oobi_alias} --oobi {schema_oobi}"
   ]
  },
  {
   "cell_type": "markdown",
   "id": "bc4f48db-6131-43b0-b955-43c32e836f96",
   "metadata": {
    "editable": false,
    "slideshow": {
     "slide_type": ""
    },
    "tags": []
   },
   "source": [
    "### Step 1: Holder Presents Credential (Grant)\n",
    "\n",
    "Now, the Holder initiates the IPEX exchange to present the credential to the Verifier. The Holder acts as the \"Discloser\" in this context. The command used is `kli ipex grant`, just like in issuance, but the IPEX roles are reversed so the Holder is the discloser and the Verifier is the disclosee.\n",
    "\n",
    "- `--name`, `--passcode`, `--alias`: Identify the Holder's keystore and AID.\n",
    "- `--said`: The SAID of the credential being presented.\n",
    "- `--recipient`: The AID of the Verifier who should receive the presentation.\n",
    "- `--time`: A timestamp for the grant message.\n",
    "\n",
    "This sends an IPEX Grant message, effectively offering the credential presentation to the Verifier.\n",
    "\n",
    "<div class=\"alert alert-info\">\n",
    "<b>ℹ️ NOTE: on <code>--time</code></b><hr> \n",
    "Including the time <code>--time</code> argument is only necessary when performing multisignature operations. It is shown below for illustrative purposes only. \n",
    "    \n",
    "This argument is necessary for multisignature operations because each participating controller must produce the exact same event, in this case an IPEX Grant message, as all the other members of a multisig group. Since a timestamp is one of the attributes in an IPEX Grant message then in order to produce the exact same event, and thereby the same event digest, the same value for a timestamp must be used by each controller when constructing the event. At the command line this is provided with the `--time` argument to the `kli ipex grant` command.\n",
    "\n",
    "You will notice the output value of the `kli time` command is used in various places in these Jupyter notebooks. The necessity of the `--time` command is the same for each context; it is only applicable to multi-signature operations.\n",
    "</div>"
   ]
  },
  {
   "cell_type": "code",
   "execution_count": null,
   "id": "128c6fe2-5858-4ae1-9174-ccf434da5d13",
   "metadata": {
    "editable": false,
    "slideshow": {
     "slide_type": ""
    },
    "tags": []
   },
   "outputs": [],
   "source": [
    "time = exec(\"kli time\")\n",
    "\n",
    "!kli ipex grant \\\n",
    "    --name {holder_keystore_name} \\\n",
    "    --passcode {holder_keystore_passcode} \\\n",
    "    --alias {holder_aid} \\\n",
    "    --said {credential_said} \\\n",
    "    --recipient {verifier_aid} \\\n",
    "    --time {time}"
   ]
  },
  {
   "cell_type": "markdown",
   "id": "fb7bad72-9a6b-404d-bc43-2ca7105ca64f",
   "metadata": {
    "editable": false,
    "slideshow": {
     "slide_type": ""
    },
    "tags": []
   },
   "source": [
    "Receiving the Grant message triggers the Verifier's KERI controller to perform several checks automatically:\n",
    "\n",
    "- Schema Validation: Checks whether the credential structure and data types match the resolved schema.\n",
    "- Issuer Authentication: Verifies the credential signature against the Issuer's KEL (previously retrieved via OOBI) and, importantly, checks the credential's status (e.g., not revoked) against the Issuer's registry (TEL).\n",
    "\n",
    "If all checks pass, the Verifier may admit the ACDC, store the validated credential information, and send an IPEX Admit message back to the Holder."
   ]
  },
  {
   "cell_type": "markdown",
   "id": "445decdb-099c-43ac-81c0-6517e0485d61",
   "metadata": {
    "editable": false,
    "slideshow": {
     "slide_type": ""
    },
    "tags": []
   },
   "source": [
    "### Step 2: Verifier Receives Presentation\n",
    "\n",
    "The Verifier needs to check its KERI mailbox(es) for the incoming grant message containing the credential presentation.\n",
    "\n",
    "Use `kli ipex list --poll` to check the mailbox(es) and extract the SAID of the IPEX Grant message."
   ]
  },
  {
   "cell_type": "code",
   "execution_count": null,
   "id": "689e8f13-6472-4dad-869c-56239f3f0064",
   "metadata": {
    "editable": false,
    "slideshow": {
     "slide_type": ""
    },
    "tags": []
   },
   "outputs": [],
   "source": [
    "get_ipex_said=f\"kli ipex list --name {verifier_keystore_name} --passcode {verifier_keystore_passcode}\\\n",
    "    --alias {verifier_aid} --poll --said\"\n",
    "ipex_said=exec(get_ipex_said)\n",
    "\n",
    "print(ipex_said)\n",
    "\n",
    "pr_continue()"
   ]
  },
  {
   "cell_type": "markdown",
   "id": "ac184697-1f15-4d20-8895-1d599e0a5091",
   "metadata": {
    "editable": false,
    "slideshow": {
     "slide_type": ""
    },
    "tags": []
   },
   "source": [
    "**Verifier displays credential (Optional)**\n",
    "\n",
    "Before formally admitting the credential, the Verifier can inspect the received presentation using `kli ipex list --verbose`. This shows the credential details and the status of the IPEX exchange."
   ]
  },
  {
   "cell_type": "code",
   "execution_count": null,
   "id": "86d7376c-f608-4bee-aa5a-fe88adee6722",
   "metadata": {
    "editable": false,
    "slideshow": {
     "slide_type": ""
    },
    "tags": []
   },
   "outputs": [],
   "source": [
    "!kli ipex list \\\n",
    "    --name {verifier_keystore_name} \\\n",
    "    --passcode {verifier_keystore_passcode} \\\n",
    "    --alias {verifier_aid} \\\n",
    "    --verbose"
   ]
  },
  {
   "cell_type": "markdown",
   "id": "14574aea-5661-4029-b2ea-cdccde639182",
   "metadata": {
    "editable": false,
    "slideshow": {
     "slide_type": ""
    },
    "tags": []
   },
   "source": [
    "The status of the credential is shown by `Already responded? No ✘` meaning that an IPEX Admit from the Verifier to the Holder has not yet been sent."
   ]
  },
  {
   "cell_type": "markdown",
   "id": "cb7ff90f-1a7f-465e-917c-22197eb90e9b",
   "metadata": {
    "editable": false,
    "slideshow": {
     "slide_type": ""
    },
    "tags": []
   },
   "source": [
    "### Step 3: Verifier Admits and Validates Presentation (Agreeing to Terms)\n",
    "\n",
    "An admit is not strictly necessary between the verifier and the holder, though sending an admit is one way the Verifier signals to the holder that the verifier agrees to the terms of the credential presentation. The terms in the credential are specified in the rules section.\n",
    "\n",
    "The Verifier uses the `kli ipex admit` command to accept the presentation.\n"
   ]
  },
  {
   "cell_type": "code",
   "execution_count": null,
   "id": "803a9ff4-6eb2-4675-9a58-07d1cab8cc60",
   "metadata": {
    "editable": false,
    "slideshow": {
     "slide_type": ""
    },
    "tags": []
   },
   "outputs": [],
   "source": [
    "time = exec(\"kli time\")\n",
    "\n",
    "!kli ipex admit \\\n",
    "    --name {verifier_keystore_name} \\\n",
    "    --passcode {verifier_keystore_passcode} \\\n",
    "    --alias {verifier_aid} \\\n",
    "    --said {ipex_said} \\\n",
    "    --time {time}"
   ]
  },
  {
   "cell_type": "markdown",
   "id": "a1ec6eb3-8a87-4de5-9907-129c93f490e1",
   "metadata": {
    "editable": false,
    "slideshow": {
     "slide_type": ""
    },
    "tags": []
   },
   "source": [
    "**Verifier Confirms Admission**\n",
    "\n",
    "Finally, the Verifier can check the status of the received IPEX message again. The Already responded? field should now show Yes ✔ and indicate the response was Admit, confirming the successful presentation and validation."
   ]
  },
  {
   "cell_type": "code",
   "execution_count": null,
   "id": "d8ddfd0a-14ee-44be-87ff-7111375399df",
   "metadata": {
    "editable": false,
    "slideshow": {
     "slide_type": ""
    },
    "tags": []
   },
   "outputs": [],
   "source": [
    "!kli ipex list \\\n",
    "    --name {verifier_keystore_name} \\\n",
    "    --passcode {verifier_keystore_passcode} \\\n",
    "    --alias {verifier_aid} \\\n",
    "    --verbose"
   ]
  },
  {
   "cell_type": "markdown",
   "id": "e12486b7-43a8-4672-afca-0335cbf57334",
   "metadata": {
    "editable": false,
    "slideshow": {
     "slide_type": ""
    },
    "tags": []
   },
   "source": [
    "## Credential Revocation by Issuer\n",
    "\n",
    "Credentials may need to be invalidated before their natural expiry (if any). This process is called revocation. In KERI/ACDC, revocation is performed by the original Issuer of the credential. The Issuer records a revocation event in the credential registry's Transaction Event Log (TEL), which is anchored to the Issuer's main KEL.\n",
    "\n",
    "The `kli vc revoke` command is used by the Issuer:\n",
    "\n",
    "- `--name`, `--passcode`, `--alias`: Identify the Issuer's keystore and AID.\n",
    "- `--registry-name`: Specifies the registry where the credential's status is managed.\n",
    "- `--said`: The SAID of the specific credential instance to be revoked.\n",
    "- `--time`: Timestamp for the revocation event."
   ]
  },
  {
   "cell_type": "code",
   "execution_count": null,
   "id": "6310149a-f9a5-4e82-a84b-10f90ec664c8",
   "metadata": {
    "editable": false,
    "slideshow": {
     "slide_type": ""
    },
    "tags": []
   },
   "outputs": [],
   "source": [
    "!kli vc revoke --name {issuer_keystore_name} --passcode {issuer_keystore_passcode} \\\n",
    "    --alias {issuer_aid} \\\n",
    "    --registry-name {issuer_registry_name} \\\n",
    "    --said {credential_said} \\\n",
    "    --time {time}"
   ]
  },
  {
   "cell_type": "markdown",
   "id": "094ac4b4-dafc-4121-87f6-80fa2fae4931",
   "metadata": {
    "editable": false,
    "slideshow": {
     "slide_type": ""
    },
    "tags": []
   },
   "source": [
    "Now, if the Issuer lists their issued credentials again, the status will reflect the revocation:"
   ]
  },
  {
   "cell_type": "code",
   "execution_count": null,
   "id": "bd7f6b8a-1519-4919-a9ee-b27b513254a8",
   "metadata": {
    "editable": false,
    "slideshow": {
     "slide_type": ""
    },
    "tags": []
   },
   "outputs": [],
   "source": [
    "!kli vc list --name {issuer_keystore_name} --passcode {issuer_keystore_passcode} \\\n",
    "    --alias {issuer_aid} \\\n",
    "    --issued"
   ]
  },
  {
   "cell_type": "markdown",
   "id": "25b3e476-ca7a-4a00-b186-21a5d1bc3449",
   "metadata": {
    "editable": false,
    "slideshow": {
     "slide_type": ""
    },
    "tags": []
   },
   "source": [
    "### Sharing the revoked credential status with the Holder.\n",
    "Revoking a credential is an important event that should be shared with verifiers. One way to share a revocation with a verifier is to share the revocation of a credential with the Holder. After the Holder receives that revoked credential status then it can re-present the revoked credential to a verifier so that the verifier may know the credential is revoked.\n",
    "\n",
    "To accomplish this sharing of revocation state the issuer may perform another IPEX Grant of the credential following revocation. Then the Holder must again perform an IPEX Admit in order to learn of this revocation state.\n",
    "\n",
    "<div class=\"alert alert-info\">\n",
    "<b>ℹ️ NOTE: Observers for Learning of Revocation State</b><hr> \n",
    "Use of an Observer node to learn of an ACDC credential state is another way for a verifier to learn of the revocation state of a credential. While standalone observers are under development, a witness of a controller may be used to query for credential state using the following request format:\n",
    "<br/><br/>\n",
    "<b>`HTTP GET`</b> to a witness host on the `/query` endpoint with URL parameters like so:\n",
    "\n",
    "- `/query?typ=tel&amp;reg=EHrbPfpRLU9wpFXTzGY-LIo2FjMiljjEnt238eWHb7yZ&amp;vcid=EO5y0jMXS5XKTYBKjCUPmNKPr1FWcWhtKwB2Go2ozvr0`\n",
    "\n",
    "A full query to a witness would look like so:\n",
    "- `https://wit1.testnet.gleif.org:5641/query?typ=tel&reg=EHrbPfpRLU9wpFXTzGY-LIo2FjMiljjEnt238eWHb7yZ&vcid=EO5y0jMXS5XKTYBKjCUPmNKPr1FWcWhtKwB2Go2ozvr0`\n",
    "</div>"
   ]
  },
  {
   "cell_type": "markdown",
   "id": "1660a5ea-de0a-4fe2-a0fa-3b84b79e60ff",
   "metadata": {
    "editable": false,
    "slideshow": {
     "slide_type": ""
    },
    "tags": []
   },
   "source": [
    "### Presenting a revoked credential\n",
    "\n",
    "Now the holder can present the revoked credential to the verifier and the verifier can understand that the credential is revoke.\n",
    "\n",
    "#### Step 1: Issuer Sends revocation status with IPEX\n",
    "\n",
    "An issuer may directly inform a holder using another IPEX Grant about the revocation status of any credential issued from itself. \n",
    "\n",
    "<div class=\"alert alert-info\">\n",
    "<b>ℹ️ NOTE: Observers for querying credential status</b><hr> \n",
    "Waiting for an issuer to send credential revocation status is not the only way a holder can learn about whether or not a credential has been revoked. \n",
    "    \n",
    "<b>Observers</b> are another way a verifier or a holder can learn of the credential status, issued or revoked, from an issuer. Currently, as of June 16, 2025, observers are in an early phase in their development and are deployed as a feature on an issuer's witness. Eventually observers will be standalone components.\n",
    "</div>"
   ]
  },
  {
   "cell_type": "code",
   "execution_count": null,
   "id": "5ad61efe-eaa4-4cde-867f-1a851936ae98",
   "metadata": {
    "editable": false,
    "slideshow": {
     "slide_type": ""
    },
    "tags": []
   },
   "outputs": [],
   "source": [
    "# Issuer grants the now revoked credential\n",
    "time = exec(\"kli time\")\n",
    "\n",
    "!kli ipex grant \\\n",
    "    --name {issuer_keystore_name} --passcode {issuer_keystore_passcode} \\\n",
    "    --alias {issuer_aid} \\\n",
    "    --said {credential_said} \\\n",
    "    --recipient {holder_aid} \\\n",
    "    --time {time}"
   ]
  },
  {
   "cell_type": "markdown",
   "id": "7b937a08-0eb4-4382-9878-02d34cb7edbc",
   "metadata": {
    "editable": false,
    "slideshow": {
     "slide_type": ""
    },
    "tags": []
   },
   "source": [
    "#### Step 2: Holder Admits IPEX Grant of revoked credential\n",
    "\n",
    "Now the holder admits the IPEX Grant from the issuer of the recently revoked credential.\n"
   ]
  },
  {
   "cell_type": "code",
   "execution_count": null,
   "id": "4947a356-d739-4949-b8fc-004f93d2ae63",
   "metadata": {
    "editable": false,
    "slideshow": {
     "slide_type": ""
    },
    "tags": []
   },
   "outputs": [],
   "source": [
    "# Holder polls and admits the revoked credential\n",
    "# The pipe to \"tail -n 1\" makes sure to get the last IPEX Grant which will be the grant sharing the re\n",
    "get_ipex_said=f\"kli ipex list --name {holder_keystore_name} --passcode {holder_keystore_passcode}\\\n",
    "  --alias {holder_aid} --poll --said | tail -n 1 | tr -d '' \"\n",
    "ipex_said=exec(get_ipex_said)\n",
    "\n",
    "print(f\"Found grant {ipex_said} for revocation\")\n",
    "\n",
    "time = exec(\"kli time\")\n",
    "\n",
    "!kli ipex admit \\\n",
    "    --name {holder_keystore_name} \\\n",
    "    --passcode {holder_keystore_passcode} \\\n",
    "    --alias {holder_aid} \\\n",
    "    --said {ipex_said} \\\n",
    "    --time {time}\n",
    "\n",
    "pr_continue()"
   ]
  },
  {
   "cell_type": "markdown",
   "id": "2d335d7c-4762-403e-ad52-3ee50e106010",
   "metadata": {
    "editable": false,
    "slideshow": {
     "slide_type": ""
    },
    "tags": []
   },
   "source": [
    "The holder now sees the credential status as \"Revoked\" in their credential list shown by `kli vc list.`"
   ]
  },
  {
   "cell_type": "code",
   "execution_count": null,
   "id": "4402fbb8-815c-4a86-882b-3013ff63e7ab",
   "metadata": {
    "editable": false,
    "slideshow": {
     "slide_type": ""
    },
    "tags": []
   },
   "outputs": [],
   "source": [
    "!kli vc list --name {holder_keystore_name} --passcode {holder_keystore_passcode} \\\n",
    "    --alias {holder_aid}"
   ]
  },
  {
   "cell_type": "markdown",
   "id": "87741f84-225b-4a23-a419-c76dbf3fae7d",
   "metadata": {
    "editable": false,
    "slideshow": {
     "slide_type": ""
    },
    "tags": []
   },
   "source": [
    "Now that this credential is revoked it can similarly be presented to the verifier from either the issuer or the holder so that the verifier can learn of the revocation state of the credential. This would be a push-style workflow.\n",
    "\n",
    "Arguably a pull-style approach is better for verifiers where they query the issuer, or some other infrastructure, to learn of the revocation state of credentials, similar to checking certificate revocation lists ([CRLs](https://en.wikipedia.org/wiki/Certificate_revocation_list)) in the x509 TLS certificate model. Using **observer** infrastructure is the best way to accomplish pull-style querying for credential state. \n",
    "\n",
    "As of the writing of this training the only functional observer implementation is combined with witnesses as describe above in the note to the [Sharing the revoked credential status with the Holder](#Sharing-the-revoked-credential-status-with-the-Holder.) section."
   ]
  },
  {
   "cell_type": "markdown",
   "id": "eedb0b73-06b6-492d-a56c-bff2dac0e0f6",
   "metadata": {
    "editable": false,
    "slideshow": {
     "slide_type": ""
    },
    "tags": []
   },
   "source": [
    "<div class=\"alert alert-primary\">\n",
    "<b>📝 SUMMARY</b><hr>\n",
    "This notebook demonstrated the ACDC presentation and revocation flows:\n",
    "<ol>\n",
    "    <li><b>Prerequisites:</b> We started with a Holder possessing an issued credential from an Issuer (established via the recap section).</li>\n",
    "    <li><b>Verifier Setup:</b> A Verifier established its KERI identity (AID).</li>\n",
    "    <li><b>Connectivity:</b> The Holder and Verifier exchanged and resolved OOBIs. The Verifier also resolved the credential's schema OOBI to enable validation.</li>\n",
    "    <li><b>Presentation (IPEX):</b>\n",
    "<ul>\n",
    "    <li>Holder initiated the presentation using kli ipex grant, sending the credential to the Verifier.</li>\n",
    "    <li>Verifier polled its mailbox (kli ipex list --poll) to receive the presentation.</li>\n",
    "    <li>Verifier accepted and validated the presentation using kli ipex admit. Validation included schema checks, issuer authentication (KEL), and registry status checks (TEL).</li>\n",
    "</ul>\n",
    "</li>\n",
    "<li><b>Revocation:</b>\n",
    "<ul>\n",
    "    <li>The original Issuer revoked the credential using kli vc revoke, updating the status in the credential registry's TEL.</li>\n",
    "    <li>The Issuer then presented via IPEX Grant the revoked credential to the Holder.</li>    \n",
    "    <li>The Holder then received the revoked credential via IPEX Admit.</li>\n",
    "</ul>\n",
    "</li>\n",
    "</ol>\n",
    "Observers were mentioned as pull-style infrastructure for verifiers, or anyone else, to learn of credential revocation state.\n",
    "<br/><br/>\n",
    "This completes the basic lifecycle demonstration: issuance (previous notebook), presentation, and revocation, all handled securely using KERI identities and the IPEX protocol.\n",
    "</div>"
   ]
  },
  {
   "cell_type": "markdown",
   "id": "373cb596-d079-4da2-b188-4132d034cdaa",
   "metadata": {
    "editable": false,
    "slideshow": {
     "slide_type": ""
    },
    "tags": []
   },
   "source": [
    "[<- Prev (ACDC Issuance)](101_65_ACDC_Issuance.ipynb) | [Next (ACDC Edges and Rules) ->](101_75_ACDC_Edges_and_Rules.ipynb)"
   ]
  }
 ],
 "metadata": {
  "kernelspec": {
   "display_name": "Python 3 (ipykernel)",
   "language": "python",
   "name": "python3"
  },
  "language_info": {
   "codemirror_mode": {
    "name": "ipython",
    "version": 3
   },
   "file_extension": ".py",
   "mimetype": "text/x-python",
   "name": "python",
   "nbconvert_exporter": "python",
   "pygments_lexer": "ipython3",
   "version": "3.12.9"
  }
 },
 "nbformat": 4,
 "nbformat_minor": 5
}
